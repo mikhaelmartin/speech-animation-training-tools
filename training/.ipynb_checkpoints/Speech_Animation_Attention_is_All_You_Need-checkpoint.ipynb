{
 "cells": [
  {
   "cell_type": "markdown",
   "metadata": {
    "id": "J0Qjg6vuaHNt"
   },
   "source": [
    "## Import Modules"
   ]
  },
  {
   "cell_type": "code",
   "execution_count": null,
   "metadata": {
    "id": "JjJJyJTZYebt"
   },
   "outputs": [],
   "source": [
    "# import tensorflow_datasets as tfds\n",
    "import tensorflow as tf\n",
    "import os\n",
    "import time\n",
    "import pandas as pd\n",
    "import numpy as np\n",
    "import matplotlib.pyplot as plt\n",
    "from math import ceil,floor\n",
    "from IPython.display import clear_output\n",
    "\n",
    "plt.style.use('fivethirtyeight')\n",
    "# plt.style.use('dark_background')"
   ]
  },
  {
   "cell_type": "markdown",
   "metadata": {
    "id": "GEo-NYucwJRH"
   },
   "source": [
    "## Get data\n"
   ]
  },
  {
   "cell_type": "code",
   "execution_count": null,
   "metadata": {
    "colab": {
     "base_uri": "https://localhost:8080/"
    },
    "id": "8U3dVMnfwQAt",
    "outputId": "341ce60c-a391-4d74-8f04-ec0b93626a92"
   },
   "outputs": [
    {
     "name": "stdout",
     "output_type": "stream",
     "text": [
      "train X shape: (109148, 10, 13) Y shape: (109148, 51)\n",
      "test X shape: (27324, 10, 13) Y shape: (27324, 51)\n",
      "train x min: -443.8 x max: 183.1\n",
      "train y min: -11.56 y max: 8.266\n"
     ]
    }
   ],
   "source": [
    "# load data. input is a seq. output is single step data\n",
    "# TODO multi speaker data load\n",
    "X_train = np.load(\"/home/alkhemi/Documents/thesis/npy_data/s01_X_train.npy\")\n",
    "Y_train = np.load(\"/home/alkhemi/Documents/thesis/npy_data/s01_Y_train.npy\")[:,-1,:]\n",
    "X_test = np.load(\"/home/alkhemi/Documents/thesis/npy_data/s01_X_test.npy\")\n",
    "Y_test = np.load(\"/home/alkhemi/Documents/thesis/npy_data/s01_Y_test.npy\")[:,-1,:]\n",
    "print(\"train\", \"X shape:\", X_train.shape, \"Y shape:\", Y_train.shape)\n",
    "print(\"test\", \"X shape:\", X_test.shape, \"Y shape:\", Y_test.shape)\n",
    "print(\"train\", \"x min:\", X_train.min(), \"x max:\", X_train.max())\n",
    "print(\"train\", \"y min:\", Y_train.min(), \"y max:\", Y_train.max())"
   ]
  },
  {
   "cell_type": "code",
   "execution_count": null,
   "metadata": {
    "colab": {
     "base_uri": "https://localhost:8080/"
    },
    "id": "2Tng3ZuX25Pq",
    "outputId": "40a4cc2e-a3e6-46e3-d06e-a2e373dde0fe"
   },
   "outputs": [
    {
     "name": "stdout",
     "output_type": "stream",
     "text": [
      "train\n",
      "x min: -0.7 x max: 0.701\n",
      "y min: -0.7 y max: 0.7007\n",
      "test\n",
      "x min: -0.759 x max: 0.7334\n",
      "y min: -0.849 y max: 0.7954\n"
     ]
    }
   ],
   "source": [
    "def custom_scale(arr,a,b):\n",
    "  return arr*a + b\n",
    "\n",
    "def custom_inverse_scale(arr,a,b):\n",
    "  return (arr-b)/a\n",
    "\n",
    "npy_data_dir = \"/home/alkhemi/Documents/thesis/npy_data/\"\n",
    "x_scale_coefs = np.load(npy_data_dir+\"s01_x_scale_coef.npy\")\n",
    "y_scale_coefs = np.load(npy_data_dir+\"s01_y_scale_coef.npy\")\n",
    "\n",
    "X_train_scaled = np.zeros(shape=X_train.shape,dtype=\"float16\")\n",
    "Y_train_scaled = np.zeros(shape=Y_train.shape,dtype=\"float16\")\n",
    "X_test_scaled = np.zeros(shape=X_test.shape,dtype=\"float16\")\n",
    "Y_test_scaled = np.zeros(shape=Y_test.shape,dtype=\"float16\")\n",
    "\n",
    "for i in range(13):\n",
    "  X_train_scaled[:,:,i] = custom_scale(\n",
    "    X_train[:,:,i],x_scale_coefs[i,0],x_scale_coefs[i,1])\n",
    "  X_test_scaled[:,:,i] = custom_scale(\n",
    "    X_test[:,:,i],x_scale_coefs[i,0],x_scale_coefs[i,1])\n",
    "for i in range(51):\n",
    "  Y_train_scaled[:,i] = custom_scale(\n",
    "      Y_train[:,i],y_scale_coefs[i,0],y_scale_coefs[i,1])\n",
    "  Y_test_scaled[:,i] = custom_scale(\n",
    "      Y_test[:,i],y_scale_coefs[i,0],y_scale_coefs[i,1])\n",
    "\n",
    "del X_train, Y_train, X_test, Y_test\n",
    "\n",
    "print(\"train\")\n",
    "print(\"x min:\", X_train_scaled.min(), \"x max:\", X_train_scaled.max())\n",
    "print(\"y min:\", Y_train_scaled.min(), \"y max:\", Y_train_scaled.max())\n",
    "print(\"test\")\n",
    "print(\"x min:\", X_test_scaled.min(), \"x max:\", X_test_scaled.max())\n",
    "print(\"y min:\", Y_test_scaled.min(), \"y max:\", Y_test_scaled.max())"
   ]
  },
  {
   "cell_type": "code",
   "execution_count": null,
   "metadata": {
    "colab": {
     "base_uri": "https://localhost:8080/"
    },
    "id": "fdkRy2qu5ANV",
    "outputId": "0d7d9d45-f6f6-456e-a232-cef148a28c52"
   },
   "outputs": [
    {
     "name": "stdout",
     "output_type": "stream",
     "text": [
      "(109148, 10, 13) (109148, 51)\n",
      "(27324, 10, 13) (27324, 51)\n"
     ]
    }
   ],
   "source": [
    "print(X_train_scaled.shape, Y_train_scaled.shape)\n",
    "print(X_test_scaled.shape, Y_test_scaled.shape)"
   ]
  },
  {
   "cell_type": "code",
   "execution_count": null,
   "metadata": {
    "id": "lyB9pUrSoazQ"
   },
   "outputs": [],
   "source": [
    "# batch_size = 1024\n",
    "# train_dataset=[]\n",
    "# for i in range(ceil(X_train_scaled.shape[0]/batch_size)):\n",
    "#   pos = i*batch_size\n",
    "#   train_dataset.append((X_train_scaled[pos:pos+batch_size],Y_train_scaled[pos:pos+batch_size]))\n",
    "\n",
    "# # for testing single big batch\n",
    "# test_dataset = []\n",
    "# for i in range(ceil(X_test_scaled.shape[0]/batch_size)):\n",
    "#   pos = i*batch_size\n",
    "#   test_dataset.append((X_test_scaled[pos:pos+batch_size],Y_test_scaled[pos:pos+batch_size]))\n",
    "\n",
    "# del X_train_scaled, Y_train_scaled, X_test_scaled, Y_test_scaled\n",
    "# # train_dataset[0].shape, train_dataset[1].shape, test_dataset[0].shape, test_dataset[1].shape"
   ]
  },
  {
   "cell_type": "code",
   "execution_count": null,
   "metadata": {
    "id": "qKy2_sc7uBfC"
   },
   "outputs": [],
   "source": [
    "# len(test_dataset)"
   ]
  },
  {
   "cell_type": "markdown",
   "metadata": {
    "id": "QB80O3WTX51q"
   },
   "source": [
    "## Embedding"
   ]
  },
  {
   "cell_type": "code",
   "execution_count": null,
   "metadata": {
    "id": "9Dd68k1bX8zc"
   },
   "outputs": [],
   "source": [
    "class Embedding(tf.keras.layers.Layer):\n",
    "  def __init__(self, d_model):\n",
    "    super(Embedding, self).__init__()\n",
    "    self.sqrt_d_model = tf.math.sqrt(tf.cast(d_model, tf.float32)).numpy()\n",
    "    self.input_dense = tf.keras.layers.Dense(units=d_model, activation='tanh')\n",
    "  \n",
    "  def call(self, x):\n",
    "    x = self.input_dense(x)\n",
    "    x *= self.sqrt_d_model\n",
    "    return x"
   ]
  },
  {
   "cell_type": "markdown",
   "metadata": {
    "id": "nBQuibYA4n0n"
   },
   "source": [
    "## Positional Encoding"
   ]
  },
  {
   "cell_type": "markdown",
   "metadata": {
    "id": "3P83Z0DEu98Q"
   },
   "source": [
    "Since this model doesn't contain any recurrence or convolution, positional encoding is added to give the model some information about the relative position of the words in the sentence. \n",
    "\n",
    "The positional encoding vector is added to the embedding vector. Embeddings represent a token in a d-dimensional space where tokens with similar meaning will be closer to each other. But the embeddings do not encode the relative position of words in a sentence. So after adding the positional encoding, words will be closer to each other based on the *similarity of their meaning and their position in the sentence*, in the d-dimensional space.\n",
    "\n",
    "See the notebook on [positional encoding](https://github.com/tensorflow/examples/blob/master/community/en/position_encoding.ipynb) to learn more about it. The formula for calculating the positional encoding is as follows:\n",
    "\n",
    "$$\\Large{PE_{(pos, 2i)} = sin(pos / 10000^{2i / d_{model}})} $$\n",
    "$$\\Large{PE_{(pos, 2i+1)} = cos(pos / 10000^{2i / d_{model}})} $$"
   ]
  },
  {
   "cell_type": "code",
   "execution_count": null,
   "metadata": {
    "id": "1Rz82wEs5biZ"
   },
   "outputs": [],
   "source": [
    "class PositionalEncoding(tf.keras.layers.Layer):\n",
    "  def __init__(self, position, d_model):\n",
    "    super(PositionalEncoding, self).__init__()\n",
    "    \n",
    "    self.angle_rads = self.get_angles(\n",
    "        np.arange(position)[:, np.newaxis],\n",
    "        np.arange(d_model)[np.newaxis, :],\n",
    "        d_model)\n",
    "    \n",
    "    # apply sin to even indices in the array; 2i\n",
    "    self.angle_rads[:, 0::2] = np.sin(self.angle_rads[:, 0::2])\n",
    "    \n",
    "    # apply cos to odd indices in the array; 2i+1\n",
    "    self.angle_rads[:, 1::2] = np.cos(self.angle_rads[:, 1::2])\n",
    "      \n",
    "    self.pos_encoding = tf.cast(self.angle_rads[np.newaxis, ...], dtype=tf.float32)\n",
    "  \n",
    "  def get_angles(self, pos, i, d_model):\n",
    "    angle_rates = 1 / np.power(10000, (2 * (i//2)) / np.float32(d_model))\n",
    "    return pos * angle_rates\n",
    "\n",
    "  def call(self, x):    \n",
    "    seq_len = tf.shape(x)[1]\n",
    "    return x+self.pos_encoding[:, :seq_len, :]"
   ]
  },
  {
   "cell_type": "code",
   "execution_count": null,
   "metadata": {
    "colab": {
     "base_uri": "https://localhost:8080/"
    },
    "id": "1kLCla68EloE",
    "outputId": "a60f4866-f51e-4476-a4e2-0330a97ae082"
   },
   "outputs": [
    {
     "name": "stdout",
     "output_type": "stream",
     "text": [
      "tf.Tensor(\n",
      "[[[ 0.00000000e+00  1.00000000e+00  0.00000000e+00  1.00000000e+00\n",
      "    0.00000000e+00  1.00000000e+00  0.00000000e+00  1.00000000e+00\n",
      "    0.00000000e+00  1.00000000e+00  0.00000000e+00  1.00000000e+00\n",
      "    0.00000000e+00]\n",
      "  [ 8.41470957e-01  5.40302277e-01  2.40078002e-01  9.70753610e-01\n",
      "    5.87463193e-02  9.98272955e-01  1.42505439e-02  9.99898434e-01\n",
      "    3.45510035e-03  9.99994040e-01  8.37677566e-04  9.99999642e-01\n",
      "    2.03091768e-04]\n",
      "  [ 9.09297407e-01 -4.16146845e-01  4.66113180e-01  8.84725094e-01\n",
      "    1.17289722e-01  9.93097723e-01  2.84981951e-02  9.99593854e-01\n",
      "    6.91015972e-03  9.99976099e-01  1.67535455e-03  9.99998569e-01\n",
      "    4.06183506e-04]\n",
      "  [ 1.41120002e-01 -9.89992499e-01  6.64884090e-01  7.46946573e-01\n",
      "    1.75427988e-01  9.84492242e-01  4.27400582e-02  9.99086201e-01\n",
      "    1.03651360e-02  9.99946296e-01  2.51303031e-03  9.99996841e-01\n",
      "    6.09275245e-04]\n",
      "  [-7.56802499e-01 -6.53643608e-01  8.24764073e-01  5.65477014e-01\n",
      "    2.32960314e-01  9.72486258e-01  5.69732413e-02  9.98375714e-01\n",
      "    1.38199888e-02  9.99904513e-01  3.35070421e-03  9.99994397e-01\n",
      "    8.12366954e-04]\n",
      "  [-9.58924294e-01  2.83662200e-01  9.36401248e-01  3.50931168e-01\n",
      "    2.89687961e-01  9.57121134e-01  7.11948499e-02  9.97462451e-01\n",
      "    1.72746778e-02  9.99850810e-01  4.18837601e-03  9.99991238e-01\n",
      "    1.01545861e-03]\n",
      "  [-2.79415488e-01  9.60170269e-01  9.93265748e-01  1.15858339e-01\n",
      "    3.45414996e-01  9.38450038e-01  8.54020044e-02  9.96346593e-01\n",
      "    2.07291581e-02  9.99785125e-01  5.02604479e-03  9.99987364e-01\n",
      "    1.21855026e-03]\n",
      "  [ 6.56986594e-01  7.53902256e-01  9.92031336e-01 -1.25991359e-01\n",
      "    3.99948925e-01  9.16537404e-01  9.95918140e-02  9.95028377e-01\n",
      "    2.41833925e-02  9.99707520e-01  5.86370984e-03  9.99982834e-01\n",
      "    1.42164191e-03]\n",
      "  [ 9.89358246e-01 -1.45500034e-01  9.32770252e-01 -3.60471457e-01\n",
      "    4.53101397e-01  8.91458988e-01  1.13761395e-01  9.93508101e-01\n",
      "    2.76373383e-02  9.99617994e-01  6.70137117e-03  9.99977529e-01\n",
      "    1.62473333e-03]\n",
      "  [ 4.12118495e-01 -9.11130250e-01  8.18948805e-01 -5.73866606e-01\n",
      "    5.04688799e-01  8.63301337e-01  1.27907872e-01  9.91786063e-01\n",
      "    3.10909543e-02  9.99516547e-01  7.53902737e-03  9.99971569e-01\n",
      "    1.82782486e-03]]], shape=(1, 10, 13), dtype=float32)\n"
     ]
    },
    {
     "data": {
      "image/png": "[encoded data removed]",
      "text/plain": [
       "<Figure size 432x288 with 2 Axes>"
      ]
     },
     "metadata": {
      "tags": []
     },
     "output_type": "display_data"
    }
   ],
   "source": [
    "pos_encoding = PositionalEncoding(10, 13)\n",
    "print (pos_encoding.pos_encoding)\n",
    "\n",
    "plt.pcolormesh(pos_encoding.pos_encoding[0], cmap='RdBu')\n",
    "plt.xlabel('Depth')\n",
    "plt.xlim((0, 13))\n",
    "plt.ylabel('Position')\n",
    "plt.colorbar()\n",
    "plt.show()"
   ]
  },
  {
   "cell_type": "markdown",
   "metadata": {
    "id": "xluDl5cXYy4y"
   },
   "source": [
    "## Scaled dot product attention"
   ]
  },
  {
   "cell_type": "markdown",
   "metadata": {
    "id": "vsxEE_-Wa1gF"
   },
   "source": [
    "<img src=\"https://www.tensorflow.org/images/tutorials/transformer/scaled_attention.png\" width=\"500\" alt=\"scaled_dot_product_attention\">\n",
    "\n",
    "The attention function used by the transformer takes three inputs: Q (query), K (key), V (value). The equation used to calculate the attention weights is:\n",
    "\n",
    "$$\\Large{Attention(Q, K, V) = softmax_k(\\frac{QK^T}{\\sqrt{d_k}}) V} $$\n",
    "\n",
    "The dot-product attention is scaled by a factor of square root of the depth. This is done because for large values of depth, the dot product grows large in magnitude pushing the softmax function where it has small gradients resulting in a very hard softmax. \n",
    "\n",
    "For example, consider that `Q` and `K` have a mean of 0 and variance of 1. Their matrix multiplication will have a mean of 0 and variance of `dk`. Hence, *square root of `dk`* is used for scaling (and not any other number) because the matmul of `Q` and `K` should have a mean of 0 and variance of 1, and you get a gentler softmax.\n",
    "\n",
    "The mask is multiplied with -1e9 (close to negative infinity). This is done because the mask is summed with the scaled matrix multiplication of Q and K and is applied immediately before a softmax. The goal is to zero out these cells, and large negative inputs to softmax are near zero in the output."
   ]
  },
  {
   "cell_type": "code",
   "execution_count": null,
   "metadata": {
    "id": "LazzUq3bJ5SH"
   },
   "outputs": [],
   "source": [
    "def scaled_dot_product_attention(q, k, v):\n",
    "  \"\"\"Calculate the attention weights.\n",
    "  q, k, v must have matching leading dimensions.\n",
    "  k, v must have matching penultimate dimension, i.e.: seq_len_k = seq_len_v.\n",
    "  The mask has different shapes depending on its type(padding or look ahead) \n",
    "  but it must be broadcastable for addition.\n",
    "  \n",
    "  Args:\n",
    "    q: query shape == (..., seq_len_q, depth)\n",
    "    k: key shape == (..., seq_len_k, depth)\n",
    "    v: value shape == (..., seq_len_v, depth_v)\n",
    "    mask: Float tensor with shape broadcastable \n",
    "          to (..., seq_len_q, seq_len_k). Defaults to None.\n",
    "    \n",
    "  Returns:\n",
    "    output, attention_weights\n",
    "  \"\"\"\n",
    "\n",
    "  matmul_qk = tf.matmul(q, k, transpose_b=True)  # (..., seq_len_q, seq_len_k)\n",
    "  \n",
    "  # scale matmul_qk\n",
    "  dk = tf.cast(tf.shape(k)[-1], tf.float32)\n",
    "  scaled_attention_logits = matmul_qk / tf.math.sqrt(dk)\n",
    "\n",
    "  # # add the mask to the scaled tensor.\n",
    "  # if mask is not None:\n",
    "  #   scaled_attention_logits += (mask * -1e9)  \n",
    "\n",
    "  # softmax is normalized on the last axis (seq_len_k) so that the scores\n",
    "  # add up to 1.\n",
    "  attention_weights = tf.nn.softmax(scaled_attention_logits, axis=-1)  # (..., seq_len_q, seq_len_k)\n",
    "\n",
    "  output = tf.matmul(attention_weights, v)  # (..., seq_len_q, depth_v)\n",
    "\n",
    "  return output, attention_weights"
   ]
  },
  {
   "cell_type": "markdown",
   "metadata": {
    "id": "FiqETnhCkoXh"
   },
   "source": [
    "As the softmax normalization is done on K, its values decide the amount of importance given to Q.\n",
    "\n",
    "The output represents the multiplication of the attention weights and the V (value) vector. This ensures that the words you want to focus on are kept as-is and the irrelevant words are flushed out."
   ]
  },
  {
   "cell_type": "code",
   "execution_count": null,
   "metadata": {
    "id": "n90YjClyInFy"
   },
   "outputs": [],
   "source": [
    "def print_out(q, k, v):\n",
    "  temp_out, temp_attn = scaled_dot_product_attention(\n",
    "      q, k, v)\n",
    "  print ('Attention weights are:')\n",
    "  print (temp_attn)\n",
    "  print ('Output is:')\n",
    "  print (temp_out)"
   ]
  },
  {
   "cell_type": "code",
   "execution_count": null,
   "metadata": {
    "colab": {
     "base_uri": "https://localhost:8080/"
    },
    "id": "yAzUAf2DPlNt",
    "outputId": "6364f4f9-0321-41d5-f2b4-3efb87367e19"
   },
   "outputs": [
    {
     "name": "stdout",
     "output_type": "stream",
     "text": [
      "Attention weights are:\n",
      "tf.Tensor([[0. 1. 0. 0.]], shape=(1, 4), dtype=float32)\n",
      "Output is:\n",
      "tf.Tensor([[10.  0.]], shape=(1, 2), dtype=float32)\n"
     ]
    }
   ],
   "source": [
    "np.set_printoptions(suppress=True)\n",
    "\n",
    "temp_k = tf.constant([[10,0,0],\n",
    "                      [0,10,0],\n",
    "                      [0,0,10],\n",
    "                      [0,0,10]], dtype=tf.float32)  # (4, 3)\n",
    "\n",
    "temp_v = tf.constant([[   1,0],\n",
    "                      [  10,0],\n",
    "                      [ 100,5],\n",
    "                      [1000,6]], dtype=tf.float32)  # (4, 2)\n",
    "\n",
    "# This `query` aligns with the second `key`,\n",
    "# so the second `value` is returned.\n",
    "temp_q = tf.constant([[0, 10, 0]], dtype=tf.float32)  # (1, 3)\n",
    "print_out(temp_q, temp_k, temp_v)"
   ]
  },
  {
   "cell_type": "code",
   "execution_count": null,
   "metadata": {
    "colab": {
     "base_uri": "https://localhost:8080/"
    },
    "id": "zg6k-fGhgXra",
    "outputId": "ec9e18a4-1bb0-4ce8-cb0f-02cea6913f15"
   },
   "outputs": [
    {
     "name": "stdout",
     "output_type": "stream",
     "text": [
      "Attention weights are:\n",
      "tf.Tensor([[0.  0.  0.5 0.5]], shape=(1, 4), dtype=float32)\n",
      "Output is:\n",
      "tf.Tensor([[550.    5.5]], shape=(1, 2), dtype=float32)\n"
     ]
    }
   ],
   "source": [
    "# This query aligns with a repeated key (third and fourth), \n",
    "# so all associated values get averaged.\n",
    "temp_q = tf.constant([[0, 0, 10]], dtype=tf.float32)  # (1, 3)\n",
    "print_out(temp_q, temp_k, temp_v)"
   ]
  },
  {
   "cell_type": "code",
   "execution_count": null,
   "metadata": {
    "colab": {
     "base_uri": "https://localhost:8080/"
    },
    "id": "UAq3YOzUgXhb",
    "outputId": "56abc092-fe87-4bf5-f429-1f1414a2cbcf"
   },
   "outputs": [
    {
     "name": "stdout",
     "output_type": "stream",
     "text": [
      "Attention weights are:\n",
      "tf.Tensor([[0.5 0.5 0.  0. ]], shape=(1, 4), dtype=float32)\n",
      "Output is:\n",
      "tf.Tensor([[5.5 0. ]], shape=(1, 2), dtype=float32)\n"
     ]
    }
   ],
   "source": [
    "# This query aligns equally with the first and second key, \n",
    "# so their values get averaged.\n",
    "temp_q = tf.constant([[10, 10, 0]], dtype=tf.float32)  # (1, 3)\n",
    "print_out(temp_q, temp_k, temp_v)"
   ]
  },
  {
   "cell_type": "markdown",
   "metadata": {
    "id": "aOz-4_XIhaTP"
   },
   "source": [
    "Pass all the queries together."
   ]
  },
  {
   "cell_type": "code",
   "execution_count": null,
   "metadata": {
    "colab": {
     "base_uri": "https://localhost:8080/"
    },
    "id": "6dlU8Tm-hYrF",
    "outputId": "13645258-1025-437f-fc8d-20691d9b0958"
   },
   "outputs": [
    {
     "name": "stdout",
     "output_type": "stream",
     "text": [
      "Attention weights are:\n",
      "tf.Tensor(\n",
      "[[0.  0.  0.5 0.5]\n",
      " [0.  1.  0.  0. ]\n",
      " [0.5 0.5 0.  0. ]], shape=(3, 4), dtype=float32)\n",
      "Output is:\n",
      "tf.Tensor(\n",
      "[[550.    5.5]\n",
      " [ 10.    0. ]\n",
      " [  5.5   0. ]], shape=(3, 2), dtype=float32)\n"
     ]
    }
   ],
   "source": [
    "temp_q = tf.constant([[0, 0, 10], [0, 10, 0], [10, 10, 0]], dtype=tf.float32)  # (3, 3)\n",
    "print_out(temp_q, temp_k, temp_v)"
   ]
  },
  {
   "cell_type": "markdown",
   "metadata": {
    "id": "kmzGPEy64qmA"
   },
   "source": [
    "## Multi-head attention"
   ]
  },
  {
   "cell_type": "markdown",
   "metadata": {
    "id": "fz5BMC8Kaoqo"
   },
   "source": [
    "<img src=\"https://www.tensorflow.org/images/tutorials/transformer/multi_head_attention.png\" width=\"500\" alt=\"multi-head attention\">\n",
    "\n",
    "\n",
    "Multi-head attention consists of four parts:\n",
    "*    Linear layers and split into heads.\n",
    "*    Scaled dot-product attention.\n",
    "*    Concatenation of heads.\n",
    "*    Final linear layer."
   ]
  },
  {
   "cell_type": "markdown",
   "metadata": {
    "id": "JPmbr6F1C-v_"
   },
   "source": [
    "Each multi-head attention block gets three inputs; Q (query), K (key), V (value). These are put through linear (Dense) layers and split up into multiple heads. \n",
    "\n",
    "The `scaled_dot_product_attention` defined above is applied to each head (broadcasted for efficiency). An appropriate mask must be used in the attention step.  The attention output for each head is then concatenated (using `tf.transpose`, and `tf.reshape`) and put through a final `Dense` layer.\n",
    "\n",
    "Instead of one single attention head, Q, K, and V are split into multiple heads because it allows the model to jointly attend to information at different positions from different representational spaces. After the split each head has a reduced dimensionality, so the total computation cost is the same as a single head attention with full dimensionality."
   ]
  },
  {
   "cell_type": "code",
   "execution_count": null,
   "metadata": {
    "id": "BSV3PPKsYecw"
   },
   "outputs": [],
   "source": [
    "class MultiHeadAttention(tf.keras.layers.Layer):\n",
    "  def __init__(self, d_model, num_heads):\n",
    "    super(MultiHeadAttention, self).__init__()\n",
    "    self.num_heads = num_heads\n",
    "    self.d_model = d_model\n",
    "    \n",
    "    assert d_model % self.num_heads == 0\n",
    "    \n",
    "    self.depth = d_model // self.num_heads\n",
    "    \n",
    "    self.wq = tf.keras.layers.Dense(d_model, activation='linear')\n",
    "    self.wk = tf.keras.layers.Dense(d_model, activation='linear')\n",
    "    self.wv = tf.keras.layers.Dense(d_model, activation='linear')\n",
    "    \n",
    "    self.dense = tf.keras.layers.Dense(d_model, activation='linear')\n",
    "          \n",
    "  def split_heads(self, x, batch_size):\n",
    "    \"\"\"Split the last dimension into (num_heads, depth).\n",
    "    Transpose the result such that the shape is (batch_size, num_heads, seq_len, depth)\n",
    "    \"\"\"\n",
    "    x = tf.reshape(x, (batch_size, -1, self.num_heads, self.depth))\n",
    "    return tf.transpose(x, perm=[0, 2, 1, 3])\n",
    "    \n",
    "  def call(self, v, k, q):\n",
    "    batch_size = tf.shape(q)[0]\n",
    "    \n",
    "    q = self.wq(q)  # (batch_size, seq_len, d_model)\n",
    "    k = self.wk(k)  # (batch_size, seq_len, d_model)\n",
    "    v = self.wv(v)  # (batch_size, seq_len, d_model)\n",
    "    \n",
    "    q = self.split_heads(q, batch_size)  # (batch_size, num_heads, seq_len_q, depth)\n",
    "    k = self.split_heads(k, batch_size)  # (batch_size, num_heads, seq_len_k, depth)\n",
    "    v = self.split_heads(v, batch_size)  # (batch_size, num_heads, seq_len_v, depth)\n",
    "    \n",
    "    # scaled_attention.shape == (batch_size, num_heads, seq_len_q, depth)\n",
    "    # attention_weights.shape == (batch_size, num_heads, seq_len_q, seq_len_k)\n",
    "    scaled_attention, attention_weights = scaled_dot_product_attention(\n",
    "        q, k, v)\n",
    "    \n",
    "    scaled_attention = tf.transpose(scaled_attention, perm=[0, 2, 1, 3])  # (batch_size, seq_len_q, num_heads, depth)\n",
    "\n",
    "    concat_attention = tf.reshape(scaled_attention, \n",
    "                                  (batch_size, -1, self.d_model))  # (batch_size, seq_len_q, d_model)\n",
    "\n",
    "    output = self.dense(concat_attention)  # (batch_size, seq_len_q, d_model)\n",
    "        \n",
    "    return output, attention_weights"
   ]
  },
  {
   "cell_type": "markdown",
   "metadata": {
    "id": "0D8FJue5lDyZ"
   },
   "source": [
    "Create a `MultiHeadAttention` layer to try out. At each location in the sequence, `y`, the `MultiHeadAttention` runs all 8 attention heads across all other locations in the sequence, returning a new vector of the same length at each location."
   ]
  },
  {
   "cell_type": "code",
   "execution_count": null,
   "metadata": {
    "colab": {
     "base_uri": "https://localhost:8080/"
    },
    "id": "Hu94p-_-2_BX",
    "outputId": "66d0f0d9-f10b-4e5d-b192-966cd7f42237"
   },
   "outputs": [
    {
     "data": {
      "text/plain": [
       "(TensorShape([1, 10, 13]), TensorShape([1, 1, 10, 10]))"
      ]
     },
     "execution_count": 17,
     "metadata": {
      "tags": []
     },
     "output_type": "execute_result"
    }
   ],
   "source": [
    "temp_mha = MultiHeadAttention(d_model=13, num_heads=1)\n",
    "y = tf.random.uniform((1, 10, 13))  # (batch_size, encoder_sequence, d_model)\n",
    "out, attn = temp_mha(v=y, k=y, q=y)\n",
    "out.shape, attn.shape"
   ]
  },
  {
   "cell_type": "markdown",
   "metadata": {
    "id": "RdDqGayx67vv"
   },
   "source": [
    "## Point wise feed forward network"
   ]
  },
  {
   "cell_type": "markdown",
   "metadata": {
    "id": "gBqzJXGfHK3X"
   },
   "source": [
    "Point wise feed forward network consists of two fully-connected layers with a ReLU activation in between."
   ]
  },
  {
   "cell_type": "code",
   "execution_count": null,
   "metadata": {
    "id": "ET7xLt0yCT6Z"
   },
   "outputs": [],
   "source": [
    "def point_wise_feed_forward_network( d_model ,dff,):\n",
    "  return tf.keras.Sequential([\n",
    "      tf.keras.layers.Dense(dff, activation='tanh'),  # (batch_size, seq_len, dff)\n",
    "      tf.keras.layers.Dense(d_model, activation='tanh')  # (batch_size, seq_len, d_model)\n",
    "  ])"
   ]
  },
  {
   "cell_type": "code",
   "execution_count": null,
   "metadata": {
    "id": "mytb1lPyOHLB"
   },
   "outputs": [],
   "source": [
    "# sample_ffn = point_wise_feed_forward_network(13, 64)\n",
    "# sample_ffn(tf.random.uniform((64, 10, 13))).shape"
   ]
  },
  {
   "cell_type": "markdown",
   "metadata": {
    "id": "7e7hKcxn6-zd"
   },
   "source": [
    "## Encoder "
   ]
  },
  {
   "cell_type": "markdown",
   "metadata": {
    "id": "yScbC0MUH8dS"
   },
   "source": [
    "<img src=\"https://www.tensorflow.org/images/tutorials/transformer/transformer.png\" width=\"600\" alt=\"transformer\">"
   ]
  },
  {
   "cell_type": "markdown",
   "metadata": {
    "id": "MfYJG-Kvgwy2"
   },
   "source": [
    "The transformer model follows the same general pattern as a standard [sequence to sequence with attention model](nmt_with_attention.ipynb). \n",
    "\n",
    "* The input sentence is passed through `N` encoder layers that generates an output for each word/token in the sequence.\n",
    "* The decoder attends on the encoder's output and its own input (self-attention) to predict the next word. "
   ]
  },
  {
   "cell_type": "markdown",
   "metadata": {
    "id": "QFv-FNYUmvpn"
   },
   "source": [
    "### Encoder layer\n",
    "\n",
    "Each encoder layer consists of sublayers:\n",
    "\n",
    "1.   Multi-head attention (with padding mask) \n",
    "2.    Point wise feed forward networks. \n",
    "\n",
    "Each of these sublayers has a residual connection around it followed by a layer normalization. Residual connections help in avoiding the vanishing gradient problem in deep networks.\n",
    "\n",
    "The output of each sublayer is `LayerNorm(x + Sublayer(x))`. The normalization is done on the `d_model` (last) axis. There are N encoder layers in the transformer."
   ]
  },
  {
   "cell_type": "code",
   "execution_count": null,
   "metadata": {
    "id": "ncyS-Ms3i2x_"
   },
   "outputs": [],
   "source": [
    "class Encoder(tf.keras.layers.Layer):\n",
    "  def __init__(self, d_model, num_heads, dff):\n",
    "    super(Encoder, self).__init__()\n",
    "\n",
    "    self.mha = MultiHeadAttention(d_model, num_heads)\n",
    "    self.ffn = point_wise_feed_forward_network(d_model, dff)\n",
    "       \n",
    "\n",
    "    self.layernorm1 = tf.keras.layers.LayerNormalization(epsilon=1e-6)\n",
    "    self.layernorm2 = tf.keras.layers.LayerNormalization(epsilon=1e-6)\n",
    "    \n",
    "  def call(self, x):\n",
    "    attn_output, _ = self.mha(x, x, x)  # (batch_size, input_seq_len, d_model)\n",
    "    out1 = self.layernorm1(x + attn_output)  # (batch_size, input_seq_len, d_model)\n",
    "\n",
    "    ffn_output = self.ffn(out1)  # (batch_size, input_seq_len, d_model)\n",
    "    out2 = self.layernorm2(out1 + ffn_output)  # (batch_size, input_seq_len, d_model)\n",
    "\n",
    "    return out2"
   ]
  },
  {
   "cell_type": "code",
   "execution_count": null,
   "metadata": {
    "id": "AzZRXdO0mI48"
   },
   "outputs": [],
   "source": [
    "# # sample_encoder_layer = EncoderLayer(512, 8, 2048)\n",
    "# sample_encoder_layer = EncoderLayer(13, 1, 64)\n",
    "\n",
    "# sample_encoder_layer_output = sample_encoder_layer(\n",
    "#     tf.random.uniform((64, 10, 13)), False, None)\n",
    "\n",
    "# sample_encoder_layer_output.shape  # (batch_size, input_seq_len, d_model)"
   ]
  },
  {
   "cell_type": "markdown",
   "metadata": {
    "id": "YgkDE7hzo8r5"
   },
   "source": [
    "## Metrics"
   ]
  },
  {
   "cell_type": "markdown",
   "metadata": {
    "id": "oxGJtoDuYIHL"
   },
   "source": [
    "Since the target sequences are padded, it is important to apply a padding mask when calculating the loss."
   ]
  },
  {
   "cell_type": "code",
   "execution_count": null,
   "metadata": {
    "id": "Mq5owjjBQvXc"
   },
   "outputs": [],
   "source": [
    "metrics = [    \n",
    "           tf.keras.metrics.MeanSquaredError(),\n",
    "           tf.keras.metrics.RootMeanSquaredError(),\n",
    "           tf.keras.metrics.MeanAbsoluteError(),\n",
    "           tf.keras.metrics.MeanAbsolutePercentageError(),\n",
    "           tf.keras.metrics.MeanSquaredLogarithmicError(),\n",
    "           tf.keras.metrics.CosineSimilarity(axis=1),\n",
    "]"
   ]
  },
  {
   "cell_type": "markdown",
   "metadata": {
    "id": "aJcOHWt06mOL"
   },
   "source": [
    "## Callback"
   ]
  },
  {
   "cell_type": "code",
   "execution_count": null,
   "metadata": {
    "id": "c66YZkTI6k-P"
   },
   "outputs": [],
   "source": [
    "class CustomCallback(tf.keras.callbacks.Callback):\n",
    "  def __init__(self, model_name, save_dir=\"./\"):\n",
    "    # self.model = model\n",
    "    self.save_dir = save_dir\n",
    "    self.model_name = model_name\n",
    "    self.on_train_begin\n",
    "  def on_train_begin(self, logs={}):\n",
    "    if os.path.exists(self.save_dir+self.model_name+'-history.csv'):\n",
    "      hist_df = pd.read_csv(self.save_dir+self.model_name+'-history.csv')\n",
    "      self.i = hist_df[\"epoch\"].values.tolist()[-1] +1\n",
    "      self.x = hist_df[\"epoch\"].values.tolist()\n",
    "      self.timestamp=hist_df[\"timestamp\"].values.tolist()\n",
    "      self.time_offset = hist_df[\"timestamp\"].values.tolist()[-1]\n",
    "\n",
    "      self.metrics = {}\n",
    "      for key in hist_df.keys():\n",
    "        if key != 'epoch' and key != 'timestamp':\n",
    "          self.metrics[key] = hist_df[key].values.tolist()     \n",
    "      \n",
    "    else:\n",
    "      self.i = 1\n",
    "      self.x = []\n",
    "      self.timestamp=[]\n",
    "      self.time_offset = 0\n",
    "\n",
    "      self.metrics = {}\n",
    "\n",
    "      \n",
    "    self.fig = plt.figure()\n",
    "    self.logs = []\n",
    "    self.st_time=time.time()\n",
    "\n",
    "  def on_epoch_end(self, epoch, logs={}):       \n",
    "    self.logs.append(logs)\n",
    "    self.x.append(self.i)\n",
    "    self.i += 1\n",
    "    self.timestamp.append(time.time()-self.st_time+self.time_offset)\n",
    "\n",
    "    for key in logs.keys():\n",
    "      if self.metrics.get(key) == None:\n",
    "        self.metrics[key] = [logs[key]]\n",
    "      else:  \n",
    "        self.metrics[key].append(logs.get(key))\n",
    "    \n",
    "    # print(\"saving model\")\n",
    "    # subclassed model can only save weights\n",
    "    self.model.save_weights(\n",
    "      f'{self.save_dir+self.model_name}-weights-{self.x[-1]:02d}'\n",
    "      f'-{logs[\"val_loss\"]:.4f}.h5')\n",
    "      # f'-{logs[\"val_cosine_similarity\"]:.4f}.h5')\n",
    "\n",
    "    # print(\"saving history\")\n",
    "    hist_df = pd.DataFrame()\n",
    "    hist_df[\"epoch\"]=self.x\n",
    "    hist_df[\"timestamp\"]=self.timestamp\n",
    "\n",
    "    for key in logs.keys():\n",
    "      hist_df[key] = self.metrics[key]\n",
    "    hist_df.to_csv(self.save_dir+self.model_name+'-history.csv',index=False)\n",
    "\n",
    "    clear_output(wait=True)\n",
    "\n",
    "\n",
    "    # keys = [key for key in self.metrics.keys() if key[0:4] != \"val_\"]\n",
    "    # metrics_count = len(keys)\n",
    "    # f, ax = plt.subplots(ceil(metrics_count/2), 2, sharex=True, figsize=(25,5*ceil(metrics_count/2)))\n",
    "    \n",
    "    # for i, key in enumerate(keys):\n",
    "    #   r = floor(i/2)\n",
    "    #   c = i%2\n",
    "    #   ax[r,c].set_yscale('log')  \n",
    "    #   ax[r,c].set_title(key)\n",
    "    #   ax[r,c].set_xlabel(\"epoch\")\n",
    "    #   ax[r,c].plot(self.x, self.metrics[key], label=key)\n",
    "    #   ax[r,c].plot(self.x, self.metrics[\"val_\"+key], label=\"val_\"+key)\n",
    "    #   ax[r,c].legend()\n",
    "    \n",
    "    f, (ax1, ax2) = plt.subplots(1, 2, sharex=True, figsize=(25,5))\n",
    "   \n",
    "    ax1.set_yscale('log')\n",
    "    ax1.set_title(\"Loss: Mean Squared Error\")\n",
    "    ax1.set_xlabel(\"epoch\")\n",
    "    ax1.plot(self.x, self.metrics[\"loss\"], label=\"loss\")\n",
    "    ax1.plot(self.x, self.metrics[\"val_loss\"], label=\"val_loss\")\n",
    "    ax1.legend()\n",
    "\n",
    "    ax2.set_title(\"Cosine Similarity\")\n",
    "    ax2.set_xlabel(\"epoch\")\n",
    "    ax2.plot(self.x, self.metrics[\"cosine_similarity\"], label=\"cosine_similarity\")\n",
    "    ax2.plot(self.x, self.metrics[\"val_cosine_similarity\"], label=\"val_cosine_similarity\")\n",
    "    ax2.legend()\n",
    "    \n",
    "    plt.show();\n",
    "    print(\"time elapsed:\", time.time()-self.st_time)"
   ]
  },
  {
   "cell_type": "markdown",
   "metadata": {
    "id": "aeHumfr7zmMa"
   },
   "source": [
    "## Create Model"
   ]
  },
  {
   "cell_type": "code",
   "execution_count": null,
   "metadata": {
    "colab": {
     "base_uri": "https://localhost:8080/"
    },
    "id": "UiysUa--4tOU",
    "outputId": "16ee21f4-102b-4f17-f411-0b0fcef47d1d"
   },
   "outputs": [
    {
     "name": "stdout",
     "output_type": "stream",
     "text": [
      "Model: \"test\"\n",
      "_________________________________________________________________\n",
      "Layer (type)                 Output Shape              Param #   \n",
      "=================================================================\n",
      "embedding_1 (Embedding)      (None, 10, 13)            182       \n",
      "_________________________________________________________________\n",
      "positional_encoding_2 (Posit (None, 10, 13)            0         \n",
      "_________________________________________________________________\n",
      "encoder_1 (Encoder)          (None, 10, 13)            2521      \n",
      "_________________________________________________________________\n",
      "flatten_1 (Flatten)          (None, 130)               0         \n",
      "_________________________________________________________________\n",
      "dense_19 (Dense)             (None, 51)                6681      \n",
      "=================================================================\n",
      "Total params: 9,384\n",
      "Trainable params: 9,384\n",
      "Non-trainable params: 0\n",
      "_________________________________________________________________\n"
     ]
    }
   ],
   "source": [
    "model_name = \"test\"\n",
    "save_dir = \"/home/alkhemi/Documents/thesis/saved_model/\"+model_name+\"/\"\n",
    "if not os.path.exists(save_dir):\n",
    "  os.mkdir(save_dir)\n",
    "\n",
    "with tf.device('/gpu:0'):\n",
    "  model = tf.keras.Sequential(\n",
    "      name= model_name,\n",
    "      layers=[\n",
    "              tf.keras.layers.InputLayer((10,13)),\n",
    "              Embedding(d_model=13),\n",
    "              PositionalEncoding(position=10,d_model=13),\n",
    "              Encoder(d_model=13,num_heads=13,dff=64),\n",
    "              tf.keras.layers.Flatten(),\n",
    "              tf.keras.layers.Dense(51, activation='tanh')\n",
    "  ])\n",
    "  \n",
    "\n",
    "  model.summary()"
   ]
  },
  {
   "cell_type": "markdown",
   "metadata": {
    "id": "QfcsSWswSdGV"
   },
   "source": [
    "## Load Trained Model"
   ]
  },
  {
   "cell_type": "code",
   "execution_count": null,
   "metadata": {
    "colab": {
     "base_uri": "https://localhost:8080/",
     "height": 689
    },
    "id": "iYMwpXOzCp6U",
    "outputId": "d17f4a7d-29d3-45db-8f9d-6c9ca18757a8"
   },
   "outputs": [
    {
     "name": "stdout",
     "output_type": "stream",
     "text": [
      "Model: \"Attention13\"\n",
      "_________________________________________________________________\n",
      "Layer (type)                 Output Shape              Param #   \n",
      "=================================================================\n",
      "embedding (Embedding)        (None, 10, 13)            182       \n",
      "_________________________________________________________________\n",
      "positional_encoding_1 (Posit (None, 10, 13)            0         \n",
      "_________________________________________________________________\n",
      "encoder (Encoder)            (None, 10, 13)            2521      \n",
      "_________________________________________________________________\n",
      "flatten (Flatten)            (None, 130)               0         \n",
      "_________________________________________________________________\n",
      "dense_11 (Dense)             (None, 51)                6681      \n",
      "=================================================================\n",
      "Total params: 9,384\n",
      "Trainable params: 9,384\n",
      "Non-trainable params: 0\n",
      "_________________________________________________________________\n"
     ]
    },
    {
     "data": {
      "image/png": "[encoded data removed]",
      "text/plain": [
       "<Figure size 1800x360 with 2 Axes>"
      ]
     },
     "metadata": {
      "tags": []
     },
     "output_type": "display_data"
    }
   ],
   "source": [
    "model_name = \"Attention13\"\n",
    "save_dir = \"/home/alkhemi/Documents/thesis/saved_model/\"+model_name+\"/\"\n",
    "\n",
    "history = pd.read_csv(save_dir+model_name+\"-history.csv\")\n",
    "\n",
    "with tf.device('/gpu:0'):\n",
    "  model = tf.keras.Sequential(\n",
    "      name= model_name,\n",
    "      layers=[\n",
    "              tf.keras.layers.InputLayer((10,13)),\n",
    "              Embedding(d_model=13),\n",
    "              PositionalEncoding(position=10,d_model=13),\n",
    "              Encoder(d_model=13,num_heads=13,dff=64),\n",
    "              tf.keras.layers.Flatten(),\n",
    "              tf.keras.layers.Dense(51, activation='tanh')\n",
    "  ])\n",
    "  model.summary()\n",
    "  model.load_weights(save_dir+\"Attention13-weights-500-0.0120.h5\")\n",
    "\n",
    "f, (ax1, ax2) = plt.subplots(1, 2, sharex=True, figsize=(25,5))\n",
    "        \n",
    "ax1.set_yscale('log')\n",
    "ax1.set_title(\"Loss: Mean Squared Error\")\n",
    "ax1.set_xlabel(\"epoch\")\n",
    "ax1.plot(history[\"epoch\"][:200], history[\"loss\"][:200], label=\"loss\")\n",
    "ax1.plot(history[\"epoch\"][:200], history[\"val_loss\"][:200], label=\"val_loss\")\n",
    "ax1.legend()\n",
    "\n",
    "ax2.set_title(\"Cosine Similarity\")\n",
    "ax2.set_xlabel(\"epoch\")\n",
    "ax2.plot(history[\"epoch\"][:200], history[\"cosine_similarity\"][:200], label=\"cosine_similarity\")\n",
    "ax2.plot(history[\"epoch\"][:200], history[\"val_cosine_similarity\"][:200], label=\"val_cosine_similarity\")\n",
    "ax2.legend()\n",
    "\n",
    "plt.savefig(save_dir+'mse-cosine_similarity')\n",
    "plt.show();"
   ]
  },
  {
   "cell_type": "markdown",
   "metadata": {
    "id": "PScegyQGDfJg"
   },
   "source": [
    "## Train"
   ]
  },
  {
   "cell_type": "code",
   "execution_count": null,
   "metadata": {
    "colab": {
     "base_uri": "https://localhost:8080/",
     "height": 468
    },
    "id": "_u3r8mX_MRYw",
    "outputId": "610c7b83-99be-45cb-cd59-95c7439f9730"
   },
   "outputs": [
    {
     "data": {
      "image/png": "[encoded data removed]",
      "text/plain": [
       "<Figure size 1800x360 with 2 Axes>"
      ]
     },
     "metadata": {
      "tags": []
     },
     "output_type": "display_data"
    },
    {
     "name": "stdout",
     "output_type": "stream",
     "text": [
      "time elapsed: 1398.9618184566498\n",
      "loss 0.010584778152406216\n",
      "cosine_similarity 0.8165528178215027\n",
      "val_loss 0.012046607211232185\n",
      "val_cosine_similarity 0.7988879084587097\n"
     ]
    }
   ],
   "source": [
    "custom_callback = CustomCallback(model_name=model_name,save_dir=save_dir)\n",
    "model.compile(\n",
    "    optimizer='adam',\n",
    "    loss='mse',\n",
    "    metrics=metrics,\n",
    "    )\n",
    "with tf.device('/gpu:0'):\n",
    "  history = model.fit(\n",
    "      X_train_scaled,Y_train_scaled,\n",
    "      epochs=500,\n",
    "      batch_size = 1024,\n",
    "      validation_data=(X_test_scaled,Y_test_scaled),\n",
    "      callbacks=[custom_callback],\n",
    "      verbose=1\n",
    "  )\n",
    "\n",
    "print(\"loss\",history.history['loss'][-1])\n",
    "print(\"cosine_similarity\",history.history['cosine_similarity'][-1])\n",
    "print(\"val_loss\",history.history['val_loss'][-1])\n",
    "print(\"val_cosine_similarity\",history.history['val_cosine_similarity'][-1])"
   ]
  },
  {
   "cell_type": "markdown",
   "metadata": {
    "id": "eFH0css-CUdR"
   },
   "source": [
    "## Evaluation"
   ]
  },
  {
   "cell_type": "code",
   "execution_count": null,
   "metadata": {
    "colab": {
     "base_uri": "https://localhost:8080/"
    },
    "id": "JVKjN_YHhVt3",
    "outputId": "0a9e1813-8fe3-44dc-f156-a57945429f1b"
   },
   "outputs": [
    {
     "name": "stdout",
     "output_type": "stream",
     "text": [
      "854/854 [==============================] - 4s 4ms/step - loss: 0.0120 - mean_squared_error: 0.0120 - root_mean_squared_error: 0.1097 - mean_absolute_error: 0.0805 - mean_absolute_percentage_error: 9147.8525 - mean_squared_logarithmic_error: 0.0033 - cosine_similarity: 0.7965\n"
     ]
    },
    {
     "data": {
      "text/plain": [
       "[0.012032917700707912,\n",
       " 0.012032917700707912,\n",
       " 0.10969466716051102,\n",
       " 0.08050154894590378,\n",
       " 9147.8525390625,\n",
       " 0.0032788049429655075,\n",
       " 0.7964942455291748]"
      ]
     },
     "execution_count": 39,
     "metadata": {
      "tags": []
     },
     "output_type": "execute_result"
    }
   ],
   "source": [
    "model.evaluate(X_test_scaled,Y_test_scaled)"
   ]
  },
  {
   "cell_type": "code",
   "execution_count": null,
   "metadata": {
    "id": "IE9iQBENDXY8"
   },
   "outputs": [],
   "source": [
    "# Y_test_pred = model.predict(np.expand_dims(X_test_scaled[:,0,:],axis=0))[0]\n",
    "Y_test_pred = model.predict(x=X_test_scaled)\n",
    "Y_test_true = Y_test_scaled\n",
    "\n"
   ]
  },
  {
   "cell_type": "code",
   "execution_count": null,
   "metadata": {
    "colab": {
     "base_uri": "https://localhost:8080/",
     "height": 320
    },
    "id": "TRa6N0kbFl_c",
    "outputId": "5c871d50-52a0-4438-ebbf-7b4cc7d49896"
   },
   "outputs": [
    {
     "data": {
      "text/plain": [
       "<matplotlib.legend.Legend at 0x7f7e00154df0>"
      ]
     },
     "execution_count": 45,
     "metadata": {
      "tags": []
     },
     "output_type": "execute_result"
    },
    {
     "data": {
      "image/png": "[encoded data removed]",
      "text/plain": [
       "<Figure size 432x288 with 1 Axes>"
      ]
     },
     "metadata": {
      "tags": []
     },
     "output_type": "display_data"
    }
   ],
   "source": [
    "view_length = 100\n",
    "view_landmark = np.random.randint(51)\n",
    "plt.title('landmark: ' + str(view_landmark))\n",
    "pos = np.random.randint(len(Y_test_pred)-view_length)\n",
    "plt.plot(Y_test_true[pos:pos+view_length,view_landmark], label=\"true\")\n",
    "plt.plot(Y_test_pred[pos:pos+view_length,view_landmark], label=\"pred\")\n",
    "plt.legend()\n"
   ]
  },
  {
   "cell_type": "markdown",
   "metadata": {
    "id": "2hOnkl8T_tty"
   },
   "source": [
    "## Prediction and save the result (WIP)"
   ]
  },
  {
   "cell_type": "code",
   "execution_count": null,
   "metadata": {
    "colab": {
     "base_uri": "https://localhost:8080/"
    },
    "id": "FQw8HBxW_2p6",
    "outputId": "d313714a-6a78-49d9-ac10-534b825b5d39"
   },
   "outputs": [
    {
     "name": "stdout",
     "output_type": "stream",
     "text": [
      "processing /home/alkhemi/Documents/thesis/evaluation/test/bbbf6n.wav\n",
      "0.13092660903930664\n",
      "0.047165632247924805\n",
      "0.046128034591674805\n",
      "0.04153585433959961\n",
      "0.04130148887634277\n",
      "0.03958916664123535\n",
      "0.04052305221557617\n",
      "0.043827056884765625\n",
      "0.04921460151672363\n",
      "0.05671501159667969\n",
      "0.04433774948120117\n",
      "0.04942131042480469\n",
      "0.041589975357055664\n",
      "0.04017758369445801\n",
      "0.040901899337768555\n",
      "0.03997802734375\n",
      "0.04093599319458008\n",
      "0.040541887283325195\n",
      "0.03995394706726074\n",
      "0.03970050811767578\n",
      "0.0462493896484375\n",
      "0.04118657112121582\n",
      "0.04225420951843262\n",
      "0.039664268493652344\n",
      "0.04176592826843262\n",
      "0.03954792022705078\n",
      "0.04047226905822754\n",
      "0.043358802795410156\n",
      "0.040868282318115234\n",
      "0.046045541763305664\n",
      "0.04137897491455078\n",
      "0.042060136795043945\n",
      "0.04310154914855957\n",
      "0.040540218353271484\n",
      "0.052614688873291016\n",
      "0.044210195541381836\n",
      "0.0454256534576416\n",
      "0.0434117317199707\n",
      "0.05794692039489746\n",
      "0.0458371639251709\n",
      "0.05636906623840332\n",
      "0.04458022117614746\n",
      "0.04125475883483887\n",
      "0.041265249252319336\n",
      "0.04335308074951172\n",
      "0.04584646224975586\n",
      "0.046221017837524414\n",
      "0.05277657508850098\n",
      "0.04239010810852051\n",
      "0.03962540626525879\n",
      "0.041574716567993164\n",
      "0.04733705520629883\n",
      "0.04525327682495117\n",
      "0.04787611961364746\n",
      "0.046060800552368164\n",
      "0.0513148307800293\n",
      "0.04769277572631836\n",
      "0.04394674301147461\n",
      "0.04565739631652832\n",
      "0.04474902153015137\n",
      "0.04259634017944336\n",
      "0.040627241134643555\n",
      "0.04259777069091797\n",
      "0.0452265739440918\n",
      "0.04593491554260254\n",
      "0.051140546798706055\n",
      "0.05412554740905762\n",
      "0.04246783256530762\n",
      "0.04158973693847656\n",
      "0.03965497016906738\n",
      "0.04079246520996094\n",
      "0.040619611740112305\n",
      "0.041001319885253906\n",
      "0.04192233085632324\n",
      "0.04567360877990723\n",
      "0.04027962684631348\n",
      "0.041007280349731445\n",
      "0.04067683219909668\n",
      "0.04192233085632324\n",
      "0.03951907157897949\n",
      "0.04056978225708008\n",
      "0.04192042350769043\n",
      "0.04023146629333496\n",
      "0.04771113395690918\n",
      "0.04044628143310547\n",
      "0.040791988372802734\n",
      "0.0414271354675293\n",
      "0.04066586494445801\n",
      "0.042510032653808594\n",
      "0.04041624069213867\n",
      "0.042118072509765625\n",
      "0.042402029037475586\n",
      "0.04764819145202637\n",
      "0.04246807098388672\n",
      "0.041455984115600586\n",
      "0.04083371162414551\n",
      "0.041951894760131836\n",
      "0.040415048599243164\n",
      "0.041631460189819336\n",
      "0.04019331932067871\n",
      "0.04193568229675293\n",
      "0.23369693756103516\n",
      "0.044863224029541016\n",
      "0.04498100280761719\n",
      "0.0520477294921875\n",
      "0.05282258987426758\n",
      "0.04319000244140625\n",
      "0.04268336296081543\n",
      "0.041255950927734375\n",
      "0.043991804122924805\n",
      "0.05045199394226074\n",
      "0.04356789588928223\n",
      "0.04336261749267578\n",
      "0.04300689697265625\n",
      "0.04297614097595215\n",
      "0.04162907600402832\n",
      "0.04143214225769043\n",
      "0.0417017936706543\n",
      "0.04158186912536621\n",
      "0.053678035736083984\n",
      "0.046195268630981445\n",
      "0.04412126541137695\n",
      "0.04369783401489258\n",
      "0.04153013229370117\n",
      "0.04434823989868164\n",
      "0.04042363166809082\n",
      "0.04210948944091797\n",
      "0.04137754440307617\n",
      "0.04840660095214844\n",
      "0.04226851463317871\n",
      "0.0410304069519043\n",
      "0.042696237564086914\n",
      "0.05150032043457031\n",
      "0.042032718658447266\n",
      "0.041139841079711914\n",
      "0.04021096229553223\n",
      "0.040678977966308594\n",
      "0.04996991157531738\n",
      "0.04262995719909668\n",
      "0.04230213165283203\n",
      "0.04307985305786133\n",
      "processing /home/alkhemi/Documents/thesis/evaluation/test/bbwt1a.wav\n",
      "0.07690143585205078\n",
      "0.06266212463378906\n",
      "0.042562246322631836\n",
      "0.04439878463745117\n",
      "0.04139590263366699\n",
      "0.04168868064880371\n",
      "0.041573524475097656\n",
      "0.04105067253112793\n",
      "0.05400490760803223\n",
      "0.042092084884643555\n",
      "0.044769287109375\n",
      "0.04160165786743164\n",
      "0.04383730888366699\n",
      "0.04183530807495117\n",
      "0.0422513484954834\n",
      "0.05137038230895996\n",
      "0.04005765914916992\n",
      "0.051013946533203125\n",
      "0.04430341720581055\n",
      "0.04081869125366211\n",
      "0.04332280158996582\n",
      "0.04012560844421387\n",
      "0.04110980033874512\n",
      "0.04273056983947754\n",
      "0.04070568084716797\n",
      "0.04250025749206543\n",
      "0.04912137985229492\n",
      "0.04257059097290039\n",
      "0.04244112968444824\n",
      "0.04288816452026367\n",
      "0.04274177551269531\n",
      "0.04167938232421875\n",
      "0.04089760780334473\n",
      "0.043212890625\n",
      "0.039984941482543945\n",
      "0.0503695011138916\n",
      "0.04169106483459473\n",
      "0.04237556457519531\n",
      "0.043692588806152344\n",
      "0.04172515869140625\n",
      "0.04445171356201172\n",
      "0.042139530181884766\n",
      "0.041266679763793945\n",
      "0.044393062591552734\n",
      "0.049408912658691406\n",
      "0.04383206367492676\n",
      "0.04234480857849121\n",
      "0.04294466972351074\n",
      "0.04362797737121582\n",
      "0.04135894775390625\n",
      "0.04290580749511719\n",
      "0.04071784019470215\n",
      "0.04117751121520996\n",
      "0.049347877502441406\n",
      "0.042508840560913086\n",
      "0.04356551170349121\n",
      "0.041571855545043945\n",
      "0.042185068130493164\n",
      "0.04249739646911621\n",
      "0.041042327880859375\n",
      "0.042939186096191406\n",
      "0.03957724571228027\n",
      "0.04736661911010742\n",
      "0.042054176330566406\n",
      "0.040390968322753906\n",
      "0.04195809364318848\n",
      "0.040308237075805664\n",
      "0.040161848068237305\n",
      "0.04327821731567383\n",
      "0.03905344009399414\n",
      "0.0409541130065918\n",
      "0.04602360725402832\n",
      "0.040773630142211914\n",
      "0.04352879524230957\n",
      "0.04276013374328613\n",
      "0.04154157638549805\n",
      "0.04124808311462402\n",
      "0.041272878646850586\n",
      "0.04431271553039551\n",
      "0.04047679901123047\n",
      "0.05048656463623047\n",
      "0.04031801223754883\n",
      "0.043248653411865234\n",
      "0.04354453086853027\n",
      "0.04123854637145996\n",
      "0.041654109954833984\n",
      "0.04120898246765137\n",
      "0.04305696487426758\n",
      "0.04201316833496094\n",
      "0.04840874671936035\n",
      "0.04249095916748047\n",
      "0.041268348693847656\n",
      "0.04207658767700195\n",
      "0.043050289154052734\n",
      "0.0410616397857666\n",
      "0.043365478515625\n",
      "0.04007863998413086\n",
      "0.04059934616088867\n",
      "0.04852437973022461\n",
      "0.04127669334411621\n",
      "0.0440363883972168\n",
      "0.04208779335021973\n",
      "0.041568756103515625\n",
      "0.043393611907958984\n",
      "0.04089832305908203\n",
      "0.042684078216552734\n",
      "0.039911746978759766\n",
      "0.04742884635925293\n",
      "0.04309225082397461\n",
      "0.04172110557556152\n",
      "0.042701005935668945\n",
      "0.04190254211425781\n",
      "0.04107022285461426\n",
      "0.04503273963928223\n",
      "0.04008221626281738\n",
      "0.04239654541015625\n",
      "0.04757857322692871\n",
      "0.04199814796447754\n",
      "0.044356584548950195\n",
      "0.0423731803894043\n",
      "0.04295063018798828\n",
      "0.04278969764709473\n",
      "0.042044639587402344\n",
      "0.04219532012939453\n",
      "0.04095101356506348\n",
      "0.05063056945800781\n",
      "0.04139447212219238\n",
      "0.04262375831604004\n",
      "0.04151415824890137\n",
      "0.04023027420043945\n",
      "0.0437929630279541\n",
      "0.04056692123413086\n",
      "0.043070077896118164\n",
      "0.04582953453063965\n",
      "0.047300100326538086\n",
      "0.04503202438354492\n",
      "0.04251217842102051\n",
      "0.041628360748291016\n",
      "0.041677236557006836\n",
      "0.04033041000366211\n",
      "0.04268622398376465\n",
      "processing /home/alkhemi/Documents/thesis/evaluation/test/srwo9a.wav\n",
      "0.07911944389343262\n",
      "0.06093955039978027\n",
      "0.04210257530212402\n",
      "0.04367995262145996\n",
      "0.04168248176574707\n",
      "0.052100419998168945\n",
      "0.04108691215515137\n",
      "0.04080009460449219\n",
      "0.05167412757873535\n",
      "0.044326066970825195\n",
      "0.04268240928649902\n",
      "0.04223990440368652\n",
      "0.04208707809448242\n",
      "0.04529261589050293\n",
      "0.04055190086364746\n",
      "0.04222893714904785\n",
      "0.04065370559692383\n",
      "0.050431251525878906\n",
      "0.04377388954162598\n",
      "0.04232907295227051\n",
      "0.04425835609436035\n",
      "0.04242658615112305\n",
      "0.04438376426696777\n",
      "0.04200935363769531\n",
      "0.04092097282409668\n",
      "0.044603824615478516\n",
      "0.05015134811401367\n",
      "0.042374610900878906\n",
      "0.04404735565185547\n",
      "0.044193267822265625\n",
      "0.04712510108947754\n",
      "0.0425412654876709\n",
      "0.04189896583557129\n",
      "0.04415249824523926\n",
      "0.04227423667907715\n",
      "0.05000162124633789\n",
      "0.041959524154663086\n",
      "0.054724931716918945\n",
      "0.05407404899597168\n",
      "0.041487932205200195\n",
      "0.042467355728149414\n",
      "0.043866872787475586\n",
      "0.042409658432006836\n",
      "0.04226231575012207\n",
      "0.04819846153259277\n",
      "0.04346418380737305\n",
      "0.04187178611755371\n",
      "0.04117560386657715\n",
      "0.042305946350097656\n",
      "0.040470123291015625\n",
      "0.04332113265991211\n",
      "0.05424380302429199\n",
      "0.042938947677612305\n",
      "0.06558775901794434\n",
      "0.05711221694946289\n",
      "0.05414390563964844\n",
      "0.0429987907409668\n",
      "0.04342985153198242\n",
      "0.04148387908935547\n",
      "0.0431971549987793\n",
      "0.04171633720397949\n",
      "0.051262855529785156\n",
      "0.0648794174194336\n",
      "0.041078805923461914\n",
      "0.04157710075378418\n",
      "0.039150238037109375\n",
      "0.04319262504577637\n",
      "0.03966712951660156\n",
      "0.04020428657531738\n",
      "0.04352426528930664\n",
      "0.04719185829162598\n",
      "0.042093515396118164\n",
      "0.0431821346282959\n",
      "0.04260396957397461\n",
      "0.04393935203552246\n",
      "0.047783851623535156\n",
      "0.040692806243896484\n",
      "0.04339289665222168\n",
      "0.040448904037475586\n",
      "0.04815483093261719\n",
      "0.04038667678833008\n",
      "0.04086875915527344\n",
      "0.04155850410461426\n",
      "0.04003572463989258\n",
      "0.04168105125427246\n",
      "0.0532069206237793\n",
      "0.05353569984436035\n",
      "0.05424785614013672\n",
      "0.06344342231750488\n",
      "0.041014909744262695\n",
      "0.041144609451293945\n",
      "0.04491543769836426\n",
      "0.04218769073486328\n",
      "0.041173458099365234\n",
      "0.04406261444091797\n",
      "0.0397493839263916\n",
      "0.04046988487243652\n",
      "0.052359580993652344\n",
      "0.04367947578430176\n",
      "0.04464221000671387\n",
      "0.04194188117980957\n",
      "0.04302167892456055\n",
      "0.044501304626464844\n",
      "0.041494131088256836\n",
      "0.042763471603393555\n",
      "0.04135632514953613\n",
      "0.04928135871887207\n",
      "0.04385805130004883\n",
      "0.04188227653503418\n",
      "0.044083595275878906\n",
      "0.04287385940551758\n",
      "0.04136538505554199\n",
      "0.04357433319091797\n",
      "0.04071450233459473\n",
      "0.04164910316467285\n",
      "0.046866416931152344\n",
      "0.040296077728271484\n",
      "0.04207158088684082\n",
      "0.041220664978027344\n",
      "0.044930458068847656\n",
      "0.04177999496459961\n",
      "0.043509483337402344\n",
      "0.042326927185058594\n",
      "0.040064096450805664\n",
      "0.04786515235900879\n",
      "0.0403904914855957\n",
      "0.040381669998168945\n",
      "0.04198098182678223\n",
      "0.03965497016906738\n",
      "0.04107546806335449\n",
      "0.03987693786621094\n",
      "0.0404505729675293\n",
      "0.04146862030029297\n",
      "0.049652814865112305\n",
      "0.04177546501159668\n",
      "0.042610883712768555\n",
      "0.041558265686035156\n",
      "0.04334378242492676\n",
      "0.04119443893432617\n",
      "0.042330265045166016\n",
      "0.04009199142456055\n"
     ]
    }
   ],
   "source": [
    "import os\n",
    "import gc\n",
    "import numpy as np\n",
    "import pandas as pd\n",
    "import librosa\n",
    "import tensorflow as tf\n",
    "from scipy.signal import butter, sosfilt\n",
    "\n",
    "\n",
    "def custom_scale(arr, a, b):\n",
    "    return arr*a + b\n",
    "\n",
    "\n",
    "def custom_inverse_scale(arr, a, b):\n",
    "    return (arr-b)/a\n",
    "\n",
    "\n",
    "# create labels\n",
    "landmark_indexes = [5, 6, 7, 8, 31, 32, 33, 48,\n",
    "                    49, 50, 51, 57, 58, 59, 60, 61, 62, 66, 67]\n",
    "center_indexes = [8, 33, 51, 57, 62, 66]\n",
    "landmark_labels = [\"X_\"+str(i)\n",
    "                   for i in landmark_indexes if i not in center_indexes]\n",
    "landmark_labels += [\"Y_\"+str(i) for i in landmark_indexes]\n",
    "landmark_labels += [\"Z_\"+str(i) for i in landmark_indexes]\n",
    "\n",
    "# mirror landmark pair\n",
    "mirror_landmark_pair = [[9,7], [10,6], [11,5], [34,32], [35,31], [52,50], \n",
    "                        [53,49], [54,48], [55,59], [56,58], [63,61], [64,60], [65,67]]\n",
    "\n",
    "# all indexes\n",
    "all_indexes = [5, 6, 7, 8, 9, 10, 11, 31, 32, 33, 34, 35, 48, 49, 50, 51, 52,\n",
    "               53, 54, 55, 56, 57, 58, 59, 60, 61, 62, 63, 64, 65, 66, 67]\n",
    "                \n",
    "\n",
    "\n",
    "# audio params\n",
    "frame_length = 0.02  # 20ms\n",
    "audio_sample_rate = 44100\n",
    "hop_length = int(audio_sample_rate*frame_length)  # 882 frames for 20 ms\n",
    "\n",
    "# import model\n",
    "# saved_model_dir = \"/home/alkhemi/Documents/test/\"\n",
    "# model = AttentionModel(num_layers=1, d_model=13, num_heads=1, \n",
    "#                          dff=512, maximum_position_encoding=10)\n",
    "# temp_input = tf.random.uniform((1, 10, 13), dtype=tf.float16, minval=0, maxval=1)\n",
    "# temp_output = model(x=temp_input, training=False, mask=None )\n",
    "# model.load_weights(saved_model_dir+\"Attention-400-0.0126-0.2547-0.3202.h5\")\n",
    "# model.summary()\n",
    "\n",
    "# get scale coefs\n",
    "npy_data_dir = \"/home/alkhemi/Documents/thesis/npy_data/\"\n",
    "x_scale_coefs = np.load(npy_data_dir+\"s01_x_scale_coef.npy\")\n",
    "y_scale_coefs = np.load(npy_data_dir+\"s01_y_scale_coef.npy\")\n",
    "\n",
    "# create noise filter\n",
    "sos = butter(13, [60, 8000], output='sos', btype='bandpass', fs=44100)\n",
    "\n",
    "audio_dir = \"/home/alkhemi/Documents/thesis/evaluation/test/\"\n",
    "audio_paths = [audio_dir +\n",
    "               item for item in os.listdir(audio_dir) if item[-4:] == \".wav\"]\n",
    "audio_paths.sort()\n",
    "# print(len(audio_paths))\n",
    "\n",
    "output_dir = \"/home/alkhemi/Documents/thesis/evaluation/test/\"\n",
    "filename_prefix = \"\"\n",
    "filename_suffix = \"_\"+model_name\n",
    "\n",
    "with tf.device('/gpu:0'):\n",
    "  for audio_path in audio_paths:\n",
    "      print(\"processing\", audio_path)\n",
    "      # load audio (mono)\n",
    "      audio_array, sr = librosa.load(\n",
    "          audio_path, sr=audio_sample_rate, mono=True)\n",
    "\n",
    "      # noise filter\n",
    "      audio_array_filtered = sosfilt(sos, audio_array)\n",
    "\n",
    "      # get mfcc\n",
    "      MFCCs = librosa.feature.mfcc(\n",
    "          audio_array_filtered,\n",
    "          sr=sr,\n",
    "          n_fft=512,  # window size\n",
    "          hop_length=hop_length,\n",
    "          n_mfcc=13,  # num of coefficients\n",
    "          n_mels=40,  # num of mel band filters\n",
    "          window=\"hann\",\n",
    "          htk=True,\n",
    "      ).transpose()\n",
    "\n",
    "      # scale\n",
    "      scaled_MFCCs = np.zeros(shape=MFCCs.shape, dtype=\"float16\")\n",
    "      for i in range(13):\n",
    "          scaled_MFCCs[:, i] = custom_scale(\n",
    "              arr=MFCCs[:, i],\n",
    "              a=x_scale_coefs[i, 0],\n",
    "              b=x_scale_coefs[i, 1])\n",
    "\n",
    "      # get landmark predict\n",
    "      landmarks_dis_scaled = np.zeros(shape = (scaled_MFCCs.shape[0],51), dtype='float16')\n",
    "      for i in range(landmarks_dis_scaled.shape[0]-10):\n",
    "        pos = i + 10\n",
    "        start_time = time.time()\n",
    "        landmarks_dis_scaled[pos,:] = model.predict(\n",
    "            np.expand_dims(scaled_MFCCs[pos-10:pos,:], axis=0))\n",
    "        print(time.time()-start_time)\n",
    "\n",
    "      # inverse scale\n",
    "      landmarks_displacement = np.zeros(\n",
    "          shape=landmarks_dis_scaled.shape, dtype='float16')\n",
    "      for i in range(51):\n",
    "          landmarks_displacement[:, i] = custom_inverse_scale(\n",
    "              arr=landmarks_dis_scaled[:, i],\n",
    "              a=y_scale_coefs[i, 0],\n",
    "              b=y_scale_coefs[i, 1])\n",
    "      \n",
    "      # create dataframe and generate other half of the face\n",
    "      df = pd.DataFrame()\n",
    "      # make sure all data exists\n",
    "      for axis in [\"X_\",\"Y_\",\"Z_\"]:\n",
    "        for i in all_indexes:\n",
    "          df[axis+str(i)] = [0]*landmarks_displacement.shape[0]\n",
    "\n",
    "      # left side landmarks\n",
    "      for i in range(len(landmark_labels)):\n",
    "        df[landmark_labels[i]] = landmarks_displacement[:,i]\n",
    "\n",
    "      # the other half\n",
    "      for pair in mirror_landmark_pair:\n",
    "        df[\"X_\"+str(pair[0])] = -df[\"X_\"+str(pair[1])]\n",
    "        df[\"Y_\"+str(pair[0])] = df[\"Y_\"+str(pair[1])]\n",
    "        df[\"Z_\"+str(pair[0])] = df[\"Z_\"+str(pair[1])]\n",
    "      \n",
    "      # make sure x value of center landmark is zero\n",
    "      for i in center_indexes:\n",
    "        df[\"X_\"+str(i)] = [0]*len(df)\n",
    "\n",
    "      # save csv\n",
    "      filename = audio_path.split(\"/\")[-1].split(\".\")[-2]\n",
    "      df.to_csv(output_dir + filename_prefix + filename + filename_suffix\n",
    "                + \"_pred.csv\", index=False, float_format='%.3f')\n",
    "      del audio_array, sr, audio_array_filtered, MFCCs, scaled_MFCCs\n",
    "      del landmarks_dis_scaled, landmarks_displacement\n",
    "      gc.collect()"
   ]
  }
 ],
 "metadata": {
  "accelerator": "GPU",
  "colab": {
   "collapsed_sections": [
    "J0Qjg6vuaHNt",
    "QB80O3WTX51q",
    "nBQuibYA4n0n",
    "xluDl5cXYy4y",
    "kmzGPEy64qmA",
    "RdDqGayx67vv",
    "7e7hKcxn6-zd",
    "aJcOHWt06mOL",
    "QfcsSWswSdGV",
    "2hOnkl8T_tty"
   ],
   "name": "Speech Animation Attention is All You Need.ipynb",
   "provenance": []
  },
  "kernelspec": {
   "display_name": "Python 3",
   "language": "python",
   "name": "python3"
  },
  "language_info": {
   "codemirror_mode": {
    "name": "ipython",
    "version": 3
   },
   "file_extension": ".py",
   "mimetype": "text/x-python",
   "name": "python",
   "nbconvert_exporter": "python",
   "pygments_lexer": "ipython3",
   "version": "3.8.6"
  }
 },
 "nbformat": 4,
 "nbformat_minor": 1
}
