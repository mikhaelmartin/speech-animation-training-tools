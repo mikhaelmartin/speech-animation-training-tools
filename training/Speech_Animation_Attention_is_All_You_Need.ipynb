{
 "cells": [
  {
   "cell_type": "markdown",
   "metadata": {
    "id": "J0Qjg6vuaHNt"
   },
   "source": [
    "## Import Modules"
   ]
  },
  {
   "cell_type": "code",
   "execution_count": 45,
   "metadata": {
    "id": "JjJJyJTZYebt"
   },
   "outputs": [
    {
     "output_type": "stream",
     "name": "stdout",
     "text": [
      "Num GPUs Available:  1\n"
     ]
    }
   ],
   "source": [
    "# import tensorflow_datasets as tfds\n",
    "import tensorflow as tf\n",
    "import os\n",
    "import time\n",
    "import pandas as pd\n",
    "import numpy as np\n",
    "import matplotlib.pyplot as plt\n",
    "from math import ceil,floor\n",
    "from IPython.display import clear_output\n",
    "import gc\n",
    "\n",
    "plt.style.use('fivethirtyeight')\n",
    "\n",
    "data_dir = \"/home/alkhemi/Documents/thesis/npy_data_s19_mfcc39_landmark107_pastX12_futureX12_pastY0_futureY0/\"\n",
    "model_dir = \"/home/alkhemi/Documents/thesis/saved_model/\"\n",
    "print(\"Num GPUs Available: \", len(tf.config.experimental.list_physical_devices('GPU')))"
   ]
  },
  {
   "cell_type": "markdown",
   "metadata": {
    "id": "GEo-NYucwJRH"
   },
   "source": [
    "## Get data\n"
   ]
  },
  {
   "cell_type": "code",
   "execution_count": 46,
   "metadata": {
    "colab": {
     "base_uri": "https://localhost:8080/"
    },
    "id": "8U3dVMnfwQAt",
    "outputId": "341ce60c-a391-4d74-8f04-ec0b93626a92"
   },
   "outputs": [
    {
     "output_type": "stream",
     "name": "stdout",
     "text": [
      "train X shape: (138591, 25, 39) Y shape: (138591, 1, 107)\ntest X shape: (15400, 25, 39) Y shape: (15400, 1, 107)\n"
     ]
    }
   ],
   "source": [
    "# load data. input is a seq. output is single step data\n",
    "# TODO multi speaker data load\n",
    "X_train = np.load(data_dir+\"X_train.npy\")\n",
    "Y_train = np.load(data_dir+\"Y_train.npy\")\n",
    "X_test = np.load(data_dir+\"X_test.npy\")\n",
    "Y_test = np.load(data_dir+\"Y_test.npy\")\n",
    "print(\"train\", \"X shape:\", X_train.shape, \"Y shape:\", Y_train.shape)\n",
    "print(\"test\", \"X shape:\", X_test.shape, \"Y shape:\", Y_test.shape)\n",
    "# print(\"train\", \"x min:\", X_train.min(), \"x max:\", X_train.max())\n",
    "# print(\"train\", \"y min:\", Y_train.min(), \"y max:\", Y_train.max())"
   ]
  },
  {
   "source": [
    "# one time only\n",
    "def get_scaler_coef(arr,min,max):\n",
    "  a = (max-min)/(arr.max()-arr.min())\n",
    "  b = min-(max-min)*arr.min()/(arr.max()-arr.min())\n",
    "  return a, b\n",
    "\n",
    "def custom_scale(arr,a,b):\n",
    "  return arr*a + b\n",
    "\n",
    "def custom_inverse_scale(arr,a,b):\n",
    "  return (arr-b)/a\n",
    "\n",
    "x_scale_coefs = np.zeros(shape=(X_train.shape[2],2),dtype=\"float16\")\n",
    "y_scale_coefs = np.zeros(shape=(Y_train.shape[2],2),dtype=\"float16\")\n",
    "X_train_scaled = np.zeros(shape=X_train.shape,dtype=\"float16\")\n",
    "Y_train_scaled = np.zeros(shape=Y_train.shape,dtype=\"float16\")\n",
    "X_test_scaled = np.zeros(shape=X_test.shape,dtype=\"float16\")\n",
    "Y_test_scaled = np.zeros(shape=Y_test.shape,dtype=\"float16\")\n",
    "\n",
    "for i in range(X_train.shape[2]):\n",
    "  x_scale_coefs[i] = np.array(get_scaler_coef(arr=X_train[:,:,i],min=-0.7,max=0.7))\n",
    "  X_train_scaled[:,:,i] = custom_scale(X_train[:,:,i],x_scale_coefs[i,0],x_scale_coefs[i,1] )\n",
    "  X_test_scaled[:,:,i] = custom_scale(X_test[:,:,i],x_scale_coefs[i,0],x_scale_coefs[i,1])\n",
    "  \n",
    "for i in range(Y_train.shape[2]):\n",
    "  y_scale_coefs[i] = np.array(get_scaler_coef(arr=Y_train[:,:,i],min=-0.7,max=0.7))\n",
    "  Y_train_scaled[:,:,i] = custom_scale(Y_train[:,:,i],y_scale_coefs[i,0],y_scale_coefs[i,1] )\n",
    "  Y_test_scaled[:,:,i] = custom_scale(Y_test[:,:,i],y_scale_coefs[i,0],y_scale_coefs[i,1] )\n",
    "  \n",
    "\n",
    "\n",
    "pd.DataFrame(x_scale_coefs, columns=[\"a\",\"b\"]).to_csv(data_dir+\"x_scale_coef.csv\", index=False)\n",
    "pd.DataFrame(y_scale_coefs, columns=[\"a\",\"b\"]).to_csv(data_dir+\"y_scale_coef.csv\", index=False)\n",
    "\n",
    "print(\"train\")\n",
    "print(\"x min:\", X_train_scaled.min(), \"x max:\", X_train_scaled.max())\n",
    "print(\"y min:\", Y_train_scaled.min(), \"y max:\", Y_train_scaled.max())\n",
    "print(\"test\")\n",
    "print(\"x min:\", X_test_scaled.min(), \"x max:\", X_test_scaled.max())\n",
    "print(\"y min:\", Y_test_scaled.min(), \"y max:\", Y_test_scaled.max())\n"
   ],
   "cell_type": "code",
   "metadata": {},
   "execution_count": null,
   "outputs": []
  },
  {
   "cell_type": "code",
   "execution_count": 47,
   "metadata": {
    "colab": {
     "base_uri": "https://localhost:8080/"
    },
    "id": "2Tng3ZuX25Pq",
    "outputId": "40a4cc2e-a3e6-46e3-d06e-a2e373dde0fe"
   },
   "outputs": [],
   "source": [
    "def custom_scale(arr,a,b):\n",
    "  return arr*a + b\n",
    "\n",
    "def custom_inverse_scale(arr,a,b):\n",
    "  return (arr-b)/a\n",
    "\n",
    "x_scale_coefs = pd.read_csv(data_dir+\"x_scale_coef.csv\").to_numpy(dtype='float16')\n",
    "y_scale_coefs = pd.read_csv(data_dir+\"y_scale_coef.csv\").to_numpy(dtype='float16')\n",
    "\n",
    "X_train_scaled = np.zeros(shape=X_train.shape,dtype=\"float16\")\n",
    "Y_train_scaled = np.zeros(shape=Y_train.shape,dtype=\"float16\")\n",
    "X_test_scaled = np.zeros(shape=X_test.shape,dtype=\"float16\")\n",
    "Y_test_scaled = np.zeros(shape=Y_test.shape,dtype=\"float16\")\n",
    "\n",
    "for i in range(X_train.shape[2]):\n",
    "  X_train_scaled[:,:,i] = custom_scale(\n",
    "    X_train[:,:,i],x_scale_coefs[i,0],x_scale_coefs[i,1])\n",
    "  X_test_scaled[:,:,i] = custom_scale(\n",
    "    X_test[:,:,i],x_scale_coefs[i,0],x_scale_coefs[i,1])\n",
    "for i in range(Y_train.shape[2]):\n",
    "  Y_train_scaled[:,:,i] = custom_scale(\n",
    "      Y_train[:,:,i],y_scale_coefs[i,0],y_scale_coefs[i,1])\n",
    "  Y_test_scaled[:,:,i] = custom_scale(\n",
    "      Y_test[:,:,i],y_scale_coefs[i,0],y_scale_coefs[i,1])\n",
    "\n",
    "\n",
    "# print(\"train\")\n",
    "# print(\"x min:\", X_train_scaled.min(), \"x max:\", X_train_scaled.max())\n",
    "# print(\"y min:\", Y_train_scaled.min(), \"y max:\", Y_train_scaled.max())\n",
    "# print(\"test\")\n",
    "# print(\"x min:\", X_test_scaled.min(), \"x max:\", X_test_scaled.max())\n",
    "# print(\"y min:\", Y_test_scaled.min(), \"y max:\", Y_test_scaled.max())"
   ]
  },
  {
   "cell_type": "code",
   "execution_count": 48,
   "metadata": {},
   "outputs": [
    {
     "output_type": "stream",
     "name": "stdout",
     "text": [
      "(71, 1, 22)\n61025\n(32, 0, 0)\n"
     ]
    }
   ],
   "source": [
    "\n",
    "del X_train, Y_train, X_test, Y_test\n",
    "print(gc.get_count())\n",
    "print(gc.collect())\n",
    "print(gc.get_count())"
   ]
  },
  {
   "cell_type": "code",
   "execution_count": 49,
   "metadata": {
    "colab": {
     "base_uri": "https://localhost:8080/"
    },
    "id": "fdkRy2qu5ANV",
    "outputId": "0d7d9d45-f6f6-456e-a232-cef148a28c52"
   },
   "outputs": [
    {
     "output_type": "stream",
     "name": "stdout",
     "text": [
      "(138591, 25, 39) (138591, 1, 107)\n(15400, 25, 39) (15400, 1, 107)\n"
     ]
    }
   ],
   "source": [
    "print(X_train_scaled.shape, Y_train_scaled.shape)\n",
    "print(X_test_scaled.shape, Y_test_scaled.shape)"
   ]
  },
  {
   "cell_type": "code",
   "execution_count": null,
   "metadata": {
    "id": "lyB9pUrSoazQ"
   },
   "outputs": [],
   "source": [
    "# batch_size = 1024\n",
    "# train_dataset=[]\n",
    "# for i in range(ceil(X_train_scaled.shape[0]/batch_size)):\n",
    "#   pos = i*batch_size\n",
    "#   train_dataset.append((X_train_scaled[pos:pos+batch_size],Y_train_scaled[pos:pos+batch_size]))\n",
    "\n",
    "# # for testing single big batch\n",
    "# test_dataset = []\n",
    "# for i in range(ceil(X_test_scaled.shape[0]/batch_size)):\n",
    "#   pos = i*batch_size\n",
    "#   test_dataset.append((X_test_scaled[pos:pos+batch_size],Y_test_scaled[pos:pos+batch_size]))\n",
    "\n",
    "# del X_train_scaled, Y_train_scaled, X_test_scaled, Y_test_scaled\n",
    "# # train_dataset[0].shape, train_dataset[1].shape, test_dataset[0].shape, test_dataset[1].shape"
   ]
  },
  {
   "cell_type": "code",
   "execution_count": null,
   "metadata": {
    "id": "qKy2_sc7uBfC"
   },
   "outputs": [],
   "source": [
    "# len(test_dataset)"
   ]
  },
  {
   "cell_type": "markdown",
   "metadata": {
    "id": "nBQuibYA4n0n"
   },
   "source": [
    "## Positional Encoding"
   ]
  },
  {
   "cell_type": "markdown",
   "metadata": {
    "id": "3P83Z0DEu98Q"
   },
   "source": [
    "Since this model doesn't contain any recurrence or convolution, positional encoding is added to give the model some information about the relative position of the words in the sentence. \n",
    "\n",
    "The positional encoding vector is added to the embedding vector. Embeddings represent a token in a d-dimensional space where tokens with similar meaning will be closer to each other. But the embeddings do not encode the relative position of words in a sentence. So after adding the positional encoding, words will be closer to each other based on the *similarity of their meaning and their position in the sentence*, in the d-dimensional space.\n",
    "\n",
    "See the notebook on [positional encoding](https://github.com/tensorflow/examples/blob/master/community/en/position_encoding.ipynb) to learn more about it. The formula for calculating the positional encoding is as follows:\n",
    "\n",
    "$$\\Large{PE_{(pos, 2i)} = sin(pos / 10000^{2i / d_{model}})} $$\n",
    "$$\\Large{PE_{(pos, 2i+1)} = cos(pos / 10000^{2i / d_{model}})} $$"
   ]
  },
  {
   "cell_type": "code",
   "execution_count": 50,
   "metadata": {
    "id": "1Rz82wEs5biZ"
   },
   "outputs": [],
   "source": [
    "class PositionalEncoding(tf.keras.layers.Layer):\n",
    "  def __init__(self, position, d_model):\n",
    "    super(PositionalEncoding, self).__init__()\n",
    "    \n",
    "    self.angle_rads = self.get_angles(\n",
    "        np.arange(position)[:, np.newaxis],\n",
    "        np.arange(d_model)[np.newaxis, :],\n",
    "        d_model)\n",
    "    \n",
    "    # apply sin to even indices in the array; 2i\n",
    "    self.angle_rads[:, 0::2] = np.sin(self.angle_rads[:, 0::2])\n",
    "    \n",
    "    # apply cos to odd indices in the array; 2i+1\n",
    "    self.angle_rads[:, 1::2] = np.cos(self.angle_rads[:, 1::2])\n",
    "      \n",
    "    self.pos_encoding = tf.cast(self.angle_rads[np.newaxis, ...], dtype=tf.float32)\n",
    "  \n",
    "  def get_angles(self, pos, i, d_model):\n",
    "    angle_rates = 1 / np.power(10000, (2 * (i//2)) / np.float32(d_model))\n",
    "    return pos * angle_rates\n",
    "\n",
    "  def call(self, x):    \n",
    "    seq_len = tf.shape(x)[1]\n",
    "    return x+self.pos_encoding[:, :seq_len, :]"
   ]
  },
  {
   "cell_type": "markdown",
   "metadata": {
    "id": "xluDl5cXYy4y"
   },
   "source": [
    "## Scaled dot product attention"
   ]
  },
  {
   "cell_type": "markdown",
   "metadata": {
    "id": "vsxEE_-Wa1gF"
   },
   "source": [
    "<img src=\"https://www.tensorflow.org/images/tutorials/transformer/scaled_attention.png\" width=\"500\" alt=\"scaled_dot_product_attention\">\n",
    "\n",
    "The attention function used by the transformer takes three inputs: Q (query), K (key), V (value). The equation used to calculate the attention weights is:\n",
    "\n",
    "$$\\Large{Attention(Q, K, V) = softmax_k(\\frac{QK^T}{\\sqrt{d_k}}) V} $$\n",
    "\n",
    "The dot-product attention is scaled by a factor of square root of the depth. This is done because for large values of depth, the dot product grows large in magnitude pushing the softmax function where it has small gradients resulting in a very hard softmax. \n",
    "\n",
    "For example, consider that `Q` and `K` have a mean of 0 and variance of 1. Their matrix multiplication will have a mean of 0 and variance of `dk`. Hence, *square root of `dk`* is used for scaling (and not any other number) because the matmul of `Q` and `K` should have a mean of 0 and variance of 1, and you get a gentler softmax.\n",
    "\n",
    "The mask is multiplied with -1e9 (close to negative infinity). This is done because the mask is summed with the scaled matrix multiplication of Q and K and is applied immediately before a softmax. The goal is to zero out these cells, and large negative inputs to softmax are near zero in the output."
   ]
  },
  {
   "cell_type": "code",
   "execution_count": 51,
   "metadata": {
    "id": "LazzUq3bJ5SH"
   },
   "outputs": [],
   "source": [
    "def scaled_dot_product_attention(q, k, v):\n",
    "  \"\"\"Calculate the attention weights.\n",
    "  q, k, v must have matching leading dimensions.\n",
    "  k, v must have matching penultimate dimension, i.e.: seq_len_k = seq_len_v.\n",
    "  The mask has different shapes depending on its type(padding or look ahead) \n",
    "  but it must be broadcastable for addition.\n",
    "  \n",
    "  Args:\n",
    "    q: query shape == (..., seq_len_q, depth)\n",
    "    k: key shape == (..., seq_len_k, depth)\n",
    "    v: value shape == (..., seq_len_v, depth_v)\n",
    "    mask: Float tensor with shape broadcastable \n",
    "          to (..., seq_len_q, seq_len_k). Defaults to None.\n",
    "    \n",
    "  Returns:\n",
    "    output, attention_weights\n",
    "  \"\"\"\n",
    "\n",
    "  matmul_qk =tf.matmul(q, k, transpose_b=True)  # (..., seq_len_q, seq_len_k)\n",
    "  \n",
    "  # scale matmul_qk\n",
    "  dk = tf.cast(tf.shape(k)[-1], tf.float32)\n",
    "  scaled_attention_logits = matmul_qk / tf.math.sqrt(dk)\n",
    "\n",
    "  # # add the mask to the scaled tensor.\n",
    "  # if mask is not None:\n",
    "  #   scaled_attention_logits += (mask * -1e9)  \n",
    "\n",
    "  # softmax is normalized on the last axis (seq_len_k) so that the scores\n",
    "  # add up to 1.\n",
    "  attention_weights = tf.nn.softmax(scaled_attention_logits, axis=-1)  # (..., seq_len_q, seq_len_k)\n",
    "\n",
    "  output = tf.matmul(attention_weights, v)  # (..., seq_len_q, depth_v)\n",
    "\n",
    "  return output, attention_weights"
   ]
  },
  {
   "cell_type": "markdown",
   "metadata": {
    "id": "FiqETnhCkoXh"
   },
   "source": [
    "As the softmax normalization is done on K, its values decide the amount of importance given to Q.\n",
    "\n",
    "The output represents the multiplication of the attention weights and the V (value) vector. This ensures that the words you want to focus on are kept as-is and the irrelevant words are flushed out."
   ]
  },
  {
   "cell_type": "markdown",
   "metadata": {
    "id": "kmzGPEy64qmA"
   },
   "source": [
    "## Multi-head attention"
   ]
  },
  {
   "cell_type": "markdown",
   "metadata": {
    "id": "fz5BMC8Kaoqo"
   },
   "source": [
    "<img src=\"https://www.tensorflow.org/images/tutorials/transformer/multi_head_attention.png\" width=\"500\" alt=\"multi-head attention\">\n",
    "\n",
    "\n",
    "Multi-head attention consists of four parts:\n",
    "*    Linear layers and split into heads.\n",
    "*    Scaled dot-product attention.\n",
    "*    Concatenation of heads.\n",
    "*    Final linear layer."
   ]
  },
  {
   "cell_type": "markdown",
   "metadata": {
    "id": "JPmbr6F1C-v_"
   },
   "source": [
    "Each multi-head attention block gets three inputs; Q (query), K (key), V (value). These are put through linear (Dense) layers and split up into multiple heads. \n",
    "\n",
    "The `scaled_dot_product_attention` defined above is applied to each head (broadcasted for efficiency). An appropriate mask must be used in the attention step.  The attention output for each head is then concatenated (using `tf.transpose`, and `tf.reshape`) and put through a final `Dense` layer.\n",
    "\n",
    "Instead of one single attention head, Q, K, and V are split into multiple heads because it allows the model to jointly attend to information at different positions from different representational spaces. After the split each head has a reduced dimensionality, so the total computation cost is the same as a single head attention with full dimensionality."
   ]
  },
  {
   "cell_type": "code",
   "execution_count": 52,
   "metadata": {
    "id": "BSV3PPKsYecw"
   },
   "outputs": [],
   "source": [
    "class MultiHeadAttention(tf.keras.layers.Layer):\n",
    "  def __init__(self, d_model, num_heads):\n",
    "    super(MultiHeadAttention, self).__init__()\n",
    "    self.num_heads = num_heads\n",
    "    self.d_model = d_model\n",
    "    \n",
    "    assert d_model % self.num_heads == 0\n",
    "    \n",
    "    self.depth = d_model // self.num_heads\n",
    "    \n",
    "    self.wq = tf.keras.layers.Dense(d_model, activation='linear')\n",
    "    self.wk = tf.keras.layers.Dense(d_model, activation='linear')\n",
    "    self.wv = tf.keras.layers.Dense(d_model, activation='linear')\n",
    "    \n",
    "    self.dense = tf.keras.layers.Dense(d_model, activation='linear')\n",
    "          \n",
    "  def split_heads(self, x, batch_size):\n",
    "    \"\"\"Split the last dimension into (num_heads, depth).\n",
    "    Transpose the result such that the shape is (batch_size, num_heads, seq_len, depth)\n",
    "    \"\"\"\n",
    "    x = tf.reshape(x, (batch_size, -1, self.num_heads, self.depth))\n",
    "    return tf.transpose(x, perm=[0, 2, 1, 3])\n",
    "    \n",
    "  def call(self, v, k, q):\n",
    "    batch_size = tf.shape(q)[0]\n",
    "    \n",
    "    q = self.wq(q)  # (batch_size, seq_len, d_model)\n",
    "    k = self.wk(k)  # (batch_size, seq_len, d_model)\n",
    "    v = self.wv(v)  # (batch_size, seq_len, d_model)\n",
    "    \n",
    "    q = self.split_heads(q, batch_size)  # (batch_size, num_heads, seq_len_q, depth)\n",
    "    k = self.split_heads(k, batch_size)  # (batch_size, num_heads, seq_len_k, depth)\n",
    "    v = self.split_heads(v, batch_size)  # (batch_size, num_heads, seq_len_v, depth)\n",
    "    \n",
    "    # scaled_attention.shape == (batch_size, num_heads, seq_len_q, depth)\n",
    "    # attention_weights.shape == (batch_size, num_heads, seq_len_q, seq_len_k)\n",
    "    scaled_attention, attention_weights = scaled_dot_product_attention(\n",
    "        q, k, v)\n",
    "    \n",
    "    scaled_attention = tf.transpose(scaled_attention, perm=[0, 2, 1, 3])  # (batch_size, seq_len_q, num_heads, depth)\n",
    "\n",
    "    concat_attention = tf.reshape(scaled_attention, \n",
    "                                  (batch_size, -1, self.d_model))  # (batch_size, seq_len_q, d_model)\n",
    "\n",
    "    output = self.dense(concat_attention)  # (batch_size, seq_len_q, d_model)\n",
    "        \n",
    "    return output, attention_weights"
   ]
  },
  {
   "cell_type": "markdown",
   "metadata": {
    "id": "0D8FJue5lDyZ"
   },
   "source": [
    "Create a `MultiHeadAttention` layer to try out. At each location in the sequence, `y`, the `MultiHeadAttention` runs all 8 attention heads across all other locations in the sequence, returning a new vector of the same length at each location."
   ]
  },
  {
   "cell_type": "markdown",
   "metadata": {
    "id": "RdDqGayx67vv"
   },
   "source": [
    "## Point wise feed forward network"
   ]
  },
  {
   "cell_type": "markdown",
   "metadata": {
    "id": "gBqzJXGfHK3X"
   },
   "source": [
    "Point wise feed forward network consists of two fully-connected layers with a ReLU activation in between."
   ]
  },
  {
   "cell_type": "code",
   "execution_count": 53,
   "metadata": {
    "id": "ET7xLt0yCT6Z"
   },
   "outputs": [],
   "source": [
    "def point_wise_feed_forward_network( d_model ,dff):\n",
    "  return tf.keras.Sequential([\n",
    "      tf.keras.layers.Dense(dff, activation='tanh'),  # (batch_size, seq_len, dff)\n",
    "      tf.keras.layers.Dense(d_model, activation='linear')  # (batch_size, seq_len, d_model)\n",
    "  ])"
   ]
  },
  {
   "cell_type": "markdown",
   "metadata": {
    "id": "7e7hKcxn6-zd"
   },
   "source": [
    "## Encoder "
   ]
  },
  {
   "cell_type": "markdown",
   "metadata": {
    "id": "yScbC0MUH8dS"
   },
   "source": [
    "<img src=\"https://www.tensorflow.org/images/tutorials/transformer/transformer.png\" width=\"600\" alt=\"transformer\">"
   ]
  },
  {
   "cell_type": "markdown",
   "metadata": {
    "id": "MfYJG-Kvgwy2"
   },
   "source": [
    "The transformer model follows the same general pattern as a standard [sequence to sequence with attention model](nmt_with_attention.ipynb). \n",
    "\n",
    "* The input sentence is passed through `N` encoder layers that generates an output for each word/token in the sequence.\n",
    "* The decoder attends on the encoder's output and its own input (self-attention) to predict the next word. "
   ]
  },
  {
   "cell_type": "markdown",
   "metadata": {
    "id": "QFv-FNYUmvpn"
   },
   "source": [
    "### Encoder layer\n",
    "\n",
    "Each encoder layer consists of sublayers:\n",
    "\n",
    "1.   Multi-head attention (with padding mask) \n",
    "2.    Point wise feed forward networks. \n",
    "\n",
    "Each of these sublayers has a residual connection around it followed by a layer normalization. Residual connections help in avoiding the vanishing gradient problem in deep networks.\n",
    "\n",
    "The output of each sublayer is `LayerNorm(x + Sublayer(x))`. The normalization is done on the `d_model` (last) axis. There are N encoder layers in the transformer."
   ]
  },
  {
   "cell_type": "code",
   "execution_count": 54,
   "metadata": {
    "id": "ncyS-Ms3i2x_"
   },
   "outputs": [],
   "source": [
    "class MultiHeadAttentionSubLayer(tf.keras.layers.Layer):\n",
    "  def __init__(self, d_model, num_heads):\n",
    "    super(MultiHeadAttentionSubLayer, self).__init__()\n",
    "    self.mha = MultiHeadAttention(d_model, num_heads)     \n",
    "    self.layernorm1 = tf.keras.layers.LayerNormalization(epsilon=1e-6)\n",
    "    \n",
    "  def call(self, x):\n",
    "    attn_output, _ = self.mha(x, x, x)  # (batch_size, input_seq_len, d_model)\n",
    "    return self.layernorm1(x + attn_output) # (batch_size, input_seq_len, d_model)"
   ]
  },
  {
   "cell_type": "code",
   "execution_count": 55,
   "metadata": {
    "id": "AzZRXdO0mI48"
   },
   "outputs": [],
   "source": [
    "class FeedForwardNetworkSubLayer(tf.keras.layers.Layer):\n",
    "  def __init__(self, d_model, dff):\n",
    "    super(FeedForwardNetworkSubLayer, self).__init__()\n",
    "    self.ffn = point_wise_feed_forward_network(d_model, dff)\n",
    "    self.layernorm2 = tf.keras.layers.LayerNormalization(epsilon=1e-6)\n",
    "    \n",
    "  def call(self, x):\n",
    "    ffn_output = self.ffn(x)  # (batch_size, input_seq_len, d_model)\n",
    "    return self.layernorm2(x + ffn_output)  # (batch_size, input_seq_len, d_model)"
   ]
  },
  {
   "cell_type": "code",
   "execution_count": 56,
   "metadata": {},
   "outputs": [],
   "source": [
    "class Encoder(tf.keras.layers.Layer):\n",
    "  def __init__(self, d_model, num_heads, dff):\n",
    "    super(Encoder, self).__init__()\n",
    "    self.mha_sublayer = MultiHeadAttentionSubLayer(d_model, num_heads) \n",
    "    self.ffn_sublayer = FeedForwardNetworkSubLayer(d_model, dff)    \n",
    "    \n",
    "  def call(self, x):\n",
    "    out1 = self.mha_sublayer(x)  # (batch_size, input_seq_len, d_model)\n",
    "    out2 = self.ffn_sublayer(out1) # (batch_size, input_seq_len, d_model)\n",
    "    return out2"
   ]
  },
  {
   "cell_type": "markdown",
   "metadata": {
    "id": "YgkDE7hzo8r5"
   },
   "source": [
    "## Metrics"
   ]
  },
  {
   "cell_type": "markdown",
   "metadata": {
    "id": "oxGJtoDuYIHL"
   },
   "source": [
    "Since the target sequences are padded, it is important to apply a padding mask when calculating the loss."
   ]
  },
  {
   "cell_type": "code",
   "execution_count": 57,
   "metadata": {
    "id": "Mq5owjjBQvXc"
   },
   "outputs": [],
   "source": [
    "metrics = [    \n",
    "           tf.keras.metrics.MeanSquaredError(),\n",
    "           tf.keras.metrics.RootMeanSquaredError(),\n",
    "           tf.keras.metrics.MeanAbsoluteError(),\n",
    "           tf.keras.metrics.MeanAbsolutePercentageError(),\n",
    "           tf.keras.metrics.MeanSquaredLogarithmicError(),\n",
    "           tf.keras.metrics.CosineSimilarity(axis=2),\n",
    "]"
   ]
  },
  {
   "cell_type": "markdown",
   "metadata": {
    "id": "aJcOHWt06mOL"
   },
   "source": [
    "## Callback"
   ]
  },
  {
   "cell_type": "code",
   "execution_count": 58,
   "metadata": {
    "id": "c66YZkTI6k-P"
   },
   "outputs": [],
   "source": [
    "class CustomCallback(tf.keras.callbacks.Callback):\n",
    "  def __init__(self, model_name, save_dir=\"./\"):\n",
    "    # self.model = model\n",
    "    self.save_dir = save_dir\n",
    "    self.model_name = model_name\n",
    "    self.on_train_begin\n",
    "  def on_train_begin(self, logs={}):\n",
    "    if os.path.exists(self.save_dir+self.model_name+'-history.csv'):\n",
    "      hist_df = pd.read_csv(self.save_dir+self.model_name+'-history.csv')\n",
    "      self.i = hist_df[\"epoch\"].values.tolist()[-1] +1\n",
    "      self.x = hist_df[\"epoch\"].values.tolist()\n",
    "      self.timestamp=hist_df[\"timestamp\"].values.tolist()\n",
    "      self.time_offset = hist_df[\"timestamp\"].values.tolist()[-1]\n",
    "\n",
    "      self.metrics = {}\n",
    "      for key in hist_df.keys():\n",
    "        if key != 'epoch' and key != 'timestamp':\n",
    "          self.metrics[key] = hist_df[key].values.tolist()     \n",
    "      \n",
    "    else:\n",
    "      self.i = 1\n",
    "      self.x = []\n",
    "      self.timestamp=[]\n",
    "      self.time_offset = 0\n",
    "\n",
    "      self.metrics = {}\n",
    "\n",
    "      \n",
    "    self.fig = plt.figure()\n",
    "    self.logs = []\n",
    "    self.st_time=time.time()\n",
    "\n",
    "  def on_epoch_end(self, epoch, logs={}):       \n",
    "    self.logs.append(logs)\n",
    "    self.x.append(self.i)\n",
    "    self.i += 1\n",
    "    self.timestamp.append(time.time()-self.st_time+self.time_offset)\n",
    "\n",
    "    for key in logs.keys():\n",
    "      if self.metrics.get(key) == None:\n",
    "        self.metrics[key] = [logs[key]]\n",
    "      else:  \n",
    "        self.metrics[key].append(logs.get(key))\n",
    "    \n",
    "    # print(\"saving model\")\n",
    "    # subclassed model can only save weights\n",
    "    self.model.save_weights(\n",
    "      f'{self.save_dir+self.model_name}-{self.x[-1]:02d}'\n",
    "      f'-{logs[\"val_loss\"]:.4f}.h5')\n",
    "      # f'-{logs[\"val_cosine_similarity\"]:.4f}.h5')\n",
    "\n",
    "    # print(\"saving history\")\n",
    "    hist_df = pd.DataFrame()\n",
    "    hist_df[\"epoch\"]=self.x\n",
    "    hist_df[\"timestamp\"]=self.timestamp\n",
    "\n",
    "    for key in logs.keys():\n",
    "      hist_df[key] = self.metrics[key]\n",
    "    hist_df.to_csv(self.save_dir+self.model_name+'-history.csv',index=False)\n",
    "\n",
    "    clear_output(wait=True)\n",
    "\n",
    "\n",
    "    # keys = [key for key in self.metrics.keys() if key[0:4] != \"val_\"]\n",
    "    # metrics_count = len(keys)\n",
    "    # f, ax = plt.subplots(ceil(metrics_count/2), 2, sharex=True, figsize=(25,5*ceil(metrics_count/2)))\n",
    "    \n",
    "    # for i, key in enumerate(keys):\n",
    "    #   r = floor(i/2)\n",
    "    #   c = i%2\n",
    "    #   ax[r,c].set_yscale('log')  \n",
    "    #   ax[r,c].set_title(key)\n",
    "    #   ax[r,c].set_xlabel(\"epoch\")\n",
    "    #   ax[r,c].plot(self.x, self.metrics[key], label=key)\n",
    "    #   ax[r,c].plot(self.x, self.metrics[\"val_\"+key], label=\"val_\"+key)\n",
    "    #   ax[r,c].legend()\n",
    "    \n",
    "    f, (ax1, ax2) = plt.subplots(1, 2, sharex=True, figsize=(25,5))\n",
    "   \n",
    "    ax1.set_yscale('log')\n",
    "    ax1.set_title(\"Loss: Mean Squared Error\")\n",
    "    ax1.set_xlabel(\"epoch\")\n",
    "    ax1.plot(self.x, self.metrics[\"loss\"], label=\"loss\")\n",
    "    ax1.plot(self.x, self.metrics[\"val_loss\"], label=\"val_loss\")\n",
    "    ax1.legend()\n",
    "\n",
    "    ax2.set_title(\"Cosine Similarity\")\n",
    "    ax2.set_xlabel(\"epoch\")\n",
    "    ax2.plot(self.x, self.metrics[\"cosine_similarity\"], label=\"cosine_similarity\")\n",
    "    ax2.plot(self.x, self.metrics[\"val_cosine_similarity\"], label=\"val_cosine_similarity\")\n",
    "    ax2.legend()\n",
    "    \n",
    "    plt.show();\n",
    "    print(\"time elapsed:\", time.time()-self.st_time)"
   ]
  },
  {
   "cell_type": "markdown",
   "metadata": {
    "id": "aeHumfr7zmMa"
   },
   "source": [
    "## Create Model"
   ]
  },
  {
   "cell_type": "code",
   "execution_count": 61,
   "metadata": {
    "colab": {
     "base_uri": "https://localhost:8080/"
    },
    "id": "UiysUa--4tOU",
    "outputId": "16ee21f4-102b-4f17-f411-0b0fcef47d1d"
   },
   "outputs": [
    {
     "output_type": "stream",
     "name": "stdout",
     "text": [
      "Model: \"Attention64_s19_mha1_numheads8_ffn1_dff256_batch64_seq12-12-0-0\"\n_________________________________________________________________\nLayer (type)                 Output Shape              Param #   \n=================================================================\ndense_44 (Dense)             (None, 25, 64)            2560      \n_________________________________________________________________\npositional_encoding_7 (Posit (None, 25, 64)            0         \n_________________________________________________________________\nmulti_head_attention_sub_lay (None, 25, 64)            16768     \n_________________________________________________________________\nfeed_forward_network_sub_lay (None, 25, 64)            33216     \n_________________________________________________________________\nreshape_4 (Reshape)          (None, 1, 1600)           0         \n_________________________________________________________________\ndense_51 (Dense)             (None, 1, 107)            171307    \n=================================================================\nTotal params: 223,851\nTrainable params: 223,851\nNon-trainable params: 0\n_________________________________________________________________\n"
     ]
    }
   ],
   "source": [
    "model_name = \"Attention64_s19_mha1_numheads8_ffn1_dff256_batch64_seq12-12-0-0\"\n",
    "d_model = 64\n",
    "num_heads = 8\n",
    "dff = 256\n",
    "batch_size = 64\n",
    "save_dir = model_dir+model_name+\"/\"\n",
    "if not os.path.exists(save_dir):\n",
    "  os.mkdir(save_dir)\n",
    "\n",
    "with tf.device('/gpu:0'):\n",
    "  model = tf.keras.Sequential(\n",
    "      name= model_name,\n",
    "      layers=[\n",
    "              tf.keras.layers.InputLayer((X_train_scaled.shape[1],X_train_scaled.shape[2]), dtype='float32'),\n",
    "              tf.keras.layers.Dense(d_model, activation='tanh'),\n",
    "              PositionalEncoding(position=X_train_scaled.shape[1],d_model=d_model),\n",
    "              MultiHeadAttentionSubLayer(d_model=d_model,num_heads=num_heads),\n",
    "              FeedForwardNetworkSubLayer(d_model=d_model,dff=dff),\n",
    "              tf.keras.layers.Reshape((Y_train_scaled.shape[1],d_model*X_train_scaled.shape[1])),\n",
    "              tf.keras.layers.Dense(Y_train_scaled.shape[2], activation='linear')\n",
    "  ])\n",
    "  \n",
    "\n",
    "  model.summary()\n",
    "\n",
    "  custom_callback = CustomCallback(model_name=model_name,save_dir=save_dir)\n",
    "  model.compile(\n",
    "      optimizer='adam',\n",
    "      loss='mse',\n",
    "      metrics=metrics,\n",
    "      )"
   ]
  },
  {
   "cell_type": "markdown",
   "metadata": {
    "id": "QfcsSWswSdGV"
   },
   "source": [
    "## Load Trained Model"
   ]
  },
  {
   "cell_type": "code",
   "execution_count": null,
   "metadata": {
    "colab": {
     "base_uri": "https://localhost:8080/",
     "height": 689
    },
    "id": "iYMwpXOzCp6U",
    "outputId": "d17f4a7d-29d3-45db-8f9d-6c9ca18757a8"
   },
   "outputs": [],
   "source": [
    "# model_name = \"Attention64\"\n",
    "# save_dir = \"/home/alkhemi/Documents/thesis/saved_model/\"+model_name+\"/\"\n",
    "\n",
    "# history = pd.read_csv(save_dir+model_name+\"-history.csv\")\n",
    "\n",
    "# with tf.device('/gpu:0'):\n",
    "#   model = tf.keras.Sequential(\n",
    "#       name= model_name,\n",
    "#       layers=[\n",
    "#               tf.keras.layers.InputLayer((10,13), dtype='float16'),\n",
    "#               # Embedding(d_model=64),\n",
    "#               tf.keras.layers.Dense(64, activation='tanh'),\n",
    "#               PositionalEncoding(position=10,d_model=64),\n",
    "#               Encoder(d_model=64,num_heads=8,dff=512),\n",
    "#               tf.keras.layers.Flatten(),\n",
    "#               tf.keras.layers.Dense(107, activation='tanh')\n",
    "#   ])\n",
    "#   model.summary()\n",
    "#   model.load_weights(save_dir+\"Attention64-70-0.0036.h5\")\n",
    "\n",
    "# f, (ax1, ax2) = plt.subplots(1, 2, sharex=True, figsize=(25,5))\n",
    "        \n",
    "# ax1.set_yscale('log')\n",
    "# ax1.set_title(\"Loss: Mean Squared Error\")\n",
    "# ax1.set_xlabel(\"epoch\")\n",
    "# ax1.plot(history[\"epoch\"][:200], history[\"loss\"][:200], label=\"loss\")\n",
    "# ax1.plot(history[\"epoch\"][:200], history[\"val_loss\"][:200], label=\"val_loss\")\n",
    "# ax1.legend()\n",
    "\n",
    "# ax2.set_title(\"Cosine Similarity\")\n",
    "# ax2.set_xlabel(\"epoch\")\n",
    "# ax2.plot(history[\"epoch\"][:200], history[\"cosine_similarity\"][:200], label=\"cosine_similarity\")\n",
    "# ax2.plot(history[\"epoch\"][:200], history[\"val_cosine_similarity\"][:200], label=\"val_cosine_similarity\")\n",
    "# ax2.legend()\n",
    "\n",
    "# plt.savefig(save_dir+'mse-cosine_similarity')\n",
    "# plt.show();"
   ]
  },
  {
   "cell_type": "code",
   "execution_count": null,
   "metadata": {},
   "outputs": [],
   "source": [
    "# model.compile(\n",
    "#       optimizer='adam',\n",
    "#       loss='mse',\n",
    "#       metrics=metrics,\n",
    "#       )"
   ]
  },
  {
   "cell_type": "markdown",
   "metadata": {
    "id": "PScegyQGDfJg"
   },
   "source": [
    "## Train"
   ]
  },
  {
   "cell_type": "code",
   "execution_count": 62,
   "metadata": {
    "colab": {
     "base_uri": "https://localhost:8080/",
     "height": 468
    },
    "id": "_u3r8mX_MRYw",
    "outputId": "610c7b83-99be-45cb-cd59-95c7439f9730"
   },
   "outputs": [
    {
     "output_type": "display_data",
     "data": {
      "text/plain": "<Figure size 1800x360 with 2 Axes>",
      "image/svg+xml": "<?xml version=\"1.0\" encoding=\"utf-8\" standalone=\"no\"?>\n<!DOCTYPE svg PUBLIC \"-//W3C//DTD SVG 1.1//EN\"\n  \"http://www.w3.org/Graphics/SVG/1.1/DTD/svg11.dtd\">\n<!-- Created with matplotlib (https://matplotlib.org/) -->\n<svg height=\"364.627075pt\" version=\"1.1\" viewBox=\"0 0 1642.74 364.627075\" width=\"1642.74pt\" xmlns=\"http://www.w3.org/2000/svg\" xmlns:xlink=\"http://www.w3.org/1999/xlink\">\n <metadata>\n  <rdf:RDF xmlns:cc=\"http://creativecommons.org/ns#\" xmlns:dc=\"http://purl.org/dc/elements/1.1/\" xmlns:rdf=\"http://www.w3.org/1999/02/22-rdf-syntax-ns#\">\n   <cc:Work>\n    <dc:type rdf:resource=\"http://purl.org/dc/dcmitype/StillImage\"/>\n    <dc:date>2021-02-10T02:17:50.988469</dc:date>\n    <dc:format>image/svg+xml</dc:format>\n    <dc:creator>\n     <cc:Agent>\n      <dc:title>Matplotlib v3.3.4, https://matplotlib.org/</dc:title>\n     </cc:Agent>\n    </dc:creator>\n   </cc:Work>\n  </rdf:RDF>\n </metadata>\n <defs>\n  <style type=\"text/css\">*{stroke-linecap:butt;stroke-linejoin:round;}</style>\n </defs>\n <g id=\"figure_1\">\n  <g id=\"patch_1\">\n   <path d=\"M 0 364.627075 \nL 1642.74 364.627075 \nL 1642.74 0 \nL 0 0 \nz\n\" style=\"fill:#f0f0f0;\"/>\n  </g>\n  <g id=\"axes_1\">\n   <g id=\"patch_2\">\n    <path d=\"M 69.54 320.11845 \nL 781.358182 320.11845 \nL 781.358182 28.51845 \nL 69.54 28.51845 \nz\n\" style=\"fill:#f0f0f0;\"/>\n   </g>\n   <g id=\"matplotlib.axis_1\">\n    <g id=\"xtick_1\">\n     <g id=\"line2d_1\">\n      <path clip-path=\"url(#p3762c53aa3)\" d=\"M 88.689098 320.11845 \nL 88.689098 28.51845 \n\" style=\"fill:none;stroke:#cbcbcb;\"/>\n     </g>\n     <g id=\"line2d_2\"/>\n     <g id=\"text_1\">\n      <!-- 0 -->\n      <g transform=\"translate(84.235348 334.256262)scale(0.14 -0.14)\">\n       <defs>\n        <path d=\"M 31.78125 66.40625 \nQ 24.171875 66.40625 20.328125 58.90625 \nQ 16.5 51.421875 16.5 36.375 \nQ 16.5 21.390625 20.328125 13.890625 \nQ 24.171875 6.390625 31.78125 6.390625 \nQ 39.453125 6.390625 43.28125 13.890625 \nQ 47.125 21.390625 47.125 36.375 \nQ 47.125 51.421875 43.28125 58.90625 \nQ 39.453125 66.40625 31.78125 66.40625 \nz\nM 31.78125 74.21875 \nQ 44.046875 74.21875 50.515625 64.515625 \nQ 56.984375 54.828125 56.984375 36.375 \nQ 56.984375 17.96875 50.515625 8.265625 \nQ 44.046875 -1.421875 31.78125 -1.421875 \nQ 19.53125 -1.421875 13.0625 8.265625 \nQ 6.59375 17.96875 6.59375 36.375 \nQ 6.59375 54.828125 13.0625 64.515625 \nQ 19.53125 74.21875 31.78125 74.21875 \nz\n\" id=\"DejaVuSans-48\"/>\n       </defs>\n       <use xlink:href=\"#DejaVuSans-48\"/>\n      </g>\n     </g>\n    </g>\n    <g id=\"xtick_2\">\n     <g id=\"line2d_3\">\n      <path clip-path=\"url(#p3762c53aa3)\" d=\"M 220.75184 320.11845 \nL 220.75184 28.51845 \n\" style=\"fill:none;stroke:#cbcbcb;\"/>\n     </g>\n     <g id=\"line2d_4\"/>\n     <g id=\"text_2\">\n      <!-- 10 -->\n      <g transform=\"translate(211.84434 334.256262)scale(0.14 -0.14)\">\n       <defs>\n        <path d=\"M 12.40625 8.296875 \nL 28.515625 8.296875 \nL 28.515625 63.921875 \nL 10.984375 60.40625 \nL 10.984375 69.390625 \nL 28.421875 72.90625 \nL 38.28125 72.90625 \nL 38.28125 8.296875 \nL 54.390625 8.296875 \nL 54.390625 0 \nL 12.40625 0 \nz\n\" id=\"DejaVuSans-49\"/>\n       </defs>\n       <use xlink:href=\"#DejaVuSans-49\"/>\n       <use x=\"63.623047\" xlink:href=\"#DejaVuSans-48\"/>\n      </g>\n     </g>\n    </g>\n    <g id=\"xtick_3\">\n     <g id=\"line2d_5\">\n      <path clip-path=\"url(#p3762c53aa3)\" d=\"M 352.814583 320.11845 \nL 352.814583 28.51845 \n\" style=\"fill:none;stroke:#cbcbcb;\"/>\n     </g>\n     <g id=\"line2d_6\"/>\n     <g id=\"text_3\">\n      <!-- 20 -->\n      <g transform=\"translate(343.907083 334.256262)scale(0.14 -0.14)\">\n       <defs>\n        <path d=\"M 19.1875 8.296875 \nL 53.609375 8.296875 \nL 53.609375 0 \nL 7.328125 0 \nL 7.328125 8.296875 \nQ 12.9375 14.109375 22.625 23.890625 \nQ 32.328125 33.6875 34.8125 36.53125 \nQ 39.546875 41.84375 41.421875 45.53125 \nQ 43.3125 49.21875 43.3125 52.78125 \nQ 43.3125 58.59375 39.234375 62.25 \nQ 35.15625 65.921875 28.609375 65.921875 \nQ 23.96875 65.921875 18.8125 64.3125 \nQ 13.671875 62.703125 7.8125 59.421875 \nL 7.8125 69.390625 \nQ 13.765625 71.78125 18.9375 73 \nQ 24.125 74.21875 28.421875 74.21875 \nQ 39.75 74.21875 46.484375 68.546875 \nQ 53.21875 62.890625 53.21875 53.421875 \nQ 53.21875 48.921875 51.53125 44.890625 \nQ 49.859375 40.875 45.40625 35.40625 \nQ 44.1875 33.984375 37.640625 27.21875 \nQ 31.109375 20.453125 19.1875 8.296875 \nz\n\" id=\"DejaVuSans-50\"/>\n       </defs>\n       <use xlink:href=\"#DejaVuSans-50\"/>\n       <use x=\"63.623047\" xlink:href=\"#DejaVuSans-48\"/>\n      </g>\n     </g>\n    </g>\n    <g id=\"xtick_4\">\n     <g id=\"line2d_7\">\n      <path clip-path=\"url(#p3762c53aa3)\" d=\"M 484.877325 320.11845 \nL 484.877325 28.51845 \n\" style=\"fill:none;stroke:#cbcbcb;\"/>\n     </g>\n     <g id=\"line2d_8\"/>\n     <g id=\"text_4\">\n      <!-- 30 -->\n      <g transform=\"translate(475.969825 334.256262)scale(0.14 -0.14)\">\n       <defs>\n        <path d=\"M 40.578125 39.3125 \nQ 47.65625 37.796875 51.625 33 \nQ 55.609375 28.21875 55.609375 21.1875 \nQ 55.609375 10.40625 48.1875 4.484375 \nQ 40.765625 -1.421875 27.09375 -1.421875 \nQ 22.515625 -1.421875 17.65625 -0.515625 \nQ 12.796875 0.390625 7.625 2.203125 \nL 7.625 11.71875 \nQ 11.71875 9.328125 16.59375 8.109375 \nQ 21.484375 6.890625 26.8125 6.890625 \nQ 36.078125 6.890625 40.9375 10.546875 \nQ 45.796875 14.203125 45.796875 21.1875 \nQ 45.796875 27.640625 41.28125 31.265625 \nQ 36.765625 34.90625 28.71875 34.90625 \nL 20.21875 34.90625 \nL 20.21875 43.015625 \nL 29.109375 43.015625 \nQ 36.375 43.015625 40.234375 45.921875 \nQ 44.09375 48.828125 44.09375 54.296875 \nQ 44.09375 59.90625 40.109375 62.90625 \nQ 36.140625 65.921875 28.71875 65.921875 \nQ 24.65625 65.921875 20.015625 65.03125 \nQ 15.375 64.15625 9.8125 62.3125 \nL 9.8125 71.09375 \nQ 15.4375 72.65625 20.34375 73.4375 \nQ 25.25 74.21875 29.59375 74.21875 \nQ 40.828125 74.21875 47.359375 69.109375 \nQ 53.90625 64.015625 53.90625 55.328125 \nQ 53.90625 49.265625 50.4375 45.09375 \nQ 46.96875 40.921875 40.578125 39.3125 \nz\n\" id=\"DejaVuSans-51\"/>\n       </defs>\n       <use xlink:href=\"#DejaVuSans-51\"/>\n       <use x=\"63.623047\" xlink:href=\"#DejaVuSans-48\"/>\n      </g>\n     </g>\n    </g>\n    <g id=\"xtick_5\">\n     <g id=\"line2d_9\">\n      <path clip-path=\"url(#p3762c53aa3)\" d=\"M 616.940067 320.11845 \nL 616.940067 28.51845 \n\" style=\"fill:none;stroke:#cbcbcb;\"/>\n     </g>\n     <g id=\"line2d_10\"/>\n     <g id=\"text_5\">\n      <!-- 40 -->\n      <g transform=\"translate(608.032567 334.256262)scale(0.14 -0.14)\">\n       <defs>\n        <path d=\"M 37.796875 64.3125 \nL 12.890625 25.390625 \nL 37.796875 25.390625 \nz\nM 35.203125 72.90625 \nL 47.609375 72.90625 \nL 47.609375 25.390625 \nL 58.015625 25.390625 \nL 58.015625 17.1875 \nL 47.609375 17.1875 \nL 47.609375 0 \nL 37.796875 0 \nL 37.796875 17.1875 \nL 4.890625 17.1875 \nL 4.890625 26.703125 \nz\n\" id=\"DejaVuSans-52\"/>\n       </defs>\n       <use xlink:href=\"#DejaVuSans-52\"/>\n       <use x=\"63.623047\" xlink:href=\"#DejaVuSans-48\"/>\n      </g>\n     </g>\n    </g>\n    <g id=\"xtick_6\">\n     <g id=\"line2d_11\">\n      <path clip-path=\"url(#p3762c53aa3)\" d=\"M 749.00281 320.11845 \nL 749.00281 28.51845 \n\" style=\"fill:none;stroke:#cbcbcb;\"/>\n     </g>\n     <g id=\"line2d_12\"/>\n     <g id=\"text_6\">\n      <!-- 50 -->\n      <g transform=\"translate(740.09531 334.256262)scale(0.14 -0.14)\">\n       <defs>\n        <path d=\"M 10.796875 72.90625 \nL 49.515625 72.90625 \nL 49.515625 64.59375 \nL 19.828125 64.59375 \nL 19.828125 46.734375 \nQ 21.96875 47.46875 24.109375 47.828125 \nQ 26.265625 48.1875 28.421875 48.1875 \nQ 40.625 48.1875 47.75 41.5 \nQ 54.890625 34.8125 54.890625 23.390625 \nQ 54.890625 11.625 47.5625 5.09375 \nQ 40.234375 -1.421875 26.90625 -1.421875 \nQ 22.3125 -1.421875 17.546875 -0.640625 \nQ 12.796875 0.140625 7.71875 1.703125 \nL 7.71875 11.625 \nQ 12.109375 9.234375 16.796875 8.0625 \nQ 21.484375 6.890625 26.703125 6.890625 \nQ 35.15625 6.890625 40.078125 11.328125 \nQ 45.015625 15.765625 45.015625 23.390625 \nQ 45.015625 31 40.078125 35.4375 \nQ 35.15625 39.890625 26.703125 39.890625 \nQ 22.75 39.890625 18.8125 39.015625 \nQ 14.890625 38.140625 10.796875 36.28125 \nz\n\" id=\"DejaVuSans-53\"/>\n       </defs>\n       <use xlink:href=\"#DejaVuSans-53\"/>\n       <use x=\"63.623047\" xlink:href=\"#DejaVuSans-48\"/>\n      </g>\n     </g>\n    </g>\n    <g id=\"text_7\">\n     <!-- epoch -->\n     <g transform=\"translate(399.865841 353.9332)scale(0.168 -0.168)\">\n      <defs>\n       <path d=\"M 56.203125 29.59375 \nL 56.203125 25.203125 \nL 14.890625 25.203125 \nQ 15.484375 15.921875 20.484375 11.0625 \nQ 25.484375 6.203125 34.421875 6.203125 \nQ 39.59375 6.203125 44.453125 7.46875 \nQ 49.3125 8.734375 54.109375 11.28125 \nL 54.109375 2.78125 \nQ 49.265625 0.734375 44.1875 -0.34375 \nQ 39.109375 -1.421875 33.890625 -1.421875 \nQ 20.796875 -1.421875 13.15625 6.1875 \nQ 5.515625 13.8125 5.515625 26.8125 \nQ 5.515625 40.234375 12.765625 48.109375 \nQ 20.015625 56 32.328125 56 \nQ 43.359375 56 49.78125 48.890625 \nQ 56.203125 41.796875 56.203125 29.59375 \nz\nM 47.21875 32.234375 \nQ 47.125 39.59375 43.09375 43.984375 \nQ 39.0625 48.390625 32.421875 48.390625 \nQ 24.90625 48.390625 20.390625 44.140625 \nQ 15.875 39.890625 15.1875 32.171875 \nz\n\" id=\"DejaVuSans-101\"/>\n       <path d=\"M 18.109375 8.203125 \nL 18.109375 -20.796875 \nL 9.078125 -20.796875 \nL 9.078125 54.6875 \nL 18.109375 54.6875 \nL 18.109375 46.390625 \nQ 20.953125 51.265625 25.265625 53.625 \nQ 29.59375 56 35.59375 56 \nQ 45.5625 56 51.78125 48.09375 \nQ 58.015625 40.1875 58.015625 27.296875 \nQ 58.015625 14.40625 51.78125 6.484375 \nQ 45.5625 -1.421875 35.59375 -1.421875 \nQ 29.59375 -1.421875 25.265625 0.953125 \nQ 20.953125 3.328125 18.109375 8.203125 \nz\nM 48.6875 27.296875 \nQ 48.6875 37.203125 44.609375 42.84375 \nQ 40.53125 48.484375 33.40625 48.484375 \nQ 26.265625 48.484375 22.1875 42.84375 \nQ 18.109375 37.203125 18.109375 27.296875 \nQ 18.109375 17.390625 22.1875 11.75 \nQ 26.265625 6.109375 33.40625 6.109375 \nQ 40.53125 6.109375 44.609375 11.75 \nQ 48.6875 17.390625 48.6875 27.296875 \nz\n\" id=\"DejaVuSans-112\"/>\n       <path d=\"M 30.609375 48.390625 \nQ 23.390625 48.390625 19.1875 42.75 \nQ 14.984375 37.109375 14.984375 27.296875 \nQ 14.984375 17.484375 19.15625 11.84375 \nQ 23.34375 6.203125 30.609375 6.203125 \nQ 37.796875 6.203125 41.984375 11.859375 \nQ 46.1875 17.53125 46.1875 27.296875 \nQ 46.1875 37.015625 41.984375 42.703125 \nQ 37.796875 48.390625 30.609375 48.390625 \nz\nM 30.609375 56 \nQ 42.328125 56 49.015625 48.375 \nQ 55.71875 40.765625 55.71875 27.296875 \nQ 55.71875 13.875 49.015625 6.21875 \nQ 42.328125 -1.421875 30.609375 -1.421875 \nQ 18.84375 -1.421875 12.171875 6.21875 \nQ 5.515625 13.875 5.515625 27.296875 \nQ 5.515625 40.765625 12.171875 48.375 \nQ 18.84375 56 30.609375 56 \nz\n\" id=\"DejaVuSans-111\"/>\n       <path d=\"M 48.78125 52.59375 \nL 48.78125 44.1875 \nQ 44.96875 46.296875 41.140625 47.34375 \nQ 37.3125 48.390625 33.40625 48.390625 \nQ 24.65625 48.390625 19.8125 42.84375 \nQ 14.984375 37.3125 14.984375 27.296875 \nQ 14.984375 17.28125 19.8125 11.734375 \nQ 24.65625 6.203125 33.40625 6.203125 \nQ 37.3125 6.203125 41.140625 7.25 \nQ 44.96875 8.296875 48.78125 10.40625 \nL 48.78125 2.09375 \nQ 45.015625 0.34375 40.984375 -0.53125 \nQ 36.96875 -1.421875 32.421875 -1.421875 \nQ 20.0625 -1.421875 12.78125 6.34375 \nQ 5.515625 14.109375 5.515625 27.296875 \nQ 5.515625 40.671875 12.859375 48.328125 \nQ 20.21875 56 33.015625 56 \nQ 37.15625 56 41.109375 55.140625 \nQ 45.0625 54.296875 48.78125 52.59375 \nz\n\" id=\"DejaVuSans-99\"/>\n       <path d=\"M 54.890625 33.015625 \nL 54.890625 0 \nL 45.90625 0 \nL 45.90625 32.71875 \nQ 45.90625 40.484375 42.875 44.328125 \nQ 39.84375 48.1875 33.796875 48.1875 \nQ 26.515625 48.1875 22.3125 43.546875 \nQ 18.109375 38.921875 18.109375 30.90625 \nL 18.109375 0 \nL 9.078125 0 \nL 9.078125 75.984375 \nL 18.109375 75.984375 \nL 18.109375 46.1875 \nQ 21.34375 51.125 25.703125 53.5625 \nQ 30.078125 56 35.796875 56 \nQ 45.21875 56 50.046875 50.171875 \nQ 54.890625 44.34375 54.890625 33.015625 \nz\n\" id=\"DejaVuSans-104\"/>\n      </defs>\n      <use xlink:href=\"#DejaVuSans-101\"/>\n      <use x=\"61.523438\" xlink:href=\"#DejaVuSans-112\"/>\n      <use x=\"125\" xlink:href=\"#DejaVuSans-111\"/>\n      <use x=\"186.181641\" xlink:href=\"#DejaVuSans-99\"/>\n      <use x=\"241.162109\" xlink:href=\"#DejaVuSans-104\"/>\n     </g>\n    </g>\n   </g>\n   <g id=\"matplotlib.axis_2\">\n    <g id=\"ytick_1\">\n     <g id=\"line2d_13\">\n      <path clip-path=\"url(#p3762c53aa3)\" d=\"M 69.54 154.487352 \nL 781.358182 154.487352 \n\" style=\"fill:none;stroke:#cbcbcb;\"/>\n     </g>\n     <g id=\"line2d_14\"/>\n     <g id=\"text_8\">\n      <!-- $\\mathdefault{10^{-2}}$ -->\n      <g transform=\"translate(33.14 159.806259)scale(0.14 -0.14)\">\n       <defs>\n        <path d=\"M 10.59375 35.5 \nL 73.1875 35.5 \nL 73.1875 27.203125 \nL 10.59375 27.203125 \nz\n\" id=\"DejaVuSans-8722\"/>\n       </defs>\n       <use transform=\"translate(0 0.765625)\" xlink:href=\"#DejaVuSans-49\"/>\n       <use transform=\"translate(63.623047 0.765625)\" xlink:href=\"#DejaVuSans-48\"/>\n       <use transform=\"translate(128.203125 39.046875)scale(0.7)\" xlink:href=\"#DejaVuSans-8722\"/>\n       <use transform=\"translate(186.855469 39.046875)scale(0.7)\" xlink:href=\"#DejaVuSans-50\"/>\n      </g>\n     </g>\n    </g>\n    <g id=\"ytick_2\">\n     <g id=\"line2d_15\"/>\n     <g id=\"text_9\">\n      <!-- $\\mathdefault{4\\times10^{-3}}$ -->\n      <g transform=\"translate(7.2 320.303647)scale(0.14 -0.14)\">\n       <defs>\n        <path d=\"M 70.125 53.71875 \nL 47.796875 31.296875 \nL 70.125 8.984375 \nL 64.3125 3.078125 \nL 41.890625 25.484375 \nL 19.484375 3.078125 \nL 13.71875 8.984375 \nL 35.984375 31.296875 \nL 13.71875 53.71875 \nL 19.484375 59.625 \nL 41.890625 37.203125 \nL 64.3125 59.625 \nz\n\" id=\"DejaVuSans-215\"/>\n       </defs>\n       <use transform=\"translate(0 0.765625)\" xlink:href=\"#DejaVuSans-52\"/>\n       <use transform=\"translate(83.105469 0.765625)\" xlink:href=\"#DejaVuSans-215\"/>\n       <use transform=\"translate(186.376953 0.765625)\" xlink:href=\"#DejaVuSans-49\"/>\n       <use transform=\"translate(250 0.765625)\" xlink:href=\"#DejaVuSans-48\"/>\n       <use transform=\"translate(314.580078 39.046875)scale(0.7)\" xlink:href=\"#DejaVuSans-8722\"/>\n       <use transform=\"translate(373.232422 39.046875)scale(0.7)\" xlink:href=\"#DejaVuSans-51\"/>\n      </g>\n     </g>\n    </g>\n    <g id=\"ytick_3\">\n     <g id=\"line2d_16\"/>\n    </g>\n    <g id=\"ytick_4\">\n     <g id=\"line2d_17\"/>\n     <g id=\"text_10\">\n      <!-- $\\mathdefault{6\\times10^{-3}}$ -->\n      <g transform=\"translate(7.2 249.282421)scale(0.14 -0.14)\">\n       <defs>\n        <path d=\"M 33.015625 40.375 \nQ 26.375 40.375 22.484375 35.828125 \nQ 18.609375 31.296875 18.609375 23.390625 \nQ 18.609375 15.53125 22.484375 10.953125 \nQ 26.375 6.390625 33.015625 6.390625 \nQ 39.65625 6.390625 43.53125 10.953125 \nQ 47.40625 15.53125 47.40625 23.390625 \nQ 47.40625 31.296875 43.53125 35.828125 \nQ 39.65625 40.375 33.015625 40.375 \nz\nM 52.59375 71.296875 \nL 52.59375 62.3125 \nQ 48.875 64.0625 45.09375 64.984375 \nQ 41.3125 65.921875 37.59375 65.921875 \nQ 27.828125 65.921875 22.671875 59.328125 \nQ 17.53125 52.734375 16.796875 39.40625 \nQ 19.671875 43.65625 24.015625 45.921875 \nQ 28.375 48.1875 33.59375 48.1875 \nQ 44.578125 48.1875 50.953125 41.515625 \nQ 57.328125 34.859375 57.328125 23.390625 \nQ 57.328125 12.15625 50.6875 5.359375 \nQ 44.046875 -1.421875 33.015625 -1.421875 \nQ 20.359375 -1.421875 13.671875 8.265625 \nQ 6.984375 17.96875 6.984375 36.375 \nQ 6.984375 53.65625 15.1875 63.9375 \nQ 23.390625 74.21875 37.203125 74.21875 \nQ 40.921875 74.21875 44.703125 73.484375 \nQ 48.484375 72.75 52.59375 71.296875 \nz\n\" id=\"DejaVuSans-54\"/>\n       </defs>\n       <use transform=\"translate(0 0.765625)\" xlink:href=\"#DejaVuSans-54\"/>\n       <use transform=\"translate(83.105469 0.765625)\" xlink:href=\"#DejaVuSans-215\"/>\n       <use transform=\"translate(186.376953 0.765625)\" xlink:href=\"#DejaVuSans-49\"/>\n       <use transform=\"translate(250 0.765625)\" xlink:href=\"#DejaVuSans-48\"/>\n       <use transform=\"translate(314.580078 39.046875)scale(0.7)\" xlink:href=\"#DejaVuSans-8722\"/>\n       <use transform=\"translate(373.232422 39.046875)scale(0.7)\" xlink:href=\"#DejaVuSans-51\"/>\n      </g>\n     </g>\n    </g>\n    <g id=\"ytick_5\">\n     <g id=\"line2d_18\"/>\n    </g>\n    <g id=\"ytick_6\">\n     <g id=\"line2d_19\"/>\n    </g>\n    <g id=\"ytick_7\">\n     <g id=\"line2d_20\"/>\n    </g>\n    <g id=\"ytick_8\">\n     <g id=\"line2d_21\"/>\n     <g id=\"text_11\">\n      <!-- $\\mathdefault{2\\times10^{-2}}$ -->\n      <g transform=\"translate(7.2 38.394671)scale(0.14 -0.14)\">\n       <use transform=\"translate(0 0.765625)\" xlink:href=\"#DejaVuSans-50\"/>\n       <use transform=\"translate(83.105469 0.765625)\" xlink:href=\"#DejaVuSans-215\"/>\n       <use transform=\"translate(186.376953 0.765625)\" xlink:href=\"#DejaVuSans-49\"/>\n       <use transform=\"translate(250 0.765625)\" xlink:href=\"#DejaVuSans-48\"/>\n       <use transform=\"translate(314.580078 39.046875)scale(0.7)\" xlink:href=\"#DejaVuSans-8722\"/>\n       <use transform=\"translate(373.232422 39.046875)scale(0.7)\" xlink:href=\"#DejaVuSans-50\"/>\n      </g>\n     </g>\n    </g>\n   </g>\n   <g id=\"line2d_22\">\n    <path clip-path=\"url(#p3762c53aa3)\" d=\"M 101.895372 41.772995 \nL 115.101646 133.184197 \nL 128.30792 156.965379 \nL 141.514195 170.745622 \nL 154.720469 180.835734 \nL 167.926743 188.634965 \nL 181.133017 195.705688 \nL 194.339292 201.988924 \nL 207.545566 208.139391 \nL 220.75184 213.974386 \nL 233.958114 220.020874 \nL 247.164389 225.663743 \nL 260.370663 231.028955 \nL 273.576937 236.239219 \nL 286.783211 241.128777 \nL 299.989486 245.577942 \nL 313.19576 249.272833 \nL 326.402034 253.356227 \nL 339.608308 256.827235 \nL 352.814583 260.193821 \nL 366.020857 263.11933 \nL 379.227131 265.915076 \nL 392.433405 268.650833 \nL 405.63968 271.277849 \nL 418.845954 273.205016 \nL 432.052228 275.859618 \nL 445.258502 277.768375 \nL 458.464777 279.803519 \nL 471.671051 281.53834 \nL 484.877325 283.153742 \nL 498.083599 285.223389 \nL 511.289874 286.559847 \nL 524.496148 288.248586 \nL 537.702422 289.540636 \nL 550.908696 291.08688 \nL 564.11497 292.347909 \nL 577.321245 293.89079 \nL 590.527519 294.847087 \nL 603.733793 296.18151 \nL 616.940067 297.253911 \nL 630.146342 298.33735 \nL 643.352616 299.488405 \nL 656.55889 300.559298 \nL 669.765164 301.451251 \nL 682.971439 302.21492 \nL 696.177713 303.388221 \nL 709.383987 304.242273 \nL 722.590261 305.212731 \nL 735.796536 305.94502 \nL 749.00281 306.863905 \n\" style=\"fill:none;stroke:#008fd5;stroke-width:4;\"/>\n   </g>\n   <g id=\"line2d_23\">\n    <path clip-path=\"url(#p3762c53aa3)\" d=\"M 101.895372 101.451282 \nL 115.101646 129.198978 \nL 128.30792 139.701512 \nL 141.514195 144.888232 \nL 154.720469 151.078529 \nL 167.926743 154.167652 \nL 181.133017 156.863621 \nL 194.339292 154.932664 \nL 207.545566 154.400005 \nL 220.75184 151.28806 \nL 233.958114 151.223344 \nL 247.164389 152.144314 \nL 260.370663 148.51537 \nL 273.576937 151.207333 \nL 286.783211 147.264556 \nL 299.989486 146.242439 \nL 313.19576 144.805986 \nL 326.402034 144.817517 \nL 339.608308 141.529035 \nL 352.814583 143.68609 \nL 366.020857 140.120259 \nL 379.227131 139.520766 \nL 392.433405 137.683035 \nL 405.63968 140.454538 \nL 418.845954 139.586108 \nL 432.052228 139.076556 \nL 445.258502 136.335734 \nL 458.464777 135.662016 \nL 471.671051 135.783483 \nL 484.877325 133.928781 \nL 498.083599 135.658192 \nL 511.289874 132.478354 \nL 524.496148 130.80001 \nL 537.702422 132.654062 \nL 550.908696 131.912944 \nL 564.11497 131.384879 \nL 577.321245 132.90429 \nL 590.527519 133.081451 \nL 603.733793 130.629567 \nL 616.940067 130.109013 \nL 630.146342 130.475106 \nL 643.352616 129.54376 \nL 656.55889 129.671236 \nL 669.765164 127.55531 \nL 682.971439 129.802955 \nL 696.177713 128.315322 \nL 709.383987 126.667612 \nL 722.590261 127.768297 \nL 735.796536 127.183803 \nL 749.00281 126.500224 \n\" style=\"fill:none;stroke:#fc4f30;stroke-width:4;\"/>\n   </g>\n   <g id=\"patch_3\">\n    <path d=\"M 69.54 320.11845 \nL 69.54 28.51845 \n\" style=\"fill:none;stroke:#f0f0f0;stroke-linecap:square;stroke-linejoin:miter;stroke-width:3;\"/>\n   </g>\n   <g id=\"patch_4\">\n    <path d=\"M 781.358182 320.11845 \nL 781.358182 28.51845 \n\" style=\"fill:none;stroke:#f0f0f0;stroke-linecap:square;stroke-linejoin:miter;stroke-width:3;\"/>\n   </g>\n   <g id=\"patch_5\">\n    <path d=\"M 69.54 320.11845 \nL 781.358182 320.11845 \n\" style=\"fill:none;stroke:#f0f0f0;stroke-linecap:square;stroke-linejoin:miter;stroke-width:3;\"/>\n   </g>\n   <g id=\"patch_6\">\n    <path d=\"M 69.54 28.51845 \nL 781.358182 28.51845 \n\" style=\"fill:none;stroke:#f0f0f0;stroke-linecap:square;stroke-linejoin:miter;stroke-width:3;\"/>\n   </g>\n   <g id=\"text_12\">\n    <!-- Loss: Mean Squared Error -->\n    <g transform=\"translate(296.420366 22.51845)scale(0.2016 -0.2016)\">\n     <defs>\n      <path d=\"M 9.8125 72.90625 \nL 19.671875 72.90625 \nL 19.671875 8.296875 \nL 55.171875 8.296875 \nL 55.171875 0 \nL 9.8125 0 \nz\n\" id=\"DejaVuSans-76\"/>\n      <path d=\"M 44.28125 53.078125 \nL 44.28125 44.578125 \nQ 40.484375 46.53125 36.375 47.5 \nQ 32.28125 48.484375 27.875 48.484375 \nQ 21.1875 48.484375 17.84375 46.4375 \nQ 14.5 44.390625 14.5 40.28125 \nQ 14.5 37.15625 16.890625 35.375 \nQ 19.28125 33.59375 26.515625 31.984375 \nL 29.59375 31.296875 \nQ 39.15625 29.25 43.1875 25.515625 \nQ 47.21875 21.78125 47.21875 15.09375 \nQ 47.21875 7.46875 41.1875 3.015625 \nQ 35.15625 -1.421875 24.609375 -1.421875 \nQ 20.21875 -1.421875 15.453125 -0.5625 \nQ 10.6875 0.296875 5.421875 2 \nL 5.421875 11.28125 \nQ 10.40625 8.6875 15.234375 7.390625 \nQ 20.0625 6.109375 24.8125 6.109375 \nQ 31.15625 6.109375 34.5625 8.28125 \nQ 37.984375 10.453125 37.984375 14.40625 \nQ 37.984375 18.0625 35.515625 20.015625 \nQ 33.0625 21.96875 24.703125 23.78125 \nL 21.578125 24.515625 \nQ 13.234375 26.265625 9.515625 29.90625 \nQ 5.8125 33.546875 5.8125 39.890625 \nQ 5.8125 47.609375 11.28125 51.796875 \nQ 16.75 56 26.8125 56 \nQ 31.78125 56 36.171875 55.265625 \nQ 40.578125 54.546875 44.28125 53.078125 \nz\n\" id=\"DejaVuSans-115\"/>\n      <path d=\"M 11.71875 12.40625 \nL 22.015625 12.40625 \nL 22.015625 0 \nL 11.71875 0 \nz\nM 11.71875 51.703125 \nL 22.015625 51.703125 \nL 22.015625 39.3125 \nL 11.71875 39.3125 \nz\n\" id=\"DejaVuSans-58\"/>\n      <path id=\"DejaVuSans-32\"/>\n      <path d=\"M 9.8125 72.90625 \nL 24.515625 72.90625 \nL 43.109375 23.296875 \nL 61.8125 72.90625 \nL 76.515625 72.90625 \nL 76.515625 0 \nL 66.890625 0 \nL 66.890625 64.015625 \nL 48.09375 14.015625 \nL 38.1875 14.015625 \nL 19.390625 64.015625 \nL 19.390625 0 \nL 9.8125 0 \nz\n\" id=\"DejaVuSans-77\"/>\n      <path d=\"M 34.28125 27.484375 \nQ 23.390625 27.484375 19.1875 25 \nQ 14.984375 22.515625 14.984375 16.5 \nQ 14.984375 11.71875 18.140625 8.90625 \nQ 21.296875 6.109375 26.703125 6.109375 \nQ 34.1875 6.109375 38.703125 11.40625 \nQ 43.21875 16.703125 43.21875 25.484375 \nL 43.21875 27.484375 \nz\nM 52.203125 31.203125 \nL 52.203125 0 \nL 43.21875 0 \nL 43.21875 8.296875 \nQ 40.140625 3.328125 35.546875 0.953125 \nQ 30.953125 -1.421875 24.3125 -1.421875 \nQ 15.921875 -1.421875 10.953125 3.296875 \nQ 6 8.015625 6 15.921875 \nQ 6 25.140625 12.171875 29.828125 \nQ 18.359375 34.515625 30.609375 34.515625 \nL 43.21875 34.515625 \nL 43.21875 35.40625 \nQ 43.21875 41.609375 39.140625 45 \nQ 35.0625 48.390625 27.6875 48.390625 \nQ 23 48.390625 18.546875 47.265625 \nQ 14.109375 46.140625 10.015625 43.890625 \nL 10.015625 52.203125 \nQ 14.9375 54.109375 19.578125 55.046875 \nQ 24.21875 56 28.609375 56 \nQ 40.484375 56 46.34375 49.84375 \nQ 52.203125 43.703125 52.203125 31.203125 \nz\n\" id=\"DejaVuSans-97\"/>\n      <path d=\"M 54.890625 33.015625 \nL 54.890625 0 \nL 45.90625 0 \nL 45.90625 32.71875 \nQ 45.90625 40.484375 42.875 44.328125 \nQ 39.84375 48.1875 33.796875 48.1875 \nQ 26.515625 48.1875 22.3125 43.546875 \nQ 18.109375 38.921875 18.109375 30.90625 \nL 18.109375 0 \nL 9.078125 0 \nL 9.078125 54.6875 \nL 18.109375 54.6875 \nL 18.109375 46.1875 \nQ 21.34375 51.125 25.703125 53.5625 \nQ 30.078125 56 35.796875 56 \nQ 45.21875 56 50.046875 50.171875 \nQ 54.890625 44.34375 54.890625 33.015625 \nz\n\" id=\"DejaVuSans-110\"/>\n      <path d=\"M 53.515625 70.515625 \nL 53.515625 60.890625 \nQ 47.90625 63.578125 42.921875 64.890625 \nQ 37.9375 66.21875 33.296875 66.21875 \nQ 25.25 66.21875 20.875 63.09375 \nQ 16.5 59.96875 16.5 54.203125 \nQ 16.5 49.359375 19.40625 46.890625 \nQ 22.3125 44.4375 30.421875 42.921875 \nL 36.375 41.703125 \nQ 47.40625 39.59375 52.65625 34.296875 \nQ 57.90625 29 57.90625 20.125 \nQ 57.90625 9.515625 50.796875 4.046875 \nQ 43.703125 -1.421875 29.984375 -1.421875 \nQ 24.8125 -1.421875 18.96875 -0.25 \nQ 13.140625 0.921875 6.890625 3.21875 \nL 6.890625 13.375 \nQ 12.890625 10.015625 18.65625 8.296875 \nQ 24.421875 6.59375 29.984375 6.59375 \nQ 38.421875 6.59375 43.015625 9.90625 \nQ 47.609375 13.234375 47.609375 19.390625 \nQ 47.609375 24.75 44.3125 27.78125 \nQ 41.015625 30.8125 33.5 32.328125 \nL 27.484375 33.5 \nQ 16.453125 35.6875 11.515625 40.375 \nQ 6.59375 45.0625 6.59375 53.421875 \nQ 6.59375 63.09375 13.40625 68.65625 \nQ 20.21875 74.21875 32.171875 74.21875 \nQ 37.3125 74.21875 42.625 73.28125 \nQ 47.953125 72.359375 53.515625 70.515625 \nz\n\" id=\"DejaVuSans-83\"/>\n      <path d=\"M 14.796875 27.296875 \nQ 14.796875 17.390625 18.875 11.75 \nQ 22.953125 6.109375 30.078125 6.109375 \nQ 37.203125 6.109375 41.296875 11.75 \nQ 45.40625 17.390625 45.40625 27.296875 \nQ 45.40625 37.203125 41.296875 42.84375 \nQ 37.203125 48.484375 30.078125 48.484375 \nQ 22.953125 48.484375 18.875 42.84375 \nQ 14.796875 37.203125 14.796875 27.296875 \nz\nM 45.40625 8.203125 \nQ 42.578125 3.328125 38.25 0.953125 \nQ 33.9375 -1.421875 27.875 -1.421875 \nQ 17.96875 -1.421875 11.734375 6.484375 \nQ 5.515625 14.40625 5.515625 27.296875 \nQ 5.515625 40.1875 11.734375 48.09375 \nQ 17.96875 56 27.875 56 \nQ 33.9375 56 38.25 53.625 \nQ 42.578125 51.265625 45.40625 46.390625 \nL 45.40625 54.6875 \nL 54.390625 54.6875 \nL 54.390625 -20.796875 \nL 45.40625 -20.796875 \nz\n\" id=\"DejaVuSans-113\"/>\n      <path d=\"M 8.5 21.578125 \nL 8.5 54.6875 \nL 17.484375 54.6875 \nL 17.484375 21.921875 \nQ 17.484375 14.15625 20.5 10.265625 \nQ 23.53125 6.390625 29.59375 6.390625 \nQ 36.859375 6.390625 41.078125 11.03125 \nQ 45.3125 15.671875 45.3125 23.6875 \nL 45.3125 54.6875 \nL 54.296875 54.6875 \nL 54.296875 0 \nL 45.3125 0 \nL 45.3125 8.40625 \nQ 42.046875 3.421875 37.71875 1 \nQ 33.40625 -1.421875 27.6875 -1.421875 \nQ 18.265625 -1.421875 13.375 4.4375 \nQ 8.5 10.296875 8.5 21.578125 \nz\nM 31.109375 56 \nz\n\" id=\"DejaVuSans-117\"/>\n      <path d=\"M 41.109375 46.296875 \nQ 39.59375 47.171875 37.8125 47.578125 \nQ 36.03125 48 33.890625 48 \nQ 26.265625 48 22.1875 43.046875 \nQ 18.109375 38.09375 18.109375 28.8125 \nL 18.109375 0 \nL 9.078125 0 \nL 9.078125 54.6875 \nL 18.109375 54.6875 \nL 18.109375 46.1875 \nQ 20.953125 51.171875 25.484375 53.578125 \nQ 30.03125 56 36.53125 56 \nQ 37.453125 56 38.578125 55.875 \nQ 39.703125 55.765625 41.0625 55.515625 \nz\n\" id=\"DejaVuSans-114\"/>\n      <path d=\"M 45.40625 46.390625 \nL 45.40625 75.984375 \nL 54.390625 75.984375 \nL 54.390625 0 \nL 45.40625 0 \nL 45.40625 8.203125 \nQ 42.578125 3.328125 38.25 0.953125 \nQ 33.9375 -1.421875 27.875 -1.421875 \nQ 17.96875 -1.421875 11.734375 6.484375 \nQ 5.515625 14.40625 5.515625 27.296875 \nQ 5.515625 40.1875 11.734375 48.09375 \nQ 17.96875 56 27.875 56 \nQ 33.9375 56 38.25 53.625 \nQ 42.578125 51.265625 45.40625 46.390625 \nz\nM 14.796875 27.296875 \nQ 14.796875 17.390625 18.875 11.75 \nQ 22.953125 6.109375 30.078125 6.109375 \nQ 37.203125 6.109375 41.296875 11.75 \nQ 45.40625 17.390625 45.40625 27.296875 \nQ 45.40625 37.203125 41.296875 42.84375 \nQ 37.203125 48.484375 30.078125 48.484375 \nQ 22.953125 48.484375 18.875 42.84375 \nQ 14.796875 37.203125 14.796875 27.296875 \nz\n\" id=\"DejaVuSans-100\"/>\n      <path d=\"M 9.8125 72.90625 \nL 55.90625 72.90625 \nL 55.90625 64.59375 \nL 19.671875 64.59375 \nL 19.671875 43.015625 \nL 54.390625 43.015625 \nL 54.390625 34.71875 \nL 19.671875 34.71875 \nL 19.671875 8.296875 \nL 56.78125 8.296875 \nL 56.78125 0 \nL 9.8125 0 \nz\n\" id=\"DejaVuSans-69\"/>\n     </defs>\n     <use xlink:href=\"#DejaVuSans-76\"/>\n     <use x=\"53.962891\" xlink:href=\"#DejaVuSans-111\"/>\n     <use x=\"115.144531\" xlink:href=\"#DejaVuSans-115\"/>\n     <use x=\"167.244141\" xlink:href=\"#DejaVuSans-115\"/>\n     <use x=\"219.34375\" xlink:href=\"#DejaVuSans-58\"/>\n     <use x=\"253.035156\" xlink:href=\"#DejaVuSans-32\"/>\n     <use x=\"284.822266\" xlink:href=\"#DejaVuSans-77\"/>\n     <use x=\"371.101562\" xlink:href=\"#DejaVuSans-101\"/>\n     <use x=\"432.625\" xlink:href=\"#DejaVuSans-97\"/>\n     <use x=\"493.904297\" xlink:href=\"#DejaVuSans-110\"/>\n     <use x=\"557.283203\" xlink:href=\"#DejaVuSans-32\"/>\n     <use x=\"589.070312\" xlink:href=\"#DejaVuSans-83\"/>\n     <use x=\"652.546875\" xlink:href=\"#DejaVuSans-113\"/>\n     <use x=\"716.023438\" xlink:href=\"#DejaVuSans-117\"/>\n     <use x=\"779.402344\" xlink:href=\"#DejaVuSans-97\"/>\n     <use x=\"840.681641\" xlink:href=\"#DejaVuSans-114\"/>\n     <use x=\"879.544922\" xlink:href=\"#DejaVuSans-101\"/>\n     <use x=\"941.068359\" xlink:href=\"#DejaVuSans-100\"/>\n     <use x=\"1004.544922\" xlink:href=\"#DejaVuSans-32\"/>\n     <use x=\"1036.332031\" xlink:href=\"#DejaVuSans-69\"/>\n     <use x=\"1099.515625\" xlink:href=\"#DejaVuSans-114\"/>\n     <use x=\"1138.878906\" xlink:href=\"#DejaVuSans-114\"/>\n     <use x=\"1177.742188\" xlink:href=\"#DejaVuSans-111\"/>\n     <use x=\"1238.923828\" xlink:href=\"#DejaVuSans-114\"/>\n    </g>\n   </g>\n   <g id=\"legend_1\">\n    <g id=\"patch_7\">\n     <path d=\"M 671.961307 81.206575 \nL 771.558182 81.206575 \nQ 774.358182 81.206575 774.358182 78.406575 \nL 774.358182 38.31845 \nQ 774.358182 35.51845 771.558182 35.51845 \nL 671.961307 35.51845 \nQ 669.161307 35.51845 669.161307 38.31845 \nL 669.161307 78.406575 \nQ 669.161307 81.206575 671.961307 81.206575 \nz\n\" style=\"fill:#f0f0f0;opacity:0.8;stroke:#cccccc;stroke-linejoin:miter;stroke-width:0.5;\"/>\n    </g>\n    <g id=\"line2d_24\">\n     <path d=\"M 674.761307 46.856262 \nL 702.761307 46.856262 \n\" style=\"fill:none;stroke:#008fd5;stroke-width:4;\"/>\n    </g>\n    <g id=\"line2d_25\"/>\n    <g id=\"text_13\">\n     <!-- loss -->\n     <g transform=\"translate(713.961307 51.756262)scale(0.14 -0.14)\">\n      <defs>\n       <path d=\"M 9.421875 75.984375 \nL 18.40625 75.984375 \nL 18.40625 0 \nL 9.421875 0 \nz\n\" id=\"DejaVuSans-108\"/>\n      </defs>\n      <use xlink:href=\"#DejaVuSans-108\"/>\n      <use x=\"27.783203\" xlink:href=\"#DejaVuSans-111\"/>\n      <use x=\"88.964844\" xlink:href=\"#DejaVuSans-115\"/>\n      <use x=\"141.064453\" xlink:href=\"#DejaVuSans-115\"/>\n     </g>\n    </g>\n    <g id=\"line2d_26\">\n     <path d=\"M 674.761307 67.405637 \nL 702.761307 67.405637 \n\" style=\"fill:none;stroke:#fc4f30;stroke-width:4;\"/>\n    </g>\n    <g id=\"line2d_27\"/>\n    <g id=\"text_14\">\n     <!-- val_loss -->\n     <g transform=\"translate(713.961307 72.305637)scale(0.14 -0.14)\">\n      <defs>\n       <path d=\"M 2.984375 54.6875 \nL 12.5 54.6875 \nL 29.59375 8.796875 \nL 46.6875 54.6875 \nL 56.203125 54.6875 \nL 35.6875 0 \nL 23.484375 0 \nz\n\" id=\"DejaVuSans-118\"/>\n       <path d=\"M 50.984375 -16.609375 \nL 50.984375 -23.578125 \nL -0.984375 -23.578125 \nL -0.984375 -16.609375 \nz\n\" id=\"DejaVuSans-95\"/>\n      </defs>\n      <use xlink:href=\"#DejaVuSans-118\"/>\n      <use x=\"59.179688\" xlink:href=\"#DejaVuSans-97\"/>\n      <use x=\"120.458984\" xlink:href=\"#DejaVuSans-108\"/>\n      <use x=\"148.242188\" xlink:href=\"#DejaVuSans-95\"/>\n      <use x=\"198.242188\" xlink:href=\"#DejaVuSans-108\"/>\n      <use x=\"226.025391\" xlink:href=\"#DejaVuSans-111\"/>\n      <use x=\"287.207031\" xlink:href=\"#DejaVuSans-115\"/>\n      <use x=\"339.306641\" xlink:href=\"#DejaVuSans-115\"/>\n     </g>\n    </g>\n   </g>\n  </g>\n  <g id=\"axes_2\">\n   <g id=\"patch_8\">\n    <path d=\"M 923.721818 320.11845 \nL 1635.54 320.11845 \nL 1635.54 28.51845 \nL 923.721818 28.51845 \nz\n\" style=\"fill:#f0f0f0;\"/>\n   </g>\n   <g id=\"matplotlib.axis_3\">\n    <g id=\"xtick_7\">\n     <g id=\"line2d_28\">\n      <path clip-path=\"url(#p04ea511cd7)\" d=\"M 942.870916 320.11845 \nL 942.870916 28.51845 \n\" style=\"fill:none;stroke:#cbcbcb;\"/>\n     </g>\n     <g id=\"line2d_29\"/>\n     <g id=\"text_15\">\n      <!-- 0 -->\n      <g transform=\"translate(938.417166 334.256262)scale(0.14 -0.14)\">\n       <use xlink:href=\"#DejaVuSans-48\"/>\n      </g>\n     </g>\n    </g>\n    <g id=\"xtick_8\">\n     <g id=\"line2d_30\">\n      <path clip-path=\"url(#p04ea511cd7)\" d=\"M 1074.933658 320.11845 \nL 1074.933658 28.51845 \n\" style=\"fill:none;stroke:#cbcbcb;\"/>\n     </g>\n     <g id=\"line2d_31\"/>\n     <g id=\"text_16\">\n      <!-- 10 -->\n      <g transform=\"translate(1066.026158 334.256262)scale(0.14 -0.14)\">\n       <use xlink:href=\"#DejaVuSans-49\"/>\n       <use x=\"63.623047\" xlink:href=\"#DejaVuSans-48\"/>\n      </g>\n     </g>\n    </g>\n    <g id=\"xtick_9\">\n     <g id=\"line2d_32\">\n      <path clip-path=\"url(#p04ea511cd7)\" d=\"M 1206.996401 320.11845 \nL 1206.996401 28.51845 \n\" style=\"fill:none;stroke:#cbcbcb;\"/>\n     </g>\n     <g id=\"line2d_33\"/>\n     <g id=\"text_17\">\n      <!-- 20 -->\n      <g transform=\"translate(1198.088901 334.256262)scale(0.14 -0.14)\">\n       <use xlink:href=\"#DejaVuSans-50\"/>\n       <use x=\"63.623047\" xlink:href=\"#DejaVuSans-48\"/>\n      </g>\n     </g>\n    </g>\n    <g id=\"xtick_10\">\n     <g id=\"line2d_34\">\n      <path clip-path=\"url(#p04ea511cd7)\" d=\"M 1339.059143 320.11845 \nL 1339.059143 28.51845 \n\" style=\"fill:none;stroke:#cbcbcb;\"/>\n     </g>\n     <g id=\"line2d_35\"/>\n     <g id=\"text_18\">\n      <!-- 30 -->\n      <g transform=\"translate(1330.151643 334.256262)scale(0.14 -0.14)\">\n       <use xlink:href=\"#DejaVuSans-51\"/>\n       <use x=\"63.623047\" xlink:href=\"#DejaVuSans-48\"/>\n      </g>\n     </g>\n    </g>\n    <g id=\"xtick_11\">\n     <g id=\"line2d_36\">\n      <path clip-path=\"url(#p04ea511cd7)\" d=\"M 1471.121886 320.11845 \nL 1471.121886 28.51845 \n\" style=\"fill:none;stroke:#cbcbcb;\"/>\n     </g>\n     <g id=\"line2d_37\"/>\n     <g id=\"text_19\">\n      <!-- 40 -->\n      <g transform=\"translate(1462.214386 334.256262)scale(0.14 -0.14)\">\n       <use xlink:href=\"#DejaVuSans-52\"/>\n       <use x=\"63.623047\" xlink:href=\"#DejaVuSans-48\"/>\n      </g>\n     </g>\n    </g>\n    <g id=\"xtick_12\">\n     <g id=\"line2d_38\">\n      <path clip-path=\"url(#p04ea511cd7)\" d=\"M 1603.184628 320.11845 \nL 1603.184628 28.51845 \n\" style=\"fill:none;stroke:#cbcbcb;\"/>\n     </g>\n     <g id=\"line2d_39\"/>\n     <g id=\"text_20\">\n      <!-- 50 -->\n      <g transform=\"translate(1594.277128 334.256262)scale(0.14 -0.14)\">\n       <use xlink:href=\"#DejaVuSans-53\"/>\n       <use x=\"63.623047\" xlink:href=\"#DejaVuSans-48\"/>\n      </g>\n     </g>\n    </g>\n    <g id=\"text_21\">\n     <!-- epoch -->\n     <g transform=\"translate(1254.047659 353.9332)scale(0.168 -0.168)\">\n      <use xlink:href=\"#DejaVuSans-101\"/>\n      <use x=\"61.523438\" xlink:href=\"#DejaVuSans-112\"/>\n      <use x=\"125\" xlink:href=\"#DejaVuSans-111\"/>\n      <use x=\"186.181641\" xlink:href=\"#DejaVuSans-99\"/>\n      <use x=\"241.162109\" xlink:href=\"#DejaVuSans-104\"/>\n     </g>\n    </g>\n   </g>\n   <g id=\"matplotlib.axis_4\">\n    <g id=\"ytick_9\">\n     <g id=\"line2d_40\">\n      <path clip-path=\"url(#p04ea511cd7)\" d=\"M 923.721818 307.237553 \nL 1635.54 307.237553 \n\" style=\"fill:none;stroke:#cbcbcb;\"/>\n     </g>\n     <g id=\"line2d_41\"/>\n     <g id=\"text_22\">\n      <!-- 0.750 -->\n      <g transform=\"translate(880.142443 312.556459)scale(0.14 -0.14)\">\n       <defs>\n        <path d=\"M 10.6875 12.40625 \nL 21 12.40625 \nL 21 0 \nL 10.6875 0 \nz\n\" id=\"DejaVuSans-46\"/>\n        <path d=\"M 8.203125 72.90625 \nL 55.078125 72.90625 \nL 55.078125 68.703125 \nL 28.609375 0 \nL 18.3125 0 \nL 43.21875 64.59375 \nL 8.203125 64.59375 \nz\n\" id=\"DejaVuSans-55\"/>\n       </defs>\n       <use xlink:href=\"#DejaVuSans-48\"/>\n       <use x=\"63.623047\" xlink:href=\"#DejaVuSans-46\"/>\n       <use x=\"95.410156\" xlink:href=\"#DejaVuSans-55\"/>\n       <use x=\"159.033203\" xlink:href=\"#DejaVuSans-53\"/>\n       <use x=\"222.65625\" xlink:href=\"#DejaVuSans-48\"/>\n      </g>\n     </g>\n    </g>\n    <g id=\"ytick_10\">\n     <g id=\"line2d_42\">\n      <path clip-path=\"url(#p04ea511cd7)\" d=\"M 923.721818 271.077072 \nL 1635.54 271.077072 \n\" style=\"fill:none;stroke:#cbcbcb;\"/>\n     </g>\n     <g id=\"line2d_43\"/>\n     <g id=\"text_23\">\n      <!-- 0.775 -->\n      <g transform=\"translate(880.142443 276.395979)scale(0.14 -0.14)\">\n       <use xlink:href=\"#DejaVuSans-48\"/>\n       <use x=\"63.623047\" xlink:href=\"#DejaVuSans-46\"/>\n       <use x=\"95.410156\" xlink:href=\"#DejaVuSans-55\"/>\n       <use x=\"159.033203\" xlink:href=\"#DejaVuSans-55\"/>\n       <use x=\"222.65625\" xlink:href=\"#DejaVuSans-53\"/>\n      </g>\n     </g>\n    </g>\n    <g id=\"ytick_11\">\n     <g id=\"line2d_44\">\n      <path clip-path=\"url(#p04ea511cd7)\" d=\"M 923.721818 234.916592 \nL 1635.54 234.916592 \n\" style=\"fill:none;stroke:#cbcbcb;\"/>\n     </g>\n     <g id=\"line2d_45\"/>\n     <g id=\"text_24\">\n      <!-- 0.800 -->\n      <g transform=\"translate(880.142443 240.235498)scale(0.14 -0.14)\">\n       <defs>\n        <path d=\"M 31.78125 34.625 \nQ 24.75 34.625 20.71875 30.859375 \nQ 16.703125 27.09375 16.703125 20.515625 \nQ 16.703125 13.921875 20.71875 10.15625 \nQ 24.75 6.390625 31.78125 6.390625 \nQ 38.8125 6.390625 42.859375 10.171875 \nQ 46.921875 13.96875 46.921875 20.515625 \nQ 46.921875 27.09375 42.890625 30.859375 \nQ 38.875 34.625 31.78125 34.625 \nz\nM 21.921875 38.8125 \nQ 15.578125 40.375 12.03125 44.71875 \nQ 8.5 49.078125 8.5 55.328125 \nQ 8.5 64.0625 14.71875 69.140625 \nQ 20.953125 74.21875 31.78125 74.21875 \nQ 42.671875 74.21875 48.875 69.140625 \nQ 55.078125 64.0625 55.078125 55.328125 \nQ 55.078125 49.078125 51.53125 44.71875 \nQ 48 40.375 41.703125 38.8125 \nQ 48.828125 37.15625 52.796875 32.3125 \nQ 56.78125 27.484375 56.78125 20.515625 \nQ 56.78125 9.90625 50.3125 4.234375 \nQ 43.84375 -1.421875 31.78125 -1.421875 \nQ 19.734375 -1.421875 13.25 4.234375 \nQ 6.78125 9.90625 6.78125 20.515625 \nQ 6.78125 27.484375 10.78125 32.3125 \nQ 14.796875 37.15625 21.921875 38.8125 \nz\nM 18.3125 54.390625 \nQ 18.3125 48.734375 21.84375 45.5625 \nQ 25.390625 42.390625 31.78125 42.390625 \nQ 38.140625 42.390625 41.71875 45.5625 \nQ 45.3125 48.734375 45.3125 54.390625 \nQ 45.3125 60.0625 41.71875 63.234375 \nQ 38.140625 66.40625 31.78125 66.40625 \nQ 25.390625 66.40625 21.84375 63.234375 \nQ 18.3125 60.0625 18.3125 54.390625 \nz\n\" id=\"DejaVuSans-56\"/>\n       </defs>\n       <use xlink:href=\"#DejaVuSans-48\"/>\n       <use x=\"63.623047\" xlink:href=\"#DejaVuSans-46\"/>\n       <use x=\"95.410156\" xlink:href=\"#DejaVuSans-56\"/>\n       <use x=\"159.033203\" xlink:href=\"#DejaVuSans-48\"/>\n       <use x=\"222.65625\" xlink:href=\"#DejaVuSans-48\"/>\n      </g>\n     </g>\n    </g>\n    <g id=\"ytick_12\">\n     <g id=\"line2d_46\">\n      <path clip-path=\"url(#p04ea511cd7)\" d=\"M 923.721818 198.756111 \nL 1635.54 198.756111 \n\" style=\"fill:none;stroke:#cbcbcb;\"/>\n     </g>\n     <g id=\"line2d_47\"/>\n     <g id=\"text_25\">\n      <!-- 0.825 -->\n      <g transform=\"translate(880.142443 204.075017)scale(0.14 -0.14)\">\n       <use xlink:href=\"#DejaVuSans-48\"/>\n       <use x=\"63.623047\" xlink:href=\"#DejaVuSans-46\"/>\n       <use x=\"95.410156\" xlink:href=\"#DejaVuSans-56\"/>\n       <use x=\"159.033203\" xlink:href=\"#DejaVuSans-50\"/>\n       <use x=\"222.65625\" xlink:href=\"#DejaVuSans-53\"/>\n      </g>\n     </g>\n    </g>\n    <g id=\"ytick_13\">\n     <g id=\"line2d_48\">\n      <path clip-path=\"url(#p04ea511cd7)\" d=\"M 923.721818 162.59563 \nL 1635.54 162.59563 \n\" style=\"fill:none;stroke:#cbcbcb;\"/>\n     </g>\n     <g id=\"line2d_49\"/>\n     <g id=\"text_26\">\n      <!-- 0.850 -->\n      <g transform=\"translate(880.142443 167.914537)scale(0.14 -0.14)\">\n       <use xlink:href=\"#DejaVuSans-48\"/>\n       <use x=\"63.623047\" xlink:href=\"#DejaVuSans-46\"/>\n       <use x=\"95.410156\" xlink:href=\"#DejaVuSans-56\"/>\n       <use x=\"159.033203\" xlink:href=\"#DejaVuSans-53\"/>\n       <use x=\"222.65625\" xlink:href=\"#DejaVuSans-48\"/>\n      </g>\n     </g>\n    </g>\n    <g id=\"ytick_14\">\n     <g id=\"line2d_50\">\n      <path clip-path=\"url(#p04ea511cd7)\" d=\"M 923.721818 126.43515 \nL 1635.54 126.43515 \n\" style=\"fill:none;stroke:#cbcbcb;\"/>\n     </g>\n     <g id=\"line2d_51\"/>\n     <g id=\"text_27\">\n      <!-- 0.875 -->\n      <g transform=\"translate(880.142443 131.754056)scale(0.14 -0.14)\">\n       <use xlink:href=\"#DejaVuSans-48\"/>\n       <use x=\"63.623047\" xlink:href=\"#DejaVuSans-46\"/>\n       <use x=\"95.410156\" xlink:href=\"#DejaVuSans-56\"/>\n       <use x=\"159.033203\" xlink:href=\"#DejaVuSans-55\"/>\n       <use x=\"222.65625\" xlink:href=\"#DejaVuSans-53\"/>\n      </g>\n     </g>\n    </g>\n    <g id=\"ytick_15\">\n     <g id=\"line2d_52\">\n      <path clip-path=\"url(#p04ea511cd7)\" d=\"M 923.721818 90.274669 \nL 1635.54 90.274669 \n\" style=\"fill:none;stroke:#cbcbcb;\"/>\n     </g>\n     <g id=\"line2d_53\"/>\n     <g id=\"text_28\">\n      <!-- 0.900 -->\n      <g transform=\"translate(880.142443 95.593575)scale(0.14 -0.14)\">\n       <defs>\n        <path d=\"M 10.984375 1.515625 \nL 10.984375 10.5 \nQ 14.703125 8.734375 18.5 7.8125 \nQ 22.3125 6.890625 25.984375 6.890625 \nQ 35.75 6.890625 40.890625 13.453125 \nQ 46.046875 20.015625 46.78125 33.40625 \nQ 43.953125 29.203125 39.59375 26.953125 \nQ 35.25 24.703125 29.984375 24.703125 \nQ 19.046875 24.703125 12.671875 31.3125 \nQ 6.296875 37.9375 6.296875 49.421875 \nQ 6.296875 60.640625 12.9375 67.421875 \nQ 19.578125 74.21875 30.609375 74.21875 \nQ 43.265625 74.21875 49.921875 64.515625 \nQ 56.59375 54.828125 56.59375 36.375 \nQ 56.59375 19.140625 48.40625 8.859375 \nQ 40.234375 -1.421875 26.421875 -1.421875 \nQ 22.703125 -1.421875 18.890625 -0.6875 \nQ 15.09375 0.046875 10.984375 1.515625 \nz\nM 30.609375 32.421875 \nQ 37.25 32.421875 41.125 36.953125 \nQ 45.015625 41.5 45.015625 49.421875 \nQ 45.015625 57.28125 41.125 61.84375 \nQ 37.25 66.40625 30.609375 66.40625 \nQ 23.96875 66.40625 20.09375 61.84375 \nQ 16.21875 57.28125 16.21875 49.421875 \nQ 16.21875 41.5 20.09375 36.953125 \nQ 23.96875 32.421875 30.609375 32.421875 \nz\n\" id=\"DejaVuSans-57\"/>\n       </defs>\n       <use xlink:href=\"#DejaVuSans-48\"/>\n       <use x=\"63.623047\" xlink:href=\"#DejaVuSans-46\"/>\n       <use x=\"95.410156\" xlink:href=\"#DejaVuSans-57\"/>\n       <use x=\"159.033203\" xlink:href=\"#DejaVuSans-48\"/>\n       <use x=\"222.65625\" xlink:href=\"#DejaVuSans-48\"/>\n      </g>\n     </g>\n    </g>\n    <g id=\"ytick_16\">\n     <g id=\"line2d_54\">\n      <path clip-path=\"url(#p04ea511cd7)\" d=\"M 923.721818 54.114189 \nL 1635.54 54.114189 \n\" style=\"fill:none;stroke:#cbcbcb;\"/>\n     </g>\n     <g id=\"line2d_55\"/>\n     <g id=\"text_29\">\n      <!-- 0.925 -->\n      <g transform=\"translate(880.142443 59.433095)scale(0.14 -0.14)\">\n       <use xlink:href=\"#DejaVuSans-48\"/>\n       <use x=\"63.623047\" xlink:href=\"#DejaVuSans-46\"/>\n       <use x=\"95.410156\" xlink:href=\"#DejaVuSans-57\"/>\n       <use x=\"159.033203\" xlink:href=\"#DejaVuSans-50\"/>\n       <use x=\"222.65625\" xlink:href=\"#DejaVuSans-53\"/>\n      </g>\n     </g>\n    </g>\n   </g>\n   <g id=\"line2d_56\">\n    <path clip-path=\"url(#p04ea511cd7)\" d=\"M 956.07719 306.863905 \nL 969.283464 204.984436 \nL 982.489739 170.947424 \nL 995.696013 153.434398 \nL 1008.902287 141.636107 \nL 1022.108561 132.879594 \nL 1035.314836 125.381537 \nL 1048.52111 119.088052 \nL 1061.727384 113.059932 \nL 1074.933658 107.674273 \nL 1088.139933 102.427503 \nL 1101.346207 97.431011 \nL 1114.552481 92.995768 \nL 1127.758755 88.828907 \nL 1140.96503 84.894735 \nL 1154.171304 81.405682 \nL 1167.377578 78.541073 \nL 1180.583852 75.558265 \nL 1193.790126 73.028594 \nL 1206.996401 70.666781 \nL 1220.202675 68.496275 \nL 1233.408949 66.633291 \nL 1246.615223 64.802724 \nL 1259.821498 62.999918 \nL 1273.027772 61.820347 \nL 1286.234046 60.003575 \nL 1299.44032 58.919442 \nL 1312.646595 57.49744 \nL 1325.852869 56.474433 \nL 1339.059143 55.278654 \nL 1352.265417 54.270648 \nL 1365.471692 53.3467 \nL 1378.677966 52.337401 \nL 1391.88424 51.522944 \nL 1405.090514 50.635292 \nL 1418.296789 49.886271 \nL 1431.503063 49.058451 \nL 1444.709337 48.422714 \nL 1457.915611 47.715334 \nL 1471.121886 47.20521 \nL 1484.32816 46.513951 \nL 1497.534434 45.860713 \nL 1510.740708 45.182732 \nL 1523.946983 44.722094 \nL 1537.153257 44.306546 \nL 1550.359531 43.697449 \nL 1563.565805 43.169565 \nL 1576.77208 42.668665 \nL 1589.978354 42.268981 \nL 1603.184628 41.772995 \n\" style=\"fill:none;stroke:#008fd5;stroke-width:4;\"/>\n   </g>\n   <g id=\"line2d_57\">\n    <path clip-path=\"url(#p04ea511cd7)\" d=\"M 956.07719 247.244387 \nL 969.283464 198.376962 \nL 982.489739 182.820892 \nL 995.696013 176.654227 \nL 1008.902287 165.214498 \nL 1022.108561 163.260214 \nL 1035.314836 157.681438 \nL 1048.52111 162.68612 \nL 1061.727384 163.511785 \nL 1074.933658 164.722823 \nL 1088.139933 166.124134 \nL 1101.346207 164.938184 \nL 1114.552481 167.419317 \nL 1127.758755 166.065768 \nL 1140.96503 170.696457 \nL 1154.171304 170.988289 \nL 1167.377578 173.679351 \nL 1180.583852 174.999708 \nL 1193.790126 176.609482 \nL 1206.996401 174.545277 \nL 1220.202675 177.367039 \nL 1233.408949 179.191054 \nL 1246.615223 179.902917 \nL 1259.821498 178.633167 \nL 1273.027772 178.891549 \nL 1286.234046 179.48961 \nL 1299.44032 182.096701 \nL 1312.646595 182.42069 \nL 1325.852869 182.419052 \nL 1339.059143 183.836744 \nL 1352.265417 183.657161 \nL 1365.471692 185.132961 \nL 1378.677966 186.992495 \nL 1391.88424 187.259412 \nL 1405.090514 186.520909 \nL 1418.296789 186.172348 \nL 1431.503063 186.303737 \nL 1444.709337 185.325647 \nL 1457.915611 190.389386 \nL 1471.121886 189.169381 \nL 1484.32816 187.885924 \nL 1497.534434 190.744671 \nL 1510.740708 190.847954 \nL 1523.946983 192.112617 \nL 1537.153257 189.984614 \nL 1550.359531 192.033991 \nL 1563.565805 195.820393 \nL 1576.77208 192.6699 \nL 1589.978354 194.634012 \nL 1603.184628 192.897158 \n\" style=\"fill:none;stroke:#fc4f30;stroke-width:4;\"/>\n   </g>\n   <g id=\"patch_9\">\n    <path d=\"M 923.721818 320.11845 \nL 923.721818 28.51845 \n\" style=\"fill:none;stroke:#f0f0f0;stroke-linecap:square;stroke-linejoin:miter;stroke-width:3;\"/>\n   </g>\n   <g id=\"patch_10\">\n    <path d=\"M 1635.54 320.11845 \nL 1635.54 28.51845 \n\" style=\"fill:none;stroke:#f0f0f0;stroke-linecap:square;stroke-linejoin:miter;stroke-width:3;\"/>\n   </g>\n   <g id=\"patch_11\">\n    <path d=\"M 923.721818 320.11845 \nL 1635.54 320.11845 \n\" style=\"fill:none;stroke:#f0f0f0;stroke-linecap:square;stroke-linejoin:miter;stroke-width:3;\"/>\n   </g>\n   <g id=\"patch_12\">\n    <path d=\"M 923.721818 28.51845 \nL 1635.54 28.51845 \n\" style=\"fill:none;stroke:#f0f0f0;stroke-linecap:square;stroke-linejoin:miter;stroke-width:3;\"/>\n   </g>\n   <g id=\"text_30\">\n    <!-- Cosine Similarity -->\n    <g transform=\"translate(1194.921109 22.51845)scale(0.2016 -0.2016)\">\n     <defs>\n      <path d=\"M 64.40625 67.28125 \nL 64.40625 56.890625 \nQ 59.421875 61.53125 53.78125 63.8125 \nQ 48.140625 66.109375 41.796875 66.109375 \nQ 29.296875 66.109375 22.65625 58.46875 \nQ 16.015625 50.828125 16.015625 36.375 \nQ 16.015625 21.96875 22.65625 14.328125 \nQ 29.296875 6.6875 41.796875 6.6875 \nQ 48.140625 6.6875 53.78125 8.984375 \nQ 59.421875 11.28125 64.40625 15.921875 \nL 64.40625 5.609375 \nQ 59.234375 2.09375 53.4375 0.328125 \nQ 47.65625 -1.421875 41.21875 -1.421875 \nQ 24.65625 -1.421875 15.125 8.703125 \nQ 5.609375 18.84375 5.609375 36.375 \nQ 5.609375 53.953125 15.125 64.078125 \nQ 24.65625 74.21875 41.21875 74.21875 \nQ 47.75 74.21875 53.53125 72.484375 \nQ 59.328125 70.75 64.40625 67.28125 \nz\n\" id=\"DejaVuSans-67\"/>\n      <path d=\"M 9.421875 54.6875 \nL 18.40625 54.6875 \nL 18.40625 0 \nL 9.421875 0 \nz\nM 9.421875 75.984375 \nL 18.40625 75.984375 \nL 18.40625 64.59375 \nL 9.421875 64.59375 \nz\n\" id=\"DejaVuSans-105\"/>\n      <path d=\"M 52 44.1875 \nQ 55.375 50.25 60.0625 53.125 \nQ 64.75 56 71.09375 56 \nQ 79.640625 56 84.28125 50.015625 \nQ 88.921875 44.046875 88.921875 33.015625 \nL 88.921875 0 \nL 79.890625 0 \nL 79.890625 32.71875 \nQ 79.890625 40.578125 77.09375 44.375 \nQ 74.3125 48.1875 68.609375 48.1875 \nQ 61.625 48.1875 57.5625 43.546875 \nQ 53.515625 38.921875 53.515625 30.90625 \nL 53.515625 0 \nL 44.484375 0 \nL 44.484375 32.71875 \nQ 44.484375 40.625 41.703125 44.40625 \nQ 38.921875 48.1875 33.109375 48.1875 \nQ 26.21875 48.1875 22.15625 43.53125 \nQ 18.109375 38.875 18.109375 30.90625 \nL 18.109375 0 \nL 9.078125 0 \nL 9.078125 54.6875 \nL 18.109375 54.6875 \nL 18.109375 46.1875 \nQ 21.1875 51.21875 25.484375 53.609375 \nQ 29.78125 56 35.6875 56 \nQ 41.65625 56 45.828125 52.96875 \nQ 50 49.953125 52 44.1875 \nz\n\" id=\"DejaVuSans-109\"/>\n      <path d=\"M 18.3125 70.21875 \nL 18.3125 54.6875 \nL 36.8125 54.6875 \nL 36.8125 47.703125 \nL 18.3125 47.703125 \nL 18.3125 18.015625 \nQ 18.3125 11.328125 20.140625 9.421875 \nQ 21.96875 7.515625 27.59375 7.515625 \nL 36.8125 7.515625 \nL 36.8125 0 \nL 27.59375 0 \nQ 17.1875 0 13.234375 3.875 \nQ 9.28125 7.765625 9.28125 18.015625 \nL 9.28125 47.703125 \nL 2.6875 47.703125 \nL 2.6875 54.6875 \nL 9.28125 54.6875 \nL 9.28125 70.21875 \nz\n\" id=\"DejaVuSans-116\"/>\n      <path d=\"M 32.171875 -5.078125 \nQ 28.375 -14.84375 24.75 -17.8125 \nQ 21.140625 -20.796875 15.09375 -20.796875 \nL 7.90625 -20.796875 \nL 7.90625 -13.28125 \nL 13.1875 -13.28125 \nQ 16.890625 -13.28125 18.9375 -11.515625 \nQ 21 -9.765625 23.484375 -3.21875 \nL 25.09375 0.875 \nL 2.984375 54.6875 \nL 12.5 54.6875 \nL 29.59375 11.921875 \nL 46.6875 54.6875 \nL 56.203125 54.6875 \nz\n\" id=\"DejaVuSans-121\"/>\n     </defs>\n     <use xlink:href=\"#DejaVuSans-67\"/>\n     <use x=\"69.824219\" xlink:href=\"#DejaVuSans-111\"/>\n     <use x=\"131.005859\" xlink:href=\"#DejaVuSans-115\"/>\n     <use x=\"183.105469\" xlink:href=\"#DejaVuSans-105\"/>\n     <use x=\"210.888672\" xlink:href=\"#DejaVuSans-110\"/>\n     <use x=\"274.267578\" xlink:href=\"#DejaVuSans-101\"/>\n     <use x=\"335.791016\" xlink:href=\"#DejaVuSans-32\"/>\n     <use x=\"367.578125\" xlink:href=\"#DejaVuSans-83\"/>\n     <use x=\"431.054688\" xlink:href=\"#DejaVuSans-105\"/>\n     <use x=\"458.837891\" xlink:href=\"#DejaVuSans-109\"/>\n     <use x=\"556.25\" xlink:href=\"#DejaVuSans-105\"/>\n     <use x=\"584.033203\" xlink:href=\"#DejaVuSans-108\"/>\n     <use x=\"611.816406\" xlink:href=\"#DejaVuSans-97\"/>\n     <use x=\"673.095703\" xlink:href=\"#DejaVuSans-114\"/>\n     <use x=\"714.208984\" xlink:href=\"#DejaVuSans-105\"/>\n     <use x=\"741.992188\" xlink:href=\"#DejaVuSans-116\"/>\n     <use x=\"781.201172\" xlink:href=\"#DejaVuSans-121\"/>\n    </g>\n   </g>\n   <g id=\"legend_2\">\n    <g id=\"patch_13\">\n     <path d=\"M 933.521818 81.59595 \nL 1122.607131 81.59595 \nQ 1125.407131 81.59595 1125.407131 78.79595 \nL 1125.407131 38.31845 \nQ 1125.407131 35.51845 1122.607131 35.51845 \nL 933.521818 35.51845 \nQ 930.721818 35.51845 930.721818 38.31845 \nL 930.721818 78.79595 \nQ 930.721818 81.59595 933.521818 81.59595 \nz\n\" style=\"fill:#f0f0f0;opacity:0.8;stroke:#cccccc;stroke-linejoin:miter;stroke-width:0.5;\"/>\n    </g>\n    <g id=\"line2d_58\">\n     <path d=\"M 936.321818 46.856262 \nL 964.321818 46.856262 \n\" style=\"fill:none;stroke:#008fd5;stroke-width:4;\"/>\n    </g>\n    <g id=\"line2d_59\"/>\n    <g id=\"text_31\">\n     <!-- cosine_similarity -->\n     <g transform=\"translate(975.521818 51.756262)scale(0.14 -0.14)\">\n      <use xlink:href=\"#DejaVuSans-99\"/>\n      <use x=\"54.980469\" xlink:href=\"#DejaVuSans-111\"/>\n      <use x=\"116.162109\" xlink:href=\"#DejaVuSans-115\"/>\n      <use x=\"168.261719\" xlink:href=\"#DejaVuSans-105\"/>\n      <use x=\"196.044922\" xlink:href=\"#DejaVuSans-110\"/>\n      <use x=\"259.423828\" xlink:href=\"#DejaVuSans-101\"/>\n      <use x=\"320.947266\" xlink:href=\"#DejaVuSans-95\"/>\n      <use x=\"370.947266\" xlink:href=\"#DejaVuSans-115\"/>\n      <use x=\"423.046875\" xlink:href=\"#DejaVuSans-105\"/>\n      <use x=\"450.830078\" xlink:href=\"#DejaVuSans-109\"/>\n      <use x=\"548.242188\" xlink:href=\"#DejaVuSans-105\"/>\n      <use x=\"576.025391\" xlink:href=\"#DejaVuSans-108\"/>\n      <use x=\"603.808594\" xlink:href=\"#DejaVuSans-97\"/>\n      <use x=\"665.087891\" xlink:href=\"#DejaVuSans-114\"/>\n      <use x=\"706.201172\" xlink:href=\"#DejaVuSans-105\"/>\n      <use x=\"733.984375\" xlink:href=\"#DejaVuSans-116\"/>\n      <use x=\"773.193359\" xlink:href=\"#DejaVuSans-121\"/>\n     </g>\n    </g>\n    <g id=\"line2d_60\">\n     <path d=\"M 936.321818 67.795012 \nL 964.321818 67.795012 \n\" style=\"fill:none;stroke:#fc4f30;stroke-width:4;\"/>\n    </g>\n    <g id=\"line2d_61\"/>\n    <g id=\"text_32\">\n     <!-- val_cosine_similarity -->\n     <g transform=\"translate(975.521818 72.695012)scale(0.14 -0.14)\">\n      <use xlink:href=\"#DejaVuSans-118\"/>\n      <use x=\"59.179688\" xlink:href=\"#DejaVuSans-97\"/>\n      <use x=\"120.458984\" xlink:href=\"#DejaVuSans-108\"/>\n      <use x=\"148.242188\" xlink:href=\"#DejaVuSans-95\"/>\n      <use x=\"198.242188\" xlink:href=\"#DejaVuSans-99\"/>\n      <use x=\"253.222656\" xlink:href=\"#DejaVuSans-111\"/>\n      <use x=\"314.404297\" xlink:href=\"#DejaVuSans-115\"/>\n      <use x=\"366.503906\" xlink:href=\"#DejaVuSans-105\"/>\n      <use x=\"394.287109\" xlink:href=\"#DejaVuSans-110\"/>\n      <use x=\"457.666016\" xlink:href=\"#DejaVuSans-101\"/>\n      <use x=\"519.189453\" xlink:href=\"#DejaVuSans-95\"/>\n      <use x=\"569.189453\" xlink:href=\"#DejaVuSans-115\"/>\n      <use x=\"621.289062\" xlink:href=\"#DejaVuSans-105\"/>\n      <use x=\"649.072266\" xlink:href=\"#DejaVuSans-109\"/>\n      <use x=\"746.484375\" xlink:href=\"#DejaVuSans-105\"/>\n      <use x=\"774.267578\" xlink:href=\"#DejaVuSans-108\"/>\n      <use x=\"802.050781\" xlink:href=\"#DejaVuSans-97\"/>\n      <use x=\"863.330078\" xlink:href=\"#DejaVuSans-114\"/>\n      <use x=\"904.443359\" xlink:href=\"#DejaVuSans-105\"/>\n      <use x=\"932.226562\" xlink:href=\"#DejaVuSans-116\"/>\n      <use x=\"971.435547\" xlink:href=\"#DejaVuSans-121\"/>\n     </g>\n    </g>\n   </g>\n  </g>\n </g>\n <defs>\n  <clipPath id=\"p3762c53aa3\">\n   <rect height=\"291.6\" width=\"711.818182\" x=\"69.54\" y=\"28.51845\"/>\n  </clipPath>\n  <clipPath id=\"p04ea511cd7\">\n   <rect height=\"291.6\" width=\"711.818182\" x=\"923.721818\" y=\"28.51845\"/>\n  </clipPath>\n </defs>\n</svg>\n",
      "image/png": "[encoded data removed]"
     },
     "metadata": {}
    },
    {
     "output_type": "stream",
     "name": "stdout",
     "text": [
      "time elapsed: 1103.613273859024\nloss 0.00418981583788991\ncosine_similarity 0.9335322380065918\nval_loss 0.011732532642781734\nval_cosine_similarity 0.8290506601333618\n"
     ]
    }
   ],
   "source": [
    "\n",
    "with tf.device('/gpu:0'):\n",
    "  history = model.fit(\n",
    "      X_train_scaled,Y_train_scaled,\n",
    "      epochs=50,\n",
    "      batch_size = batch_size,\n",
    "      validation_data=(X_test_scaled,Y_test_scaled),\n",
    "      callbacks=[custom_callback],\n",
    "      verbose=1\n",
    "  )\n",
    "\n",
    "print(\"loss\",history.history['loss'][-1])\n",
    "print(\"cosine_similarity\",history.history['cosine_similarity'][-1])\n",
    "print(\"val_loss\",history.history['val_loss'][-1])\n",
    "print(\"val_cosine_similarity\",history.history['val_cosine_similarity'][-1])"
   ]
  },
  {
   "cell_type": "markdown",
   "metadata": {
    "id": "eFH0css-CUdR"
   },
   "source": [
    "## Evaluation"
   ]
  },
  {
   "cell_type": "code",
   "execution_count": null,
   "metadata": {
    "colab": {
     "base_uri": "https://localhost:8080/"
    },
    "id": "JVKjN_YHhVt3",
    "outputId": "0a9e1813-8fe3-44dc-f156-a57945429f1b"
   },
   "outputs": [],
   "source": [
    "model.evaluate(X_test_scaled,Y_test_scaled)"
   ]
  },
  {
   "cell_type": "code",
   "execution_count": null,
   "metadata": {
    "id": "IE9iQBENDXY8"
   },
   "outputs": [],
   "source": [
    "# Y_test_pred = model.predict(np.expand_dims(X_test_scaled[:,0,:],axis=0))[0]\n",
    "Y_test_pred = model.predict(x=X_test_scaled)\n",
    "Y_test_true = Y_test_scaled\n",
    "\n"
   ]
  },
  {
   "cell_type": "code",
   "execution_count": null,
   "metadata": {
    "colab": {
     "base_uri": "https://localhost:8080/",
     "height": 320
    },
    "id": "TRa6N0kbFl_c",
    "outputId": "5c871d50-52a0-4438-ebbf-7b4cc7d49896"
   },
   "outputs": [],
   "source": [
    "view_length = 100\n",
    "view_landmark = np.random.randint(51)\n",
    "plt.title('landmark: ' + str(view_landmark))\n",
    "pos = np.random.randint(len(Y_test_pred)-view_length)\n",
    "plt.plot(Y_test_true[pos:pos+view_length,view_landmark], label=\"true\")\n",
    "plt.plot(Y_test_pred[pos:pos+view_length,view_landmark], label=\"pred\")\n",
    "plt.legend()\n"
   ]
  },
  {
   "cell_type": "markdown",
   "metadata": {
    "id": "2hOnkl8T_tty"
   },
   "source": [
    "## Prediction and save the result (WIP)"
   ]
  },
  {
   "cell_type": "code",
   "execution_count": null,
   "metadata": {
    "colab": {
     "base_uri": "https://localhost:8080/"
    },
    "id": "FQw8HBxW_2p6",
    "outputId": "d313714a-6a78-49d9-ac10-534b825b5d39"
   },
   "outputs": [],
   "source": [
    "import os\n",
    "import gc\n",
    "import numpy as np\n",
    "import pandas as pd\n",
    "import librosa\n",
    "import tensorflow as tf\n",
    "from scipy.signal import butter, sosfilt\n",
    "\n",
    "\n",
    "def custom_scale(arr, a, b):\n",
    "    return arr*a + b\n",
    "\n",
    "\n",
    "def custom_inverse_scale(arr, a, b):\n",
    "    return (arr-b)/a\n",
    "\n",
    "\n",
    "# create labels\n",
    "landmark_indexes = [5, 6, 7, 8, 31, 32, 33, 48,\n",
    "                    49, 50, 51, 57, 58, 59, 60, 61, 62, 66, 67]\n",
    "center_indexes = [8, 33, 51, 57, 62, 66]\n",
    "landmark_labels = [\"X_\"+str(i)\n",
    "                   for i in landmark_indexes if i not in center_indexes]\n",
    "landmark_labels += [\"Y_\"+str(i) for i in landmark_indexes]\n",
    "landmark_labels += [\"Z_\"+str(i) for i in landmark_indexes]\n",
    "\n",
    "# mirror landmark pair\n",
    "mirror_landmark_pair = [[9,7], [10,6], [11,5], [34,32], [35,31], [52,50], \n",
    "                        [53,49], [54,48], [55,59], [56,58], [63,61], [64,60], [65,67]]\n",
    "\n",
    "# all indexes\n",
    "all_indexes = [5, 6, 7, 8, 9, 10, 11, 31, 32, 33, 34, 35, 48, 49, 50, 51, 52,\n",
    "               53, 54, 55, 56, 57, 58, 59, 60, 61, 62, 63, 64, 65, 66, 67]\n",
    "                \n",
    "\n",
    "\n",
    "# audio params\n",
    "frame_length = 0.02  # 20ms\n",
    "audio_sample_rate = 44100\n",
    "hop_length = int(audio_sample_rate*frame_length)  # 882 frames for 20 ms\n",
    "\n",
    "# import model\n",
    "# saved_model_dir = \"/home/alkhemi/Documents/test/\"\n",
    "# model = AttentionModel(num_layers=1, d_model=13, num_heads=1, \n",
    "#                          dff=512, maximum_position_encoding=10)\n",
    "# temp_input = tf.random.uniform((1, 10, 13), dtype=tf.float16, minval=0, maxval=1)\n",
    "# temp_output = model(x=temp_input, training=False, mask=None )\n",
    "# model.load_weights(saved_model_dir+\"Attention-400-0.0126-0.2547-0.3202.h5\")\n",
    "# model.summary()\n",
    "\n",
    "# get scale coefs\n",
    "npy_data_dir = \"/home/alkhemi/Documents/thesis/npy_data/\"\n",
    "x_scale_coefs = np.load(npy_data_dir+\"s01_x_scale_coef.npy\")\n",
    "y_scale_coefs = np.load(npy_data_dir+\"s01_y_scale_coef.npy\")\n",
    "\n",
    "# create noise filter\n",
    "sos = butter(13, [60, 8000], output='sos', btype='bandpass', fs=44100)\n",
    "\n",
    "audio_dir = \"/home/alkhemi/Documents/thesis/evaluation/test/\"\n",
    "audio_paths = [audio_dir +\n",
    "               item for item in os.listdir(audio_dir) if item[-4:] == \".wav\"]\n",
    "audio_paths.sort()\n",
    "# print(len(audio_paths))\n",
    "\n",
    "output_dir = \"/home/alkhemi/Documents/thesis/evaluation/test/\"\n",
    "filename_prefix = \"\"\n",
    "filename_suffix = \"_\"+model_name\n",
    "\n",
    "with tf.device('/gpu:0'):\n",
    "  for audio_path in audio_paths:\n",
    "      print(\"processing\", audio_path)\n",
    "      # load audio (mono)\n",
    "      audio_array, sr = librosa.load(\n",
    "          audio_path, sr=audio_sample_rate, mono=True)\n",
    "\n",
    "      # noise filter\n",
    "      audio_array_filtered = sosfilt(sos, audio_array)\n",
    "\n",
    "      # get mfcc\n",
    "      MFCCs = librosa.feature.mfcc(\n",
    "          audio_array_filtered,\n",
    "          sr=sr,\n",
    "          n_fft=512,  # window size\n",
    "          hop_length=hop_length,\n",
    "          n_mfcc=13,  # num of coefficients\n",
    "          n_mels=40,  # num of mel band filters\n",
    "          window=\"hann\",\n",
    "          htk=True,\n",
    "      ).transpose()\n",
    "\n",
    "      # scale\n",
    "      scaled_MFCCs = np.zeros(shape=MFCCs.shape, dtype=\"float16\")\n",
    "      for i in range(13):\n",
    "          scaled_MFCCs[:, i] = custom_scale(\n",
    "              arr=MFCCs[:, i],\n",
    "              a=x_scale_coefs[i, 0],\n",
    "              b=x_scale_coefs[i, 1])\n",
    "\n",
    "      # get landmark predict\n",
    "      landmarks_dis_scaled = np.zeros(shape = (scaled_MFCCs.shape[0],51), dtype='float16')\n",
    "      for i in range(landmarks_dis_scaled.shape[0]-10):\n",
    "        pos = i + 10\n",
    "        start_time = time.time()\n",
    "        landmarks_dis_scaled[pos,:] = model.predict(\n",
    "            np.expand_dims(scaled_MFCCs[pos-10:pos,:], axis=0))\n",
    "        print(time.time()-start_time)\n",
    "\n",
    "      # inverse scale\n",
    "      landmarks_displacement = np.zeros(\n",
    "          shape=landmarks_dis_scaled.shape, dtype='float16')\n",
    "      for i in range(51):\n",
    "          landmarks_displacement[:, i] = custom_inverse_scale(\n",
    "              arr=landmarks_dis_scaled[:, i],\n",
    "              a=y_scale_coefs[i, 0],\n",
    "              b=y_scale_coefs[i, 1])\n",
    "      \n",
    "      # create dataframe and generate other half of the face\n",
    "      df = pd.DataFrame()\n",
    "      # make sure all data exists\n",
    "      for axis in [\"X_\",\"Y_\",\"Z_\"]:\n",
    "        for i in all_indexes:\n",
    "          df[axis+str(i)] = [0]*landmarks_displacement.shape[0]\n",
    "\n",
    "      # left side landmarks\n",
    "      for i in range(len(landmark_labels)):\n",
    "        df[landmark_labels[i]] = landmarks_displacement[:,i]\n",
    "\n",
    "      # the other half\n",
    "      for pair in mirror_landmark_pair:\n",
    "        df[\"X_\"+str(pair[0])] = -df[\"X_\"+str(pair[1])]\n",
    "        df[\"Y_\"+str(pair[0])] = df[\"Y_\"+str(pair[1])]\n",
    "        df[\"Z_\"+str(pair[0])] = df[\"Z_\"+str(pair[1])]\n",
    "      \n",
    "      # make sure x value of center landmark is zero\n",
    "      for i in center_indexes:\n",
    "        df[\"X_\"+str(i)] = [0]*len(df)\n",
    "\n",
    "      # save csv\n",
    "      filename = audio_path.split(\"/\")[-1].split(\".\")[-2]\n",
    "      df.to_csv(output_dir + filename_prefix + filename + filename_suffix\n",
    "                + \"_pred.csv\", index=False, float_format='%.3f')\n",
    "      del audio_array, sr, audio_array_filtered, MFCCs, scaled_MFCCs\n",
    "      del landmarks_dis_scaled, landmarks_displacement\n",
    "      gc.collect()"
   ]
  }
 ],
 "metadata": {
  "accelerator": "GPU",
  "colab": {
   "collapsed_sections": [
    "J0Qjg6vuaHNt",
    "QB80O3WTX51q",
    "nBQuibYA4n0n",
    "xluDl5cXYy4y",
    "kmzGPEy64qmA",
    "RdDqGayx67vv",
    "7e7hKcxn6-zd",
    "aJcOHWt06mOL",
    "QfcsSWswSdGV",
    "2hOnkl8T_tty"
   ],
   "name": "Speech Animation Attention is All You Need.ipynb",
   "provenance": []
  },
  "kernelspec": {
   "display_name": "Python 3",
   "language": "python",
   "name": "python3"
  },
  "language_info": {
   "codemirror_mode": {
    "name": "ipython",
    "version": 3
   },
   "file_extension": ".py",
   "mimetype": "text/x-python",
   "name": "python",
   "nbconvert_exporter": "python",
   "pygments_lexer": "ipython3",
   "version": "3.8.6-final"
  }
 },
 "nbformat": 4,
 "nbformat_minor": 1
}